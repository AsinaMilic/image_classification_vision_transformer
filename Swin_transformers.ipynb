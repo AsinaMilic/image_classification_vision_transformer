{
  "cells": [
    {
      "cell_type": "markdown",
      "metadata": {
        "id": "ZLQMjCgkNd-M"
      },
      "source": [
        "# Image classification with Swin Transformers\n",
        "\n",
        "\n"
      ]
    },
    {
      "cell_type": "markdown",
      "metadata": {
        "id": "sqX_TBsENd-P"
      },
      "source": [
        "This example implements [Swin Transformer: Hierarchical Vision Transformer using Shifted Windows](https://arxiv.org/abs/2103.14030)\n",
        "by Liu et al. for image classification, and demonstrates it on the\n",
        "[CIFAR-100 dataset](https://www.cs.toronto.edu/~kriz/cifar.html).\n",
        "\n",
        "Swin Transformer (**S**hifted **Win**dow Transformer) can serve as a general-purpose backbone\n",
        "for computer vision. Swin Transformer is a hierarchical Transformer whose\n",
        "representations are computed with _shifted windows_. The shifted window scheme\n",
        "brings greater efficiency by limiting self-attention computation to\n",
        "non-overlapping local windows while also allowing for cross-window connections.\n",
        "This architecture has the flexibility to model information at various scales and has\n",
        "a linear computational complexity with respect to image size.\n",
        "\n",
        "This example requires TensorFlow 2.5 or higher, as well as TensorFlow Addons,\n",
        "which can be installed using the following commands:"
      ]
    },
    {
      "cell_type": "code",
      "execution_count": 1,
      "metadata": {
        "colab": {
          "base_uri": "https://localhost:8080/"
        },
        "id": "pEt1QHUiNd-R",
        "outputId": "93cda03c-9760-47f8-d41e-ff4f2916e4e3"
      },
      "outputs": [
        {
          "output_type": "stream",
          "name": "stdout",
          "text": [
            "Collecting tensorflow-addons\n",
            "  Downloading tensorflow_addons-0.21.0-cp310-cp310-manylinux_2_17_x86_64.manylinux2014_x86_64.whl (612 kB)\n",
            "\u001b[2K     \u001b[90m━━━━━━━━━━━━━━━━━━━━━━━━━━━━━━━━━━━━━━━\u001b[0m \u001b[32m612.1/612.1 kB\u001b[0m \u001b[31m5.8 MB/s\u001b[0m eta \u001b[36m0:00:00\u001b[0m\n",
            "\u001b[?25hRequirement already satisfied: packaging in /usr/local/lib/python3.10/dist-packages (from tensorflow-addons) (23.1)\n",
            "Collecting typeguard<3.0.0,>=2.7 (from tensorflow-addons)\n",
            "  Downloading typeguard-2.13.3-py3-none-any.whl (17 kB)\n",
            "Installing collected packages: typeguard, tensorflow-addons\n",
            "Successfully installed tensorflow-addons-0.21.0 typeguard-2.13.3\n",
            "Collecting tensorflow==2.8.0\n",
            "  Downloading tensorflow-2.8.0-cp310-cp310-manylinux2010_x86_64.whl (497.6 MB)\n",
            "\u001b[2K     \u001b[90m━━━━━━━━━━━━━━━━━━━━━━━━━━━━━━━━━━━━━━━\u001b[0m \u001b[32m497.6/497.6 MB\u001b[0m \u001b[31m2.9 MB/s\u001b[0m eta \u001b[36m0:00:00\u001b[0m\n",
            "\u001b[?25hRequirement already satisfied: absl-py>=0.4.0 in /usr/local/lib/python3.10/dist-packages (from tensorflow==2.8.0) (1.4.0)\n",
            "Requirement already satisfied: astunparse>=1.6.0 in /usr/local/lib/python3.10/dist-packages (from tensorflow==2.8.0) (1.6.3)\n",
            "Requirement already satisfied: flatbuffers>=1.12 in /usr/local/lib/python3.10/dist-packages (from tensorflow==2.8.0) (23.5.26)\n",
            "Requirement already satisfied: gast>=0.2.1 in /usr/local/lib/python3.10/dist-packages (from tensorflow==2.8.0) (0.4.0)\n",
            "Requirement already satisfied: google-pasta>=0.1.1 in /usr/local/lib/python3.10/dist-packages (from tensorflow==2.8.0) (0.2.0)\n",
            "Requirement already satisfied: h5py>=2.9.0 in /usr/local/lib/python3.10/dist-packages (from tensorflow==2.8.0) (3.8.0)\n",
            "Collecting keras-preprocessing>=1.1.1 (from tensorflow==2.8.0)\n",
            "  Downloading Keras_Preprocessing-1.1.2-py2.py3-none-any.whl (42 kB)\n",
            "\u001b[2K     \u001b[90m━━━━━━━━━━━━━━━━━━━━━━━━━━━━━━━━━━━━━━━━\u001b[0m \u001b[32m42.6/42.6 kB\u001b[0m \u001b[31m5.4 MB/s\u001b[0m eta \u001b[36m0:00:00\u001b[0m\n",
            "\u001b[?25hRequirement already satisfied: libclang>=9.0.1 in /usr/local/lib/python3.10/dist-packages (from tensorflow==2.8.0) (16.0.6)\n",
            "Requirement already satisfied: numpy>=1.20 in /usr/local/lib/python3.10/dist-packages (from tensorflow==2.8.0) (1.22.4)\n",
            "Requirement already satisfied: opt-einsum>=2.3.2 in /usr/local/lib/python3.10/dist-packages (from tensorflow==2.8.0) (3.3.0)\n",
            "Requirement already satisfied: protobuf>=3.9.2 in /usr/local/lib/python3.10/dist-packages (from tensorflow==2.8.0) (3.20.3)\n",
            "Requirement already satisfied: setuptools in /usr/local/lib/python3.10/dist-packages (from tensorflow==2.8.0) (67.7.2)\n",
            "Requirement already satisfied: six>=1.12.0 in /usr/local/lib/python3.10/dist-packages (from tensorflow==2.8.0) (1.16.0)\n",
            "Requirement already satisfied: termcolor>=1.1.0 in /usr/local/lib/python3.10/dist-packages (from tensorflow==2.8.0) (2.3.0)\n",
            "Requirement already satisfied: typing-extensions>=3.6.6 in /usr/local/lib/python3.10/dist-packages (from tensorflow==2.8.0) (4.7.1)\n",
            "Requirement already satisfied: wrapt>=1.11.0 in /usr/local/lib/python3.10/dist-packages (from tensorflow==2.8.0) (1.14.1)\n",
            "Collecting tensorboard<2.9,>=2.8 (from tensorflow==2.8.0)\n",
            "  Downloading tensorboard-2.8.0-py3-none-any.whl (5.8 MB)\n",
            "\u001b[2K     \u001b[90m━━━━━━━━━━━━━━━━━━━━━━━━━━━━━━━━━━━━━━━━\u001b[0m \u001b[32m5.8/5.8 MB\u001b[0m \u001b[31m112.9 MB/s\u001b[0m eta \u001b[36m0:00:00\u001b[0m\n",
            "\u001b[?25hCollecting tf-estimator-nightly==2.8.0.dev2021122109 (from tensorflow==2.8.0)\n",
            "  Downloading tf_estimator_nightly-2.8.0.dev2021122109-py2.py3-none-any.whl (462 kB)\n",
            "\u001b[2K     \u001b[90m━━━━━━━━━━━━━━━━━━━━━━━━━━━━━━━━━━━━━━\u001b[0m \u001b[32m462.5/462.5 kB\u001b[0m \u001b[31m47.7 MB/s\u001b[0m eta \u001b[36m0:00:00\u001b[0m\n",
            "\u001b[?25hCollecting keras<2.9,>=2.8.0rc0 (from tensorflow==2.8.0)\n",
            "  Downloading keras-2.8.0-py2.py3-none-any.whl (1.4 MB)\n",
            "\u001b[2K     \u001b[90m━━━━━━━━━━━━━━━━━━━━━━━━━━━━━━━━━━━━━━━━\u001b[0m \u001b[32m1.4/1.4 MB\u001b[0m \u001b[31m85.9 MB/s\u001b[0m eta \u001b[36m0:00:00\u001b[0m\n",
            "\u001b[?25hRequirement already satisfied: tensorflow-io-gcs-filesystem>=0.23.1 in /usr/local/lib/python3.10/dist-packages (from tensorflow==2.8.0) (0.32.0)\n",
            "Requirement already satisfied: grpcio<2.0,>=1.24.3 in /usr/local/lib/python3.10/dist-packages (from tensorflow==2.8.0) (1.56.0)\n",
            "Requirement already satisfied: wheel<1.0,>=0.23.0 in /usr/local/lib/python3.10/dist-packages (from astunparse>=1.6.0->tensorflow==2.8.0) (0.40.0)\n",
            "Requirement already satisfied: google-auth<3,>=1.6.3 in /usr/local/lib/python3.10/dist-packages (from tensorboard<2.9,>=2.8->tensorflow==2.8.0) (2.17.3)\n",
            "Collecting google-auth-oauthlib<0.5,>=0.4.1 (from tensorboard<2.9,>=2.8->tensorflow==2.8.0)\n",
            "  Downloading google_auth_oauthlib-0.4.6-py2.py3-none-any.whl (18 kB)\n",
            "Requirement already satisfied: markdown>=2.6.8 in /usr/local/lib/python3.10/dist-packages (from tensorboard<2.9,>=2.8->tensorflow==2.8.0) (3.4.3)\n",
            "Requirement already satisfied: requests<3,>=2.21.0 in /usr/local/lib/python3.10/dist-packages (from tensorboard<2.9,>=2.8->tensorflow==2.8.0) (2.27.1)\n",
            "Collecting tensorboard-data-server<0.7.0,>=0.6.0 (from tensorboard<2.9,>=2.8->tensorflow==2.8.0)\n",
            "  Downloading tensorboard_data_server-0.6.1-py3-none-manylinux2010_x86_64.whl (4.9 MB)\n",
            "\u001b[2K     \u001b[90m━━━━━━━━━━━━━━━━━━━━━━━━━━━━━━━━━━━━━━━━\u001b[0m \u001b[32m4.9/4.9 MB\u001b[0m \u001b[31m101.7 MB/s\u001b[0m eta \u001b[36m0:00:00\u001b[0m\n",
            "\u001b[?25hCollecting tensorboard-plugin-wit>=1.6.0 (from tensorboard<2.9,>=2.8->tensorflow==2.8.0)\n",
            "  Downloading tensorboard_plugin_wit-1.8.1-py3-none-any.whl (781 kB)\n",
            "\u001b[2K     \u001b[90m━━━━━━━━━━━━━━━━━━━━━━━━━━━━━━━━━━━━━━\u001b[0m \u001b[32m781.3/781.3 kB\u001b[0m \u001b[31m52.7 MB/s\u001b[0m eta \u001b[36m0:00:00\u001b[0m\n",
            "\u001b[?25hRequirement already satisfied: werkzeug>=0.11.15 in /usr/local/lib/python3.10/dist-packages (from tensorboard<2.9,>=2.8->tensorflow==2.8.0) (2.3.6)\n",
            "Requirement already satisfied: cachetools<6.0,>=2.0.0 in /usr/local/lib/python3.10/dist-packages (from google-auth<3,>=1.6.3->tensorboard<2.9,>=2.8->tensorflow==2.8.0) (5.3.1)\n",
            "Requirement already satisfied: pyasn1-modules>=0.2.1 in /usr/local/lib/python3.10/dist-packages (from google-auth<3,>=1.6.3->tensorboard<2.9,>=2.8->tensorflow==2.8.0) (0.3.0)\n",
            "Requirement already satisfied: rsa<5,>=3.1.4 in /usr/local/lib/python3.10/dist-packages (from google-auth<3,>=1.6.3->tensorboard<2.9,>=2.8->tensorflow==2.8.0) (4.9)\n",
            "Requirement already satisfied: requests-oauthlib>=0.7.0 in /usr/local/lib/python3.10/dist-packages (from google-auth-oauthlib<0.5,>=0.4.1->tensorboard<2.9,>=2.8->tensorflow==2.8.0) (1.3.1)\n",
            "Requirement already satisfied: urllib3<1.27,>=1.21.1 in /usr/local/lib/python3.10/dist-packages (from requests<3,>=2.21.0->tensorboard<2.9,>=2.8->tensorflow==2.8.0) (1.26.16)\n",
            "Requirement already satisfied: certifi>=2017.4.17 in /usr/local/lib/python3.10/dist-packages (from requests<3,>=2.21.0->tensorboard<2.9,>=2.8->tensorflow==2.8.0) (2023.5.7)\n",
            "Requirement already satisfied: charset-normalizer~=2.0.0 in /usr/local/lib/python3.10/dist-packages (from requests<3,>=2.21.0->tensorboard<2.9,>=2.8->tensorflow==2.8.0) (2.0.12)\n",
            "Requirement already satisfied: idna<4,>=2.5 in /usr/local/lib/python3.10/dist-packages (from requests<3,>=2.21.0->tensorboard<2.9,>=2.8->tensorflow==2.8.0) (3.4)\n",
            "Requirement already satisfied: MarkupSafe>=2.1.1 in /usr/local/lib/python3.10/dist-packages (from werkzeug>=0.11.15->tensorboard<2.9,>=2.8->tensorflow==2.8.0) (2.1.3)\n",
            "Requirement already satisfied: pyasn1<0.6.0,>=0.4.6 in /usr/local/lib/python3.10/dist-packages (from pyasn1-modules>=0.2.1->google-auth<3,>=1.6.3->tensorboard<2.9,>=2.8->tensorflow==2.8.0) (0.5.0)\n",
            "Requirement already satisfied: oauthlib>=3.0.0 in /usr/local/lib/python3.10/dist-packages (from requests-oauthlib>=0.7.0->google-auth-oauthlib<0.5,>=0.4.1->tensorboard<2.9,>=2.8->tensorflow==2.8.0) (3.2.2)\n",
            "Installing collected packages: tf-estimator-nightly, tensorboard-plugin-wit, keras, tensorboard-data-server, keras-preprocessing, google-auth-oauthlib, tensorboard, tensorflow\n",
            "  Attempting uninstall: keras\n",
            "    Found existing installation: keras 2.12.0\n",
            "    Uninstalling keras-2.12.0:\n",
            "      Successfully uninstalled keras-2.12.0\n",
            "  Attempting uninstall: tensorboard-data-server\n",
            "    Found existing installation: tensorboard-data-server 0.7.1\n",
            "    Uninstalling tensorboard-data-server-0.7.1:\n",
            "      Successfully uninstalled tensorboard-data-server-0.7.1\n",
            "  Attempting uninstall: google-auth-oauthlib\n",
            "    Found existing installation: google-auth-oauthlib 1.0.0\n",
            "    Uninstalling google-auth-oauthlib-1.0.0:\n",
            "      Successfully uninstalled google-auth-oauthlib-1.0.0\n",
            "  Attempting uninstall: tensorboard\n",
            "    Found existing installation: tensorboard 2.12.3\n",
            "    Uninstalling tensorboard-2.12.3:\n",
            "      Successfully uninstalled tensorboard-2.12.3\n",
            "  Attempting uninstall: tensorflow\n",
            "    Found existing installation: tensorflow 2.12.0\n",
            "    Uninstalling tensorflow-2.12.0:\n",
            "      Successfully uninstalled tensorflow-2.12.0\n",
            "Successfully installed google-auth-oauthlib-0.4.6 keras-2.8.0 keras-preprocessing-1.1.2 tensorboard-2.8.0 tensorboard-data-server-0.6.1 tensorboard-plugin-wit-1.8.1 tensorflow-2.8.0 tf-estimator-nightly-2.8.0.dev2021122109\n",
            "Requirement already satisfied: opencv-python in /usr/local/lib/python3.10/dist-packages (4.7.0.72)\n",
            "Requirement already satisfied: numpy>=1.21.2 in /usr/local/lib/python3.10/dist-packages (from opencv-python) (1.22.4)\n",
            "Mounted at /content/drive\n"
          ]
        }
      ],
      "source": [
        "!pip install tensorflow-addons\n",
        "!pip install tensorflow==2.8.0\n",
        "!pip install opencv-python\n",
        "\n",
        "import os\n",
        "import cv2\n",
        "import numpy as np\n",
        "from sklearn.preprocessing import LabelEncoder\n",
        "from google.colab import drive\n",
        "drive.mount('/content/drive')"
      ]
    },
    {
      "cell_type": "markdown",
      "metadata": {
        "id": "XQtuymrPNd-U"
      },
      "source": [
        "## Setup"
      ]
    },
    {
      "cell_type": "code",
      "execution_count": 2,
      "metadata": {
        "id": "kF0sYGVONd-V",
        "colab": {
          "base_uri": "https://localhost:8080/"
        },
        "outputId": "eab8a74e-7174-477b-b03c-f64837aaae1c"
      },
      "outputs": [
        {
          "output_type": "stream",
          "name": "stderr",
          "text": [
            "/usr/local/lib/python3.10/dist-packages/tensorflow_addons/utils/tfa_eol_msg.py:23: UserWarning: \n",
            "\n",
            "TensorFlow Addons (TFA) has ended development and introduction of new features.\n",
            "TFA has entered a minimal maintenance and release mode until a planned end of life in May 2024.\n",
            "Please modify downstream libraries to take dependencies from other repositories in our TensorFlow community (e.g. Keras, Keras-CV, and Keras-NLP). \n",
            "\n",
            "For more information see: https://github.com/tensorflow/addons/issues/2807 \n",
            "\n",
            "  warnings.warn(\n",
            "/usr/local/lib/python3.10/dist-packages/tensorflow_addons/utils/ensure_tf_install.py:53: UserWarning: Tensorflow Addons supports using Python ops for all Tensorflow versions above or equal to 2.11.0 and strictly below 2.14.0 (nightly versions are not supported). \n",
            " The versions of TensorFlow you are currently using is 2.8.0 and is not supported. \n",
            "Some things might work, some things might not.\n",
            "If you were to encounter a bug, do not file an issue.\n",
            "If you want to make sure you're using a tested and supported configuration, either change the TensorFlow version or the TensorFlow Addons's version. \n",
            "You can find the compatibility matrix in TensorFlow Addon's readme:\n",
            "https://github.com/tensorflow/addons\n",
            "  warnings.warn(\n"
          ]
        }
      ],
      "source": [
        "import matplotlib.pyplot as plt\n",
        "import numpy as np\n",
        "import tensorflow as tf\n",
        "import tensorflow_addons as tfa\n",
        "from tensorflow import keras\n",
        "from tensorflow.keras import layers"
      ]
    },
    {
      "cell_type": "markdown",
      "metadata": {
        "id": "N0pLZdhzNd-X"
      },
      "source": [
        "## Prepare the data\n",
        "\n",
        "We load the CIFAR-100 dataset through `tf.keras.datasets`,\n",
        "normalize the images, and convert the integer labels to one-hot encoded vectors."
      ]
    },
    {
      "cell_type": "code",
      "execution_count": 3,
      "metadata": {
        "id": "h8ByI28fNd-Y"
      },
      "outputs": [],
      "source": [
        "num_classes = 10\n",
        "input_shape = (512, 512, 3)\n",
        "\n",
        "train_dir = '/content/drive/MyDrive/Chiro10/train_512'\n",
        "test_dir = '/content/drive/MyDrive/Chiro10/test_512'\n",
        "val_dir = '/content/drive/MyDrive/Chiro10/val_512'\n",
        "\n",
        "x_train = []\n",
        "y_train = []\n",
        "\n",
        "x_test = []\n",
        "y_test = []\n",
        "\n",
        "x_val = []\n",
        "y_val = []\n",
        "\n",
        "# Load images for the training set\n",
        "for class_name in os.listdir(train_dir):\n",
        "    class_dir = os.path.join(train_dir, class_name)\n",
        "    if os.path.isdir(class_dir):\n",
        "        for file_name in os.listdir(class_dir):\n",
        "            file_path = os.path.join(class_dir, file_name)\n",
        "            image = cv2.imread(file_path)\n",
        "            image = cv2.resize(image, (input_shape[1], input_shape[0]))\n",
        "            x_train.append(image)\n",
        "            y_train.append(class_name)  # Store class_name as is\n",
        "\n",
        "# Load images for the test set\n",
        "for class_name in os.listdir(test_dir):\n",
        "    class_dir = os.path.join(test_dir, class_name)\n",
        "    if os.path.isdir(class_dir):\n",
        "        for file_name in os.listdir(class_dir):\n",
        "            file_path = os.path.join(class_dir, file_name)\n",
        "            image = cv2.imread(file_path)\n",
        "            image = cv2.resize(image, (input_shape[1], input_shape[0]))\n",
        "            x_test.append(image)\n",
        "            y_test.append(class_name)  # Store class_name as is\n",
        "\n",
        "# Load images for the validation set\n",
        "for class_name in os.listdir(val_dir):\n",
        "    class_dir = os.path.join(val_dir, class_name)\n",
        "    if os.path.isdir(class_dir):\n",
        "        for file_name in os.listdir(class_dir):\n",
        "            file_path = os.path.join(class_dir, file_name)\n",
        "            image = cv2.imread(file_path)\n",
        "            image = cv2.resize(image, (input_shape[1], input_shape[0]))\n",
        "            x_val.append(image)\n",
        "            y_val.append(class_name)  # Store class_name as is\n",
        "\n",
        "\n"
      ]
    },
    {
      "cell_type": "code",
      "source": [
        "x_train = np.array(x_train)\n",
        "y_train = np.array(y_train)"
      ],
      "metadata": {
        "id": "6lPNHxYqn8y1"
      },
      "execution_count": 4,
      "outputs": []
    },
    {
      "cell_type": "code",
      "source": [
        "x_test = np.array(x_test)\n",
        "y_test = np.array(y_test)"
      ],
      "metadata": {
        "id": "GqlsD9I3n8hU"
      },
      "execution_count": 5,
      "outputs": []
    },
    {
      "cell_type": "code",
      "source": [
        "x_val = np.array(x_val)\n",
        "y_val = np.array(y_val)"
      ],
      "metadata": {
        "id": "zXM2ZB9loxnq"
      },
      "execution_count": 6,
      "outputs": []
    },
    {
      "cell_type": "code",
      "source": [
        "# Normalize the pixel values to [0, 1]\n",
        "#x_train = x_train / 255.0\n",
        "#x_test = x_test / 255.0\n",
        "#x_val = x_val / 255.0 #PREVAZILAZI 12GB rama ovde..."
      ],
      "metadata": {
        "id": "gx6h24x70sb_"
      },
      "execution_count": 7,
      "outputs": []
    },
    {
      "cell_type": "code",
      "source": [
        "\n",
        "\n",
        "# Convert class names to integer labels\n",
        "label_encoder = LabelEncoder()\n",
        "y_train_encoded = label_encoder.fit_transform(y_train)\n",
        "y_test_encoded = label_encoder.transform(y_test)\n",
        "y_val_encoded = label_encoder.transform(y_val)\n",
        "\n",
        "# One-hot encode the target labels\n",
        "y_train = keras.utils.to_categorical(y_train_encoded, num_classes)\n",
        "y_test = keras.utils.to_categorical(y_test_encoded, num_classes)\n",
        "y_val = keras.utils.to_categorical(y_val_encoded, num_classes)\n",
        "\n",
        "# Print the shapes of loaded data\n",
        "print(f\"x_train shape: {x_train.shape} - y_train shape: {y_train.shape}\")\n",
        "print(f\"x_test shape: {x_test.shape} - y_test shape: {y_test.shape}\")\n",
        "print(f\"x_val shape: {x_val.shape} - y_val shape: {y_val.shape}\")"
      ],
      "metadata": {
        "id": "n8ULimZCngRN",
        "colab": {
          "base_uri": "https://localhost:8080/"
        },
        "outputId": "c46c9308-a127-49b2-9b97-dae5ffb49470"
      },
      "execution_count": 8,
      "outputs": [
        {
          "output_type": "stream",
          "name": "stdout",
          "text": [
            "x_train shape: (923, 512, 512, 3) - y_train shape: (923, 10)\n",
            "x_test shape: (554, 512, 512, 3) - y_test shape: (554, 10)\n",
            "x_val shape: (369, 512, 512, 3) - y_val shape: (369, 10)\n"
          ]
        }
      ]
    },
    {
      "cell_type": "markdown",
      "metadata": {
        "id": "jNtagAogNd-Z"
      },
      "source": [
        "## Configure the hyperparameters\n",
        "\n",
        "A key parameter to pick is the `patch_size`, the size of the input patches.\n",
        "In order to use each pixel as an individual input, you can set `patch_size` to `(1, 1)`.\n",
        "Below, we take inspiration from the original paper settings\n",
        "for training on ImageNet-1K, keeping most of the original settings for this example."
      ]
    },
    {
      "cell_type": "code",
      "execution_count": 9,
      "metadata": {
        "id": "Y-L82MguNd-a"
      },
      "outputs": [],
      "source": [
        "patch_size = (2, 2)  # 2-by-2 sized patches\n",
        "dropout_rate = 0.03  # Dropout rate\n",
        "num_heads = 8  # Attention heads\n",
        "embed_dim = 64  # Embedding dimension\n",
        "num_mlp = 256  # MLP layer size\n",
        "qkv_bias = True  # Convert embedded patches to query, key, and values with a learnable additive value\n",
        "window_size = 2  # Size of attention window\n",
        "shift_size = 1  # Size of shifting window\n",
        "image_dimension = 512  # Initial image size\n",
        "\n",
        "num_patch_x = input_shape[0] // patch_size[0]\n",
        "num_patch_y = input_shape[1] // patch_size[1]\n",
        "\n",
        "learning_rate = 1e-3\n",
        "batch_size = 128\n",
        "num_epochs = 40 #40\n",
        "validation_split = 0.1\n",
        "weight_decay = 0.0001\n",
        "label_smoothing = 0.1"
      ]
    },
    {
      "cell_type": "markdown",
      "metadata": {
        "id": "Rc35H6tqNd-c"
      },
      "source": [
        "## Helper functions\n",
        "\n",
        "We create two helper functions to help us get a sequence of\n",
        "patches from the image, merge patches, and apply dropout."
      ]
    },
    {
      "cell_type": "code",
      "execution_count": 10,
      "metadata": {
        "id": "bO7ftqwnNd-d"
      },
      "outputs": [],
      "source": [
        "\n",
        "def window_partition(x, window_size):\n",
        "    _, height, width, channels = x.shape\n",
        "    patch_num_y = height // window_size\n",
        "    patch_num_x = width // window_size\n",
        "    x = tf.reshape(\n",
        "        x, shape=(-1, patch_num_y, window_size, patch_num_x, window_size, channels)\n",
        "    )\n",
        "    x = tf.transpose(x, (0, 1, 3, 2, 4, 5))\n",
        "    windows = tf.reshape(x, shape=(-1, window_size, window_size, channels))\n",
        "    return windows\n",
        "\n",
        "\n",
        "def window_reverse(windows, window_size, height, width, channels):\n",
        "    patch_num_y = height // window_size\n",
        "    patch_num_x = width // window_size\n",
        "    x = tf.reshape(\n",
        "        windows,\n",
        "        shape=(-1, patch_num_y, patch_num_x, window_size, window_size, channels),\n",
        "    )\n",
        "    x = tf.transpose(x, perm=(0, 1, 3, 2, 4, 5))\n",
        "    x = tf.reshape(x, shape=(-1, height, width, channels))\n",
        "    return x\n",
        "\n",
        "\n",
        "class DropPath(layers.Layer):\n",
        "    def __init__(self, drop_prob=None, **kwargs):\n",
        "        super().__init__(**kwargs)\n",
        "        self.drop_prob = drop_prob\n",
        "\n",
        "    def call(self, x):\n",
        "        input_shape = tf.shape(x)\n",
        "        batch_size = input_shape[0]\n",
        "        rank = x.shape.rank\n",
        "        shape = (batch_size,) + (1,) * (rank - 1)\n",
        "        random_tensor = (1 - self.drop_prob) + tf.random.uniform(shape, dtype=x.dtype)\n",
        "        path_mask = tf.floor(random_tensor)\n",
        "        output = tf.math.divide(x, 1 - self.drop_prob) * path_mask\n",
        "        return output\n"
      ]
    },
    {
      "cell_type": "markdown",
      "metadata": {
        "id": "Dr6SYirMNd-f"
      },
      "source": [
        "## Window based multi-head self-attention\n",
        "\n",
        "Usually Transformers perform global self-attention, where the relationships between\n",
        "a token and all other tokens are computed. The global computation leads to quadratic\n",
        "complexity with respect to the number of tokens. Here, as the [original paper](https://arxiv.org/abs/2103.14030)\n",
        "suggests, we compute self-attention within local windows, in a non-overlapping manner.\n",
        "Global self-attention leads to quadratic computational complexity in the number of patches,\n",
        "whereas window-based self-attention leads to linear complexity and is easily scalable."
      ]
    },
    {
      "cell_type": "code",
      "execution_count": 11,
      "metadata": {
        "id": "1lw6PL9rNd-f"
      },
      "outputs": [],
      "source": [
        "\n",
        "class WindowAttention(layers.Layer):\n",
        "    def __init__(\n",
        "        self, dim, window_size, num_heads, qkv_bias=True, dropout_rate=0.0, **kwargs\n",
        "    ):\n",
        "        super().__init__(**kwargs)\n",
        "        self.dim = dim\n",
        "        self.window_size = window_size\n",
        "        self.num_heads = num_heads\n",
        "        self.scale = (dim // num_heads) ** -0.5\n",
        "        self.qkv = layers.Dense(dim * 3, use_bias=qkv_bias)\n",
        "        self.dropout = layers.Dropout(dropout_rate)\n",
        "        self.proj = layers.Dense(dim)\n",
        "\n",
        "    def build(self, input_shape):\n",
        "        num_window_elements = (2 * self.window_size[0] - 1) * (\n",
        "            2 * self.window_size[1] - 1\n",
        "        )\n",
        "        self.relative_position_bias_table = self.add_weight(\n",
        "            shape=(num_window_elements, self.num_heads),\n",
        "            initializer=tf.initializers.Zeros(),\n",
        "            trainable=True,\n",
        "        )\n",
        "        coords_h = np.arange(self.window_size[0])\n",
        "        coords_w = np.arange(self.window_size[1])\n",
        "        coords_matrix = np.meshgrid(coords_h, coords_w, indexing=\"ij\")\n",
        "        coords = np.stack(coords_matrix)\n",
        "        coords_flatten = coords.reshape(2, -1)\n",
        "        relative_coords = coords_flatten[:, :, None] - coords_flatten[:, None, :]\n",
        "        relative_coords = relative_coords.transpose([1, 2, 0])\n",
        "        relative_coords[:, :, 0] += self.window_size[0] - 1\n",
        "        relative_coords[:, :, 1] += self.window_size[1] - 1\n",
        "        relative_coords[:, :, 0] *= 2 * self.window_size[1] - 1\n",
        "        relative_position_index = relative_coords.sum(-1)\n",
        "\n",
        "        self.relative_position_index = tf.Variable(\n",
        "            initial_value=tf.convert_to_tensor(relative_position_index), trainable=False\n",
        "        )\n",
        "\n",
        "    def call(self, x, mask=None):\n",
        "        _, size, channels = x.shape\n",
        "        head_dim = channels // self.num_heads\n",
        "        x_qkv = self.qkv(x)\n",
        "        x_qkv = tf.reshape(x_qkv, shape=(-1, size, 3, self.num_heads, head_dim))\n",
        "        x_qkv = tf.transpose(x_qkv, perm=(2, 0, 3, 1, 4))\n",
        "        q, k, v = x_qkv[0], x_qkv[1], x_qkv[2]\n",
        "        q = q * self.scale\n",
        "        k = tf.transpose(k, perm=(0, 1, 3, 2))\n",
        "        attn = q @ k\n",
        "\n",
        "        num_window_elements = self.window_size[0] * self.window_size[1]\n",
        "        relative_position_index_flat = tf.reshape(\n",
        "            self.relative_position_index, shape=(-1,)\n",
        "        )\n",
        "        relative_position_bias = tf.gather(\n",
        "            self.relative_position_bias_table, relative_position_index_flat\n",
        "        )\n",
        "        relative_position_bias = tf.reshape(\n",
        "            relative_position_bias, shape=(num_window_elements, num_window_elements, -1)\n",
        "        )\n",
        "        relative_position_bias = tf.transpose(relative_position_bias, perm=(2, 0, 1))\n",
        "        attn = attn + tf.expand_dims(relative_position_bias, axis=0)\n",
        "\n",
        "        if mask is not None:\n",
        "            nW = mask.get_shape()[0]\n",
        "            mask_float = tf.cast(\n",
        "                tf.expand_dims(tf.expand_dims(mask, axis=1), axis=0), tf.float32\n",
        "            )\n",
        "            attn = (\n",
        "                tf.reshape(attn, shape=(-1, nW, self.num_heads, size, size))\n",
        "                + mask_float\n",
        "            )\n",
        "            attn = tf.reshape(attn, shape=(-1, self.num_heads, size, size))\n",
        "            attn = keras.activations.softmax(attn, axis=-1)\n",
        "        else:\n",
        "            attn = keras.activations.softmax(attn, axis=-1)\n",
        "        attn = self.dropout(attn)\n",
        "\n",
        "        x_qkv = attn @ v\n",
        "        x_qkv = tf.transpose(x_qkv, perm=(0, 2, 1, 3))\n",
        "        x_qkv = tf.reshape(x_qkv, shape=(-1, size, channels))\n",
        "        x_qkv = self.proj(x_qkv)\n",
        "        x_qkv = self.dropout(x_qkv)\n",
        "        return x_qkv\n"
      ]
    },
    {
      "cell_type": "markdown",
      "metadata": {
        "id": "THfzZ90CNd-g"
      },
      "source": [
        "## The complete Swin Transformer model\n",
        "\n",
        "Finally, we put together the complete Swin Transformer by replacing the standard multi-head\n",
        "attention (MHA) with shifted windows attention. As suggested in the\n",
        "original paper, we create a model comprising of a shifted window-based MHA\n",
        "layer, followed by a 2-layer MLP with GELU nonlinearity in between, applying\n",
        "`LayerNormalization` before each MSA layer and each MLP, and a residual\n",
        "connection after each of these layers.\n",
        "\n",
        "Notice that we only create a simple MLP with 2 Dense and\n",
        "2 Dropout layers. Often you will see models using ResNet-50 as the MLP which is\n",
        "quite standard in the literature. However in this paper the authors use a\n",
        "2-layer MLP with GELU nonlinearity in between."
      ]
    },
    {
      "cell_type": "code",
      "execution_count": 12,
      "metadata": {
        "id": "8039vck0Nd-h"
      },
      "outputs": [],
      "source": [
        "\n",
        "class SwinTransformer(layers.Layer):\n",
        "    def __init__(\n",
        "        self,\n",
        "        dim,\n",
        "        num_patch,\n",
        "        num_heads,\n",
        "        window_size=7,\n",
        "        shift_size=0,\n",
        "        num_mlp=1024,\n",
        "        qkv_bias=True,\n",
        "        dropout_rate=0.0,\n",
        "        **kwargs,\n",
        "    ):\n",
        "        super().__init__(**kwargs)\n",
        "\n",
        "        self.dim = dim  # number of input dimensions\n",
        "        self.num_patch = num_patch  # number of embedded patches\n",
        "        self.num_heads = num_heads  # number of attention heads\n",
        "        self.window_size = window_size  # size of window\n",
        "        self.shift_size = shift_size  # size of window shift\n",
        "        self.num_mlp = num_mlp  # number of MLP nodes\n",
        "\n",
        "        self.norm1 = layers.LayerNormalization(epsilon=1e-5)\n",
        "        self.attn = WindowAttention(\n",
        "            dim,\n",
        "            window_size=(self.window_size, self.window_size),\n",
        "            num_heads=num_heads,\n",
        "            qkv_bias=qkv_bias,\n",
        "            dropout_rate=dropout_rate,\n",
        "        )\n",
        "        self.drop_path = DropPath(dropout_rate)\n",
        "        self.norm2 = layers.LayerNormalization(epsilon=1e-5)\n",
        "\n",
        "        self.mlp = keras.Sequential(\n",
        "            [\n",
        "                layers.Dense(num_mlp),\n",
        "                layers.Activation(keras.activations.gelu),\n",
        "                layers.Dropout(dropout_rate),\n",
        "                layers.Dense(dim),\n",
        "                layers.Dropout(dropout_rate),\n",
        "            ]\n",
        "        )\n",
        "\n",
        "        if min(self.num_patch) < self.window_size:\n",
        "            self.shift_size = 0\n",
        "            self.window_size = min(self.num_patch)\n",
        "\n",
        "    def build(self, input_shape):\n",
        "        if self.shift_size == 0:\n",
        "            self.attn_mask = None\n",
        "        else:\n",
        "            height, width = self.num_patch\n",
        "            h_slices = (\n",
        "                slice(0, -self.window_size),\n",
        "                slice(-self.window_size, -self.shift_size),\n",
        "                slice(-self.shift_size, None),\n",
        "            )\n",
        "            w_slices = (\n",
        "                slice(0, -self.window_size),\n",
        "                slice(-self.window_size, -self.shift_size),\n",
        "                slice(-self.shift_size, None),\n",
        "            )\n",
        "            mask_array = np.zeros((1, height, width, 1))\n",
        "            count = 0\n",
        "            for h in h_slices:\n",
        "                for w in w_slices:\n",
        "                    mask_array[:, h, w, :] = count\n",
        "                    count += 1\n",
        "            mask_array = tf.convert_to_tensor(mask_array)\n",
        "\n",
        "            # mask array to windows\n",
        "            mask_windows = window_partition(mask_array, self.window_size)\n",
        "            mask_windows = tf.reshape(\n",
        "                mask_windows, shape=[-1, self.window_size * self.window_size]\n",
        "            )\n",
        "            attn_mask = tf.expand_dims(mask_windows, axis=1) - tf.expand_dims(\n",
        "                mask_windows, axis=2\n",
        "            )\n",
        "            attn_mask = tf.where(attn_mask != 0, -100.0, attn_mask)\n",
        "            attn_mask = tf.where(attn_mask == 0, 0.0, attn_mask)\n",
        "            self.attn_mask = tf.Variable(initial_value=attn_mask, trainable=False)\n",
        "\n",
        "    def call(self, x):\n",
        "        height, width = self.num_patch\n",
        "        _, num_patches_before, channels = x.shape\n",
        "        x_skip = x\n",
        "        x = self.norm1(x)\n",
        "        x = tf.reshape(x, shape=(-1, height, width, channels))\n",
        "        if self.shift_size > 0:\n",
        "            shifted_x = tf.roll(\n",
        "                x, shift=[-self.shift_size, -self.shift_size], axis=[1, 2]\n",
        "            )\n",
        "        else:\n",
        "            shifted_x = x\n",
        "\n",
        "        x_windows = window_partition(shifted_x, self.window_size)\n",
        "        x_windows = tf.reshape(\n",
        "            x_windows, shape=(-1, self.window_size * self.window_size, channels)\n",
        "        )\n",
        "        attn_windows = self.attn(x_windows, mask=self.attn_mask)\n",
        "\n",
        "        attn_windows = tf.reshape(\n",
        "            attn_windows, shape=(-1, self.window_size, self.window_size, channels)\n",
        "        )\n",
        "        shifted_x = window_reverse(\n",
        "            attn_windows, self.window_size, height, width, channels\n",
        "        )\n",
        "        if self.shift_size > 0:\n",
        "            x = tf.roll(\n",
        "                shifted_x, shift=[self.shift_size, self.shift_size], axis=[1, 2]\n",
        "            )\n",
        "        else:\n",
        "            x = shifted_x\n",
        "\n",
        "        x = tf.reshape(x, shape=(-1, height * width, channels))\n",
        "        x = self.drop_path(x)\n",
        "        x = x_skip + x\n",
        "        x_skip = x\n",
        "        x = self.norm2(x)\n",
        "        x = self.mlp(x)\n",
        "        x = self.drop_path(x)\n",
        "        x = x_skip + x\n",
        "        return x\n"
      ]
    },
    {
      "cell_type": "markdown",
      "metadata": {
        "id": "m0rtJnrMNd-i"
      },
      "source": [
        "## Model training and evaluation\n",
        "\n",
        "### Extract and embed patches\n",
        "\n",
        "We first create 3 layers to help us extract, embed and merge patches from the\n",
        "images on top of which we will later use the Swin Transformer class we built."
      ]
    },
    {
      "cell_type": "code",
      "execution_count": 13,
      "metadata": {
        "id": "CZ5kevzfNd-i"
      },
      "outputs": [],
      "source": [
        "\n",
        "class PatchExtract(layers.Layer):\n",
        "    def __init__(self, patch_size, **kwargs):\n",
        "        super().__init__(**kwargs)\n",
        "        self.patch_size_x = patch_size[0]\n",
        "        self.patch_size_y = patch_size[0]\n",
        "\n",
        "    def call(self, images):\n",
        "        batch_size = tf.shape(images)[0]\n",
        "        patches = tf.image.extract_patches(\n",
        "            images=images,\n",
        "            sizes=(1, self.patch_size_x, self.patch_size_y, 1),\n",
        "            strides=(1, self.patch_size_x, self.patch_size_y, 1),\n",
        "            rates=(1, 1, 1, 1),\n",
        "            padding=\"VALID\",\n",
        "        )\n",
        "        patch_dim = patches.shape[-1]\n",
        "        patch_num = patches.shape[1]\n",
        "        return tf.reshape(patches, (batch_size, patch_num * patch_num, patch_dim))\n",
        "\n",
        "\n",
        "class PatchEmbedding(layers.Layer):\n",
        "    def __init__(self, num_patch, embed_dim, **kwargs):\n",
        "        super().__init__(**kwargs)\n",
        "        self.num_patch = num_patch\n",
        "        self.proj = layers.Dense(embed_dim)\n",
        "        self.pos_embed = layers.Embedding(input_dim=num_patch, output_dim=embed_dim)\n",
        "\n",
        "    def call(self, patch):\n",
        "        pos = tf.range(start=0, limit=self.num_patch, delta=1)\n",
        "        return self.proj(patch) + self.pos_embed(pos)\n",
        "\n",
        "\n",
        "class PatchMerging(tf.keras.layers.Layer):\n",
        "    def __init__(self, num_patch, embed_dim):\n",
        "        super().__init__()\n",
        "        self.num_patch = num_patch\n",
        "        self.embed_dim = embed_dim\n",
        "        self.linear_trans = layers.Dense(2 * embed_dim, use_bias=False)\n",
        "\n",
        "    def call(self, x):\n",
        "        height, width = self.num_patch\n",
        "        _, _, C = x.get_shape().as_list()\n",
        "        x = tf.reshape(x, shape=(-1, height, width, C))\n",
        "        x0 = x[:, 0::2, 0::2, :]\n",
        "        x1 = x[:, 1::2, 0::2, :]\n",
        "        x2 = x[:, 0::2, 1::2, :]\n",
        "        x3 = x[:, 1::2, 1::2, :]\n",
        "        x = tf.concat((x0, x1, x2, x3), axis=-1)\n",
        "        x = tf.reshape(x, shape=(-1, (height // 2) * (width // 2), 4 * C))\n",
        "        return self.linear_trans(x)\n"
      ]
    },
    {
      "cell_type": "markdown",
      "metadata": {
        "id": "7Xh4xsGmNd-k"
      },
      "source": [
        "### Build the model\n",
        "\n",
        "We put together the Swin Transformer model."
      ]
    },
    {
      "cell_type": "code",
      "execution_count": 14,
      "metadata": {
        "id": "-GB9eMIJNd-k"
      },
      "outputs": [],
      "source": [
        "input = layers.Input(input_shape)\n",
        "x = layers.RandomCrop(image_dimension, image_dimension)(input)\n",
        "x = layers.RandomFlip(\"horizontal\")(x)\n",
        "x = PatchExtract(patch_size)(x)\n",
        "x = PatchEmbedding(num_patch_x * num_patch_y, embed_dim)(x)\n",
        "x = SwinTransformer(\n",
        "    dim=embed_dim,\n",
        "    num_patch=(num_patch_x, num_patch_y),\n",
        "    num_heads=num_heads,\n",
        "    window_size=window_size,\n",
        "    shift_size=0,\n",
        "    num_mlp=num_mlp,\n",
        "    qkv_bias=qkv_bias,\n",
        "    dropout_rate=dropout_rate,\n",
        ")(x)\n",
        "x = SwinTransformer(\n",
        "    dim=embed_dim,\n",
        "    num_patch=(num_patch_x, num_patch_y),\n",
        "    num_heads=num_heads,\n",
        "    window_size=window_size,\n",
        "    shift_size=shift_size,\n",
        "    num_mlp=num_mlp,\n",
        "    qkv_bias=qkv_bias,\n",
        "    dropout_rate=dropout_rate,\n",
        ")(x)\n",
        "x = PatchMerging((num_patch_x, num_patch_y), embed_dim=embed_dim)(x)\n",
        "x = layers.GlobalAveragePooling1D()(x)\n",
        "output = layers.Dense(num_classes, activation=\"softmax\")(x)"
      ]
    },
    {
      "cell_type": "markdown",
      "metadata": {
        "id": "yFSqdeiNNd-m"
      },
      "source": [
        "### Train on BUGS DATASET\n",
        "\n",
        "\n",
        "We train the model on CIFAR-100. Here, we only train the model\n",
        "for 40 epochs to keep the training time short in this example.\n",
        "In practice, you should train for 150 epochs to reach convergence."
      ]
    },
    {
      "cell_type": "code",
      "execution_count": 15,
      "metadata": {
        "id": "NcI3X1EhNd-n",
        "colab": {
          "base_uri": "https://localhost:8080/"
        },
        "outputId": "e1be24e0-ebe3-423f-c6d6-73be77bf6a89"
      },
      "outputs": [
        {
          "output_type": "stream",
          "name": "stdout",
          "text": [
            "Epoch 1/40\n",
            "116/116 [==============================] - 130s 1s/step - loss: 32.6642 - accuracy: 0.1538 - top-5-accuracy: 0.6100 - val_loss: 20.3544 - val_accuracy: 0.1301 - val_top-5-accuracy: 0.6721\n",
            "Epoch 2/40\n",
            "116/116 [==============================] - 125s 1s/step - loss: 12.8292 - accuracy: 0.2232 - top-5-accuracy: 0.6815 - val_loss: 12.9416 - val_accuracy: 0.1978 - val_top-5-accuracy: 0.6775\n",
            "Epoch 3/40\n",
            "116/116 [==============================] - 125s 1s/step - loss: 11.5181 - accuracy: 0.2416 - top-5-accuracy: 0.6631 - val_loss: 9.5760 - val_accuracy: 0.2087 - val_top-5-accuracy: 0.7290\n",
            "Epoch 4/40\n",
            "116/116 [==============================] - 125s 1s/step - loss: 10.3858 - accuracy: 0.2730 - top-5-accuracy: 0.7107 - val_loss: 8.5083 - val_accuracy: 0.2439 - val_top-5-accuracy: 0.7724\n",
            "Epoch 5/40\n",
            "116/116 [==============================] - 125s 1s/step - loss: 5.4266 - accuracy: 0.3456 - top-5-accuracy: 0.7703 - val_loss: 4.7340 - val_accuracy: 0.3469 - val_top-5-accuracy: 0.7805\n",
            "Epoch 6/40\n",
            "116/116 [==============================] - 125s 1s/step - loss: 4.1433 - accuracy: 0.3424 - top-5-accuracy: 0.7974 - val_loss: 4.7439 - val_accuracy: 0.2981 - val_top-5-accuracy: 0.7425\n",
            "Epoch 7/40\n",
            "116/116 [==============================] - 125s 1s/step - loss: 3.3549 - accuracy: 0.3510 - top-5-accuracy: 0.8202 - val_loss: 2.4274 - val_accuracy: 0.3062 - val_top-5-accuracy: 0.8726\n",
            "Epoch 8/40\n",
            "116/116 [==============================] - 125s 1s/step - loss: 2.6030 - accuracy: 0.3965 - top-5-accuracy: 0.8548 - val_loss: 2.2439 - val_accuracy: 0.3577 - val_top-5-accuracy: 0.9187\n",
            "Epoch 9/40\n",
            "116/116 [==============================] - 125s 1s/step - loss: 2.3643 - accuracy: 0.4063 - top-5-accuracy: 0.8787 - val_loss: 2.0955 - val_accuracy: 0.4255 - val_top-5-accuracy: 0.8699\n",
            "Epoch 10/40\n",
            "116/116 [==============================] - 125s 1s/step - loss: 2.2076 - accuracy: 0.4117 - top-5-accuracy: 0.8635 - val_loss: 2.3791 - val_accuracy: 0.3957 - val_top-5-accuracy: 0.8591\n",
            "Epoch 11/40\n",
            "116/116 [==============================] - 125s 1s/step - loss: 2.1814 - accuracy: 0.4063 - top-5-accuracy: 0.8689 - val_loss: 1.9136 - val_accuracy: 0.5176 - val_top-5-accuracy: 0.9404\n",
            "Epoch 12/40\n",
            "116/116 [==============================] - 125s 1s/step - loss: 1.9188 - accuracy: 0.4464 - top-5-accuracy: 0.9025 - val_loss: 1.8977 - val_accuracy: 0.4390 - val_top-5-accuracy: 0.9350\n",
            "Epoch 13/40\n",
            "116/116 [==============================] - 125s 1s/step - loss: 1.9327 - accuracy: 0.4225 - top-5-accuracy: 0.8949 - val_loss: 1.7985 - val_accuracy: 0.3686 - val_top-5-accuracy: 0.9512\n",
            "Epoch 14/40\n",
            "116/116 [==============================] - 125s 1s/step - loss: 1.7280 - accuracy: 0.4518 - top-5-accuracy: 0.9350 - val_loss: 1.5796 - val_accuracy: 0.5149 - val_top-5-accuracy: 0.9593\n",
            "Epoch 15/40\n",
            "116/116 [==============================] - 125s 1s/step - loss: 1.7484 - accuracy: 0.4702 - top-5-accuracy: 0.9426 - val_loss: 1.5654 - val_accuracy: 0.5149 - val_top-5-accuracy: 0.9539\n",
            "Epoch 16/40\n",
            "116/116 [==============================] - 125s 1s/step - loss: 1.6233 - accuracy: 0.4875 - top-5-accuracy: 0.9534 - val_loss: 1.6181 - val_accuracy: 0.4797 - val_top-5-accuracy: 0.9512\n",
            "Epoch 17/40\n",
            "116/116 [==============================] - 125s 1s/step - loss: 1.7002 - accuracy: 0.4832 - top-5-accuracy: 0.9296 - val_loss: 1.5992 - val_accuracy: 0.4959 - val_top-5-accuracy: 0.9458\n",
            "Epoch 18/40\n",
            "116/116 [==============================] - 125s 1s/step - loss: 1.6659 - accuracy: 0.5027 - top-5-accuracy: 0.9469 - val_loss: 1.6488 - val_accuracy: 0.5041 - val_top-5-accuracy: 0.9675\n",
            "Epoch 19/40\n",
            "116/116 [==============================] - 125s 1s/step - loss: 1.5513 - accuracy: 0.5146 - top-5-accuracy: 0.9523 - val_loss: 1.5843 - val_accuracy: 0.4959 - val_top-5-accuracy: 0.9648\n",
            "Epoch 20/40\n",
            "116/116 [==============================] - 125s 1s/step - loss: 1.6144 - accuracy: 0.4995 - top-5-accuracy: 0.9567 - val_loss: 1.6344 - val_accuracy: 0.4553 - val_top-5-accuracy: 0.9621\n",
            "Epoch 21/40\n",
            "116/116 [==============================] - 132s 1s/step - loss: 1.5115 - accuracy: 0.5460 - top-5-accuracy: 0.9599 - val_loss: 1.5539 - val_accuracy: 0.5474 - val_top-5-accuracy: 0.9783\n",
            "Epoch 22/40\n",
            "116/116 [==============================] - 125s 1s/step - loss: 1.5126 - accuracy: 0.5244 - top-5-accuracy: 0.9664 - val_loss: 1.4974 - val_accuracy: 0.5691 - val_top-5-accuracy: 0.9729\n",
            "Epoch 23/40\n",
            "116/116 [==============================] - 125s 1s/step - loss: 1.4759 - accuracy: 0.5720 - top-5-accuracy: 0.9599 - val_loss: 1.4862 - val_accuracy: 0.5501 - val_top-5-accuracy: 0.9810\n",
            "Epoch 24/40\n",
            "116/116 [==============================] - 125s 1s/step - loss: 1.4584 - accuracy: 0.5731 - top-5-accuracy: 0.9653 - val_loss: 1.5514 - val_accuracy: 0.5827 - val_top-5-accuracy: 0.9485\n",
            "Epoch 25/40\n",
            "116/116 [==============================] - 125s 1s/step - loss: 1.4697 - accuracy: 0.5645 - top-5-accuracy: 0.9675 - val_loss: 1.4052 - val_accuracy: 0.6016 - val_top-5-accuracy: 0.9892\n",
            "Epoch 26/40\n",
            "116/116 [==============================] - 125s 1s/step - loss: 1.5026 - accuracy: 0.5330 - top-5-accuracy: 0.9577 - val_loss: 1.4598 - val_accuracy: 0.5474 - val_top-5-accuracy: 0.9837\n",
            "Epoch 27/40\n",
            "116/116 [==============================] - 125s 1s/step - loss: 1.4714 - accuracy: 0.5569 - top-5-accuracy: 0.9729 - val_loss: 1.5675 - val_accuracy: 0.4688 - val_top-5-accuracy: 0.9729\n",
            "Epoch 28/40\n",
            "116/116 [==============================] - 125s 1s/step - loss: 1.4734 - accuracy: 0.5634 - top-5-accuracy: 0.9642 - val_loss: 1.4462 - val_accuracy: 0.5854 - val_top-5-accuracy: 0.9702\n",
            "Epoch 29/40\n",
            "116/116 [==============================] - 125s 1s/step - loss: 1.4331 - accuracy: 0.5872 - top-5-accuracy: 0.9664 - val_loss: 1.4356 - val_accuracy: 0.6125 - val_top-5-accuracy: 0.9729\n",
            "Epoch 30/40\n",
            "116/116 [==============================] - 125s 1s/step - loss: 1.4188 - accuracy: 0.5980 - top-5-accuracy: 0.9718 - val_loss: 1.3504 - val_accuracy: 0.6612 - val_top-5-accuracy: 0.9864\n",
            "Epoch 31/40\n",
            "116/116 [==============================] - 125s 1s/step - loss: 1.4026 - accuracy: 0.6132 - top-5-accuracy: 0.9664 - val_loss: 1.5559 - val_accuracy: 0.5474 - val_top-5-accuracy: 0.9404\n",
            "Epoch 32/40\n",
            "116/116 [==============================] - 125s 1s/step - loss: 1.4398 - accuracy: 0.5861 - top-5-accuracy: 0.9632 - val_loss: 1.3950 - val_accuracy: 0.6043 - val_top-5-accuracy: 0.9810\n",
            "Epoch 33/40\n",
            "116/116 [==============================] - 125s 1s/step - loss: 1.4159 - accuracy: 0.5850 - top-5-accuracy: 0.9697 - val_loss: 1.5490 - val_accuracy: 0.4770 - val_top-5-accuracy: 0.9621\n",
            "Epoch 34/40\n",
            "116/116 [==============================] - 125s 1s/step - loss: 1.3938 - accuracy: 0.6089 - top-5-accuracy: 0.9740 - val_loss: 1.4931 - val_accuracy: 0.5420 - val_top-5-accuracy: 0.9756\n",
            "Epoch 35/40\n",
            "116/116 [==============================] - 125s 1s/step - loss: 1.4131 - accuracy: 0.6089 - top-5-accuracy: 0.9686 - val_loss: 1.3433 - val_accuracy: 0.6477 - val_top-5-accuracy: 0.9892\n",
            "Epoch 36/40\n",
            "116/116 [==============================] - 125s 1s/step - loss: 1.4343 - accuracy: 0.5959 - top-5-accuracy: 0.9675 - val_loss: 1.3665 - val_accuracy: 0.6748 - val_top-5-accuracy: 0.9810\n",
            "Epoch 37/40\n",
            "116/116 [==============================] - 125s 1s/step - loss: 1.3932 - accuracy: 0.6089 - top-5-accuracy: 0.9751 - val_loss: 1.3792 - val_accuracy: 0.5962 - val_top-5-accuracy: 0.9892\n",
            "Epoch 38/40\n",
            "116/116 [==============================] - 125s 1s/step - loss: 1.3947 - accuracy: 0.6241 - top-5-accuracy: 0.9642 - val_loss: 1.4299 - val_accuracy: 0.5989 - val_top-5-accuracy: 0.9756\n",
            "Epoch 39/40\n",
            "116/116 [==============================] - 125s 1s/step - loss: 1.4066 - accuracy: 0.6078 - top-5-accuracy: 0.9664 - val_loss: 1.4195 - val_accuracy: 0.5772 - val_top-5-accuracy: 0.9810\n",
            "Epoch 40/40\n",
            "116/116 [==============================] - 125s 1s/step - loss: 1.3886 - accuracy: 0.6154 - top-5-accuracy: 0.9610 - val_loss: 1.4878 - val_accuracy: 0.4905 - val_top-5-accuracy: 0.9648\n"
          ]
        }
      ],
      "source": [
        "model = keras.Model(input, output)\n",
        "model.compile(\n",
        "    loss=keras.losses.CategoricalCrossentropy(label_smoothing=label_smoothing),\n",
        "    optimizer=tfa.optimizers.AdamW(\n",
        "        learning_rate=learning_rate, weight_decay=weight_decay\n",
        "    ),\n",
        "    metrics=[\n",
        "        keras.metrics.CategoricalAccuracy(name=\"accuracy\"),\n",
        "        keras.metrics.TopKCategoricalAccuracy(5, name=\"top-5-accuracy\"),\n",
        "    ],\n",
        ")\n",
        "\n",
        "history = model.fit(\n",
        "    x=x_train,\n",
        "    y=y_train,\n",
        "    batch_size=8, #radi na 4 - tpu. Ne radi na 8 - tpu. Nece na 16 - gpu. Oce na 8 - gpu\n",
        "    epochs=num_epochs,\n",
        "    validation_data=(x_val, y_val) #validation_split\n",
        ")"
      ]
    },
    {
      "cell_type": "code",
      "source": [],
      "metadata": {
        "id": "xRRolyRdHydr"
      },
      "execution_count": null,
      "outputs": []
    },
    {
      "cell_type": "markdown",
      "metadata": {
        "id": "3imYxJYdNd-n"
      },
      "source": [
        "Let's visualize the training progress of the model."
      ]
    },
    {
      "cell_type": "code",
      "execution_count": 16,
      "metadata": {
        "id": "isAovMctNd-o",
        "colab": {
          "base_uri": "https://localhost:8080/",
          "height": 473
        },
        "outputId": "fe298524-bbfa-47fa-8ae1-e423172b9bf3"
      },
      "outputs": [
        {
          "output_type": "display_data",
          "data": {
            "text/plain": [
              "<Figure size 640x480 with 1 Axes>"
            ],
            "image/png": "[encoded data removed]"
          },
          "metadata": {}
        }
      ],
      "source": [
        "plt.plot(history.history[\"loss\"], label=\"train_loss\")\n",
        "plt.plot(history.history[\"val_loss\"], label=\"val_loss\")\n",
        "plt.xlabel(\"Epochs\")\n",
        "plt.ylabel(\"Loss\")\n",
        "plt.title(\"Train and Validation Losses Over Epochs\", fontsize=14)\n",
        "plt.legend()\n",
        "plt.grid()\n",
        "plt.show()"
      ]
    },
    {
      "cell_type": "markdown",
      "metadata": {
        "id": "PIjoEYjZNd-o"
      },
      "source": [
        "Let's display the final results of the training\n"
      ]
    },
    {
      "cell_type": "code",
      "execution_count": 18,
      "metadata": {
        "id": "HFig2TYbNd-p",
        "colab": {
          "base_uri": "https://localhost:8080/"
        },
        "outputId": "ddff03f0-cbf3-4ce6-c5cb-ee0bb687cd29"
      },
      "outputs": [
        {
          "output_type": "stream",
          "name": "stdout",
          "text": [
            "18/18 [==============================] - 19s 1s/step - loss: 1.4645 - accuracy: 0.5433 - top-5-accuracy: 0.9783\n",
            "Test loss: 1.46\n",
            "Test accuracy: 54.33%\n",
            "Test top 5 accuracy: 97.83%\n"
          ]
        }
      ],
      "source": [
        "loss, accuracy, top_5_accuracy = model.evaluate(x_test, y_test)\n",
        "print(f\"Test loss: {round(loss, 2)}\")\n",
        "print(f\"Test accuracy: {round(accuracy * 100, 2)}%\")\n",
        "print(f\"Test top 5 accuracy: {round(top_5_accuracy * 100, 2)}%\")"
      ]
    }
  ],
  "metadata": {
    "accelerator": "GPU",
    "colab": {
      "provenance": [],
      "gpuType": "T4"
    },
    "kernelspec": {
      "display_name": "Python 3",
      "name": "python3"
    },
    "language_info": {
      "codemirror_mode": {
        "name": "ipython",
        "version": 3
      },
      "file_extension": ".py",
      "mimetype": "text/x-python",
      "name": "python",
      "nbconvert_exporter": "python",
      "pygments_lexer": "ipython3",
      "version": "3.7.0"
    }
  },
  "nbformat": 4,
  "nbformat_minor": 0
}