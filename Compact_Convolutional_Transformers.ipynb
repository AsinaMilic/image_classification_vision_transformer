{
  "cells": [
    {
      "cell_type": "markdown",
      "metadata": {
        "id": "view-in-github",
        "colab_type": "text"
      },
      "source": [
        "<a href=\"https://colab.research.google.com/github/AsinaMilic/image_classification_with_vision_transformers/blob/main/Compact_Convolutional_Transformers.ipynb\" target=\"_parent\"><img src=\"https://colab.research.google.com/assets/colab-badge.svg\" alt=\"Open In Colab\"/></a>"
      ]
    },
    {
      "cell_type": "markdown",
      "metadata": {
        "id": "07xgG1CoVx_J"
      },
      "source": [
        "# Compact Convolutional Transformers\n",
        "# Nemam GPU memorije da stavim 512x512 rezoluciju slike...\n",
        "**Author:** JA\n",
        "\n",
        "**Description:** Compact Convolutional Transformers for efficient image classification."
      ]
    },
    {
      "cell_type": "markdown",
      "metadata": {
        "id": "R8RiJWyhVx_N"
      },
      "source": [
        "As discussed in the [Vision Transformers (ViT)](https://arxiv.org/abs/2010.11929) paper,\n",
        "a Transformer-based architecture for vision typically requires a larger dataset than\n",
        "usual, as well as a longer pre-training schedule. [ImageNet-1k](http://imagenet.org/)\n",
        "(which has about a million images) is considered to fall under the medium-sized data regime with\n",
        "respect to ViTs. This is primarily because, unlike CNNs, ViTs (or a typical\n",
        "Transformer-based architecture) do not have well-informed inductive biases (such as\n",
        "convolutions for processing images). This begs the question: can't we combine the\n",
        "benefits of convolution and the benefits of Transformers\n",
        "in a single network architecture? These benefits include parameter-efficiency, and\n",
        "self-attention to process long-range and global dependencies (interactions between\n",
        "different regions in an image).\n",
        "\n",
        "In [Escaping the Big Data Paradigm with Compact Transformers](https://arxiv.org/abs/2104.05704),\n",
        "Hassani et al. present an approach for doing exactly this. They proposed the\n",
        "**Compact Convolutional Transformer** (CCT) architecture. In this example, we will work on an\n",
        "implementation of CCT and we will see how well it performs on the CIFAR-10 dataset.\n",
        "\n",
        "If you are unfamiliar with the concept of self-attention or Transformers, you can read\n",
        "[this chapter](https://livebook.manning.com/book/deep-learning-with-python-second-edition/chapter-11/r-3/312)\n",
        "from  François Chollet's book *Deep Learning with Python*. This example uses\n",
        "code snippets from another example,\n",
        "[Image classification with Vision Transformer](https://keras.io/examples/vision/image_classification_with_vision_transformer/).\n",
        "\n",
        "This example requires TensorFlow 2.5 or higher, as well as TensorFlow Addons, which can\n",
        "be installed using the following command:"
      ]
    },
    {
      "cell_type": "code",
      "source": [
        "import os\n",
        "import cv2\n",
        "!pip install tensorflow==2.8.0\n",
        "!pip install opencv-python\n",
        "from google.colab import drive\n",
        "drive.mount('/content/drive')"
      ],
      "metadata": {
        "id": "AXsvjeaLWfMZ",
        "outputId": "dc2b609f-3d60-4d03-ba64-d33aeda31856",
        "colab": {
          "base_uri": "https://localhost:8080/"
        }
      },
      "execution_count": 1,
      "outputs": [
        {
          "output_type": "stream",
          "name": "stdout",
          "text": [
            "Collecting tensorflow==2.8.0\n",
            "  Downloading tensorflow-2.8.0-cp310-cp310-manylinux2010_x86_64.whl (497.6 MB)\n",
            "\u001b[2K     \u001b[90m━━━━━━━━━━━━━━━━━━━━━━━━━━━━━━━━━━━━━━━\u001b[0m \u001b[32m497.6/497.6 MB\u001b[0m \u001b[31m2.5 MB/s\u001b[0m eta \u001b[36m0:00:00\u001b[0m\n",
            "\u001b[?25hRequirement already satisfied: absl-py>=0.4.0 in /usr/local/lib/python3.10/dist-packages (from tensorflow==2.8.0) (1.4.0)\n",
            "Requirement already satisfied: astunparse>=1.6.0 in /usr/local/lib/python3.10/dist-packages (from tensorflow==2.8.0) (1.6.3)\n",
            "Requirement already satisfied: flatbuffers>=1.12 in /usr/local/lib/python3.10/dist-packages (from tensorflow==2.8.0) (23.5.26)\n",
            "Requirement already satisfied: gast>=0.2.1 in /usr/local/lib/python3.10/dist-packages (from tensorflow==2.8.0) (0.4.0)\n",
            "Requirement already satisfied: google-pasta>=0.1.1 in /usr/local/lib/python3.10/dist-packages (from tensorflow==2.8.0) (0.2.0)\n",
            "Requirement already satisfied: h5py>=2.9.0 in /usr/local/lib/python3.10/dist-packages (from tensorflow==2.8.0) (3.8.0)\n",
            "Collecting keras-preprocessing>=1.1.1 (from tensorflow==2.8.0)\n",
            "  Downloading Keras_Preprocessing-1.1.2-py2.py3-none-any.whl (42 kB)\n",
            "\u001b[2K     \u001b[90m━━━━━━━━━━━━━━━━━━━━━━━━━━━━━━━━━━━━━━━━\u001b[0m \u001b[32m42.6/42.6 kB\u001b[0m \u001b[31m5.5 MB/s\u001b[0m eta \u001b[36m0:00:00\u001b[0m\n",
            "\u001b[?25hRequirement already satisfied: libclang>=9.0.1 in /usr/local/lib/python3.10/dist-packages (from tensorflow==2.8.0) (16.0.6)\n",
            "Requirement already satisfied: numpy>=1.20 in /usr/local/lib/python3.10/dist-packages (from tensorflow==2.8.0) (1.22.4)\n",
            "Requirement already satisfied: opt-einsum>=2.3.2 in /usr/local/lib/python3.10/dist-packages (from tensorflow==2.8.0) (3.3.0)\n",
            "Requirement already satisfied: protobuf>=3.9.2 in /usr/local/lib/python3.10/dist-packages (from tensorflow==2.8.0) (3.20.3)\n",
            "Requirement already satisfied: setuptools in /usr/local/lib/python3.10/dist-packages (from tensorflow==2.8.0) (67.7.2)\n",
            "Requirement already satisfied: six>=1.12.0 in /usr/local/lib/python3.10/dist-packages (from tensorflow==2.8.0) (1.16.0)\n",
            "Requirement already satisfied: termcolor>=1.1.0 in /usr/local/lib/python3.10/dist-packages (from tensorflow==2.8.0) (2.3.0)\n",
            "Requirement already satisfied: typing-extensions>=3.6.6 in /usr/local/lib/python3.10/dist-packages (from tensorflow==2.8.0) (4.7.1)\n",
            "Requirement already satisfied: wrapt>=1.11.0 in /usr/local/lib/python3.10/dist-packages (from tensorflow==2.8.0) (1.14.1)\n",
            "Collecting tensorboard<2.9,>=2.8 (from tensorflow==2.8.0)\n",
            "  Downloading tensorboard-2.8.0-py3-none-any.whl (5.8 MB)\n",
            "\u001b[2K     \u001b[90m━━━━━━━━━━━━━━━━━━━━━━━━━━━━━━━━━━━━━━━━\u001b[0m \u001b[32m5.8/5.8 MB\u001b[0m \u001b[31m106.0 MB/s\u001b[0m eta \u001b[36m0:00:00\u001b[0m\n",
            "\u001b[?25hCollecting tf-estimator-nightly==2.8.0.dev2021122109 (from tensorflow==2.8.0)\n",
            "  Downloading tf_estimator_nightly-2.8.0.dev2021122109-py2.py3-none-any.whl (462 kB)\n",
            "\u001b[2K     \u001b[90m━━━━━━━━━━━━━━━━━━━━━━━━━━━━━━━━━━━━━━\u001b[0m \u001b[32m462.5/462.5 kB\u001b[0m \u001b[31m39.1 MB/s\u001b[0m eta \u001b[36m0:00:00\u001b[0m\n",
            "\u001b[?25hCollecting keras<2.9,>=2.8.0rc0 (from tensorflow==2.8.0)\n",
            "  Downloading keras-2.8.0-py2.py3-none-any.whl (1.4 MB)\n",
            "\u001b[2K     \u001b[90m━━━━━━━━━━━━━━━━━━━━━━━━━━━━━━━━━━━━━━━━\u001b[0m \u001b[32m1.4/1.4 MB\u001b[0m \u001b[31m80.2 MB/s\u001b[0m eta \u001b[36m0:00:00\u001b[0m\n",
            "\u001b[?25hRequirement already satisfied: tensorflow-io-gcs-filesystem>=0.23.1 in /usr/local/lib/python3.10/dist-packages (from tensorflow==2.8.0) (0.32.0)\n",
            "Requirement already satisfied: grpcio<2.0,>=1.24.3 in /usr/local/lib/python3.10/dist-packages (from tensorflow==2.8.0) (1.56.2)\n",
            "Requirement already satisfied: wheel<1.0,>=0.23.0 in /usr/local/lib/python3.10/dist-packages (from astunparse>=1.6.0->tensorflow==2.8.0) (0.41.0)\n",
            "Requirement already satisfied: google-auth<3,>=1.6.3 in /usr/local/lib/python3.10/dist-packages (from tensorboard<2.9,>=2.8->tensorflow==2.8.0) (2.17.3)\n",
            "Collecting google-auth-oauthlib<0.5,>=0.4.1 (from tensorboard<2.9,>=2.8->tensorflow==2.8.0)\n",
            "  Downloading google_auth_oauthlib-0.4.6-py2.py3-none-any.whl (18 kB)\n",
            "Requirement already satisfied: markdown>=2.6.8 in /usr/local/lib/python3.10/dist-packages (from tensorboard<2.9,>=2.8->tensorflow==2.8.0) (3.4.4)\n",
            "Requirement already satisfied: requests<3,>=2.21.0 in /usr/local/lib/python3.10/dist-packages (from tensorboard<2.9,>=2.8->tensorflow==2.8.0) (2.27.1)\n",
            "Collecting tensorboard-data-server<0.7.0,>=0.6.0 (from tensorboard<2.9,>=2.8->tensorflow==2.8.0)\n",
            "  Downloading tensorboard_data_server-0.6.1-py3-none-manylinux2010_x86_64.whl (4.9 MB)\n",
            "\u001b[2K     \u001b[90m━━━━━━━━━━━━━━━━━━━━━━━━━━━━━━━━━━━━━━━━\u001b[0m \u001b[32m4.9/4.9 MB\u001b[0m \u001b[31m114.4 MB/s\u001b[0m eta \u001b[36m0:00:00\u001b[0m\n",
            "\u001b[?25hCollecting tensorboard-plugin-wit>=1.6.0 (from tensorboard<2.9,>=2.8->tensorflow==2.8.0)\n",
            "  Downloading tensorboard_plugin_wit-1.8.1-py3-none-any.whl (781 kB)\n",
            "\u001b[2K     \u001b[90m━━━━━━━━━━━━━━━━━━━━━━━━━━━━━━━━━━━━━━\u001b[0m \u001b[32m781.3/781.3 kB\u001b[0m \u001b[31m69.8 MB/s\u001b[0m eta \u001b[36m0:00:00\u001b[0m\n",
            "\u001b[?25hRequirement already satisfied: werkzeug>=0.11.15 in /usr/local/lib/python3.10/dist-packages (from tensorboard<2.9,>=2.8->tensorflow==2.8.0) (2.3.6)\n",
            "Requirement already satisfied: cachetools<6.0,>=2.0.0 in /usr/local/lib/python3.10/dist-packages (from google-auth<3,>=1.6.3->tensorboard<2.9,>=2.8->tensorflow==2.8.0) (5.3.1)\n",
            "Requirement already satisfied: pyasn1-modules>=0.2.1 in /usr/local/lib/python3.10/dist-packages (from google-auth<3,>=1.6.3->tensorboard<2.9,>=2.8->tensorflow==2.8.0) (0.3.0)\n",
            "Requirement already satisfied: rsa<5,>=3.1.4 in /usr/local/lib/python3.10/dist-packages (from google-auth<3,>=1.6.3->tensorboard<2.9,>=2.8->tensorflow==2.8.0) (4.9)\n",
            "Requirement already satisfied: requests-oauthlib>=0.7.0 in /usr/local/lib/python3.10/dist-packages (from google-auth-oauthlib<0.5,>=0.4.1->tensorboard<2.9,>=2.8->tensorflow==2.8.0) (1.3.1)\n",
            "Requirement already satisfied: urllib3<1.27,>=1.21.1 in /usr/local/lib/python3.10/dist-packages (from requests<3,>=2.21.0->tensorboard<2.9,>=2.8->tensorflow==2.8.0) (1.26.16)\n",
            "Requirement already satisfied: certifi>=2017.4.17 in /usr/local/lib/python3.10/dist-packages (from requests<3,>=2.21.0->tensorboard<2.9,>=2.8->tensorflow==2.8.0) (2023.7.22)\n",
            "Requirement already satisfied: charset-normalizer~=2.0.0 in /usr/local/lib/python3.10/dist-packages (from requests<3,>=2.21.0->tensorboard<2.9,>=2.8->tensorflow==2.8.0) (2.0.12)\n",
            "Requirement already satisfied: idna<4,>=2.5 in /usr/local/lib/python3.10/dist-packages (from requests<3,>=2.21.0->tensorboard<2.9,>=2.8->tensorflow==2.8.0) (3.4)\n",
            "Requirement already satisfied: MarkupSafe>=2.1.1 in /usr/local/lib/python3.10/dist-packages (from werkzeug>=0.11.15->tensorboard<2.9,>=2.8->tensorflow==2.8.0) (2.1.3)\n",
            "Requirement already satisfied: pyasn1<0.6.0,>=0.4.6 in /usr/local/lib/python3.10/dist-packages (from pyasn1-modules>=0.2.1->google-auth<3,>=1.6.3->tensorboard<2.9,>=2.8->tensorflow==2.8.0) (0.5.0)\n",
            "Requirement already satisfied: oauthlib>=3.0.0 in /usr/local/lib/python3.10/dist-packages (from requests-oauthlib>=0.7.0->google-auth-oauthlib<0.5,>=0.4.1->tensorboard<2.9,>=2.8->tensorflow==2.8.0) (3.2.2)\n",
            "Installing collected packages: tf-estimator-nightly, tensorboard-plugin-wit, keras, tensorboard-data-server, keras-preprocessing, google-auth-oauthlib, tensorboard, tensorflow\n",
            "  Attempting uninstall: keras\n",
            "    Found existing installation: keras 2.12.0\n",
            "    Uninstalling keras-2.12.0:\n",
            "      Successfully uninstalled keras-2.12.0\n",
            "  Attempting uninstall: tensorboard-data-server\n",
            "    Found existing installation: tensorboard-data-server 0.7.1\n",
            "    Uninstalling tensorboard-data-server-0.7.1:\n",
            "      Successfully uninstalled tensorboard-data-server-0.7.1\n",
            "  Attempting uninstall: google-auth-oauthlib\n",
            "    Found existing installation: google-auth-oauthlib 1.0.0\n",
            "    Uninstalling google-auth-oauthlib-1.0.0:\n",
            "      Successfully uninstalled google-auth-oauthlib-1.0.0\n",
            "  Attempting uninstall: tensorboard\n",
            "    Found existing installation: tensorboard 2.12.3\n",
            "    Uninstalling tensorboard-2.12.3:\n",
            "      Successfully uninstalled tensorboard-2.12.3\n",
            "  Attempting uninstall: tensorflow\n",
            "    Found existing installation: tensorflow 2.12.0\n",
            "    Uninstalling tensorflow-2.12.0:\n",
            "      Successfully uninstalled tensorflow-2.12.0\n",
            "Successfully installed google-auth-oauthlib-0.4.6 keras-2.8.0 keras-preprocessing-1.1.2 tensorboard-2.8.0 tensorboard-data-server-0.6.1 tensorboard-plugin-wit-1.8.1 tensorflow-2.8.0 tf-estimator-nightly-2.8.0.dev2021122109\n",
            "Requirement already satisfied: opencv-python in /usr/local/lib/python3.10/dist-packages (4.7.0.72)\n",
            "Requirement already satisfied: numpy>=1.21.2 in /usr/local/lib/python3.10/dist-packages (from opencv-python) (1.22.4)\n",
            "Mounted at /content/drive\n"
          ]
        }
      ]
    },
    {
      "cell_type": "code",
      "execution_count": 2,
      "metadata": {
        "id": "sGqEcrNAVx_Q",
        "colab": {
          "base_uri": "https://localhost:8080/"
        },
        "outputId": "45dc0050-5bbe-4b42-fa18-f1c5d1314a11"
      },
      "outputs": [
        {
          "output_type": "stream",
          "name": "stdout",
          "text": [
            "\u001b[?25l     \u001b[90m━━━━━━━━━━━━━━━━━━━━━━━━━━━━━━━━━━━━━━━━\u001b[0m \u001b[32m0.0/612.1 kB\u001b[0m \u001b[31m?\u001b[0m eta \u001b[36m-:--:--\u001b[0m\r\u001b[2K     \u001b[91m━━━━━━━\u001b[0m\u001b[91m╸\u001b[0m\u001b[90m━━━━━━━━━━━━━━━━━━━━━━━━━━━━━━━\u001b[0m \u001b[32m122.9/612.1 kB\u001b[0m \u001b[31m3.5 MB/s\u001b[0m eta \u001b[36m0:00:01\u001b[0m\r\u001b[2K     \u001b[91m━━━━━━━━━━━━━━━━━━━━━━━━━━━━━━━━━━━━━━\u001b[0m\u001b[90m╺\u001b[0m \u001b[32m604.2/612.1 kB\u001b[0m \u001b[31m9.4 MB/s\u001b[0m eta \u001b[36m0:00:01\u001b[0m\r\u001b[2K     \u001b[90m━━━━━━━━━━━━━━━━━━━━━━━━━━━━━━━━━━━━━━━\u001b[0m \u001b[32m612.1/612.1 kB\u001b[0m \u001b[31m8.2 MB/s\u001b[0m eta \u001b[36m0:00:00\u001b[0m\n",
            "\u001b[?25h"
          ]
        }
      ],
      "source": [
        "!pip install -U -q tensorflow-addons"
      ]
    },
    {
      "cell_type": "markdown",
      "metadata": {
        "id": "wlSamfzPVx_R"
      },
      "source": [
        "## Imports"
      ]
    },
    {
      "cell_type": "code",
      "execution_count": 3,
      "metadata": {
        "id": "dpKyUwzCVx_T",
        "colab": {
          "base_uri": "https://localhost:8080/"
        },
        "outputId": "ff5f8e44-895b-48f9-d0c8-237ee37b4b42"
      },
      "outputs": [
        {
          "output_type": "stream",
          "name": "stderr",
          "text": [
            "/usr/local/lib/python3.10/dist-packages/tensorflow_addons/utils/tfa_eol_msg.py:23: UserWarning: \n",
            "\n",
            "TensorFlow Addons (TFA) has ended development and introduction of new features.\n",
            "TFA has entered a minimal maintenance and release mode until a planned end of life in May 2024.\n",
            "Please modify downstream libraries to take dependencies from other repositories in our TensorFlow community (e.g. Keras, Keras-CV, and Keras-NLP). \n",
            "\n",
            "For more information see: https://github.com/tensorflow/addons/issues/2807 \n",
            "\n",
            "  warnings.warn(\n",
            "/usr/local/lib/python3.10/dist-packages/tensorflow_addons/utils/ensure_tf_install.py:53: UserWarning: Tensorflow Addons supports using Python ops for all Tensorflow versions above or equal to 2.11.0 and strictly below 2.14.0 (nightly versions are not supported). \n",
            " The versions of TensorFlow you are currently using is 2.8.0 and is not supported. \n",
            "Some things might work, some things might not.\n",
            "If you were to encounter a bug, do not file an issue.\n",
            "If you want to make sure you're using a tested and supported configuration, either change the TensorFlow version or the TensorFlow Addons's version. \n",
            "You can find the compatibility matrix in TensorFlow Addon's readme:\n",
            "https://github.com/tensorflow/addons\n",
            "  warnings.warn(\n"
          ]
        }
      ],
      "source": [
        "from tensorflow.keras import layers\n",
        "from tensorflow import keras\n",
        "from sklearn.preprocessing import LabelEncoder\n",
        "import matplotlib.pyplot as plt\n",
        "import tensorflow_addons as tfa\n",
        "import tensorflow as tf\n",
        "import numpy as np"
      ]
    },
    {
      "cell_type": "markdown",
      "metadata": {
        "id": "dHja6pkNVx_U"
      },
      "source": [
        "## Hyperparameters and constants"
      ]
    },
    {
      "cell_type": "code",
      "execution_count": 4,
      "metadata": {
        "id": "jN346FcVVx_V"
      },
      "outputs": [],
      "source": [
        "positional_emb = True\n",
        "conv_layers = 2\n",
        "projection_dim = 128\n",
        "\n",
        "num_heads = 2\n",
        "transformer_units = [\n",
        "    projection_dim,\n",
        "    projection_dim,\n",
        "]\n",
        "transformer_layers = 2\n",
        "stochastic_depth_rate = 0.1\n",
        "\n",
        "learning_rate = 0.001\n",
        "weight_decay = 0.0001\n",
        "batch_size = 1#2#4#8#16#32#128\n",
        "num_epochs = 40 #30\n",
        "image_size = 256 #512"
      ]
    },
    {
      "cell_type": "markdown",
      "metadata": {
        "id": "OxTSUIo3Vx_W"
      },
      "source": [
        "## Load CIFAR-10 dataset"
      ]
    },
    {
      "cell_type": "code",
      "execution_count": 5,
      "metadata": {
        "id": "WV-9CzwcVx_X",
        "outputId": "4bd7aa30-500b-46b8-c50b-1687ddddedad",
        "colab": {
          "base_uri": "https://localhost:8080/"
        }
      },
      "outputs": [
        {
          "output_type": "stream",
          "name": "stdout",
          "text": [
            "x_train shape: (130, 512, 512, 3) - y_train shape: (130, 1)\n",
            "x_test shape: (130, 512, 512, 3) - y_test shape: (130, 1)\n",
            "x_val shape: (130, 512, 512, 3) - y_val shape: (130, 1)\n"
          ]
        }
      ],
      "source": [
        "num_classes = 10\n",
        "input_shape = (512, 512, 3)\n",
        "\n",
        "train_dir = '/content/drive/MyDrive/Chiro10_Smaller/train_512'\n",
        "test_dir = '/content/drive/MyDrive/Chiro10_Smaller/test_512'\n",
        "val_dir = '/content/drive/MyDrive/Chiro10_Smaller/val_512'\n",
        "\n",
        "x_train = []\n",
        "y_train = []\n",
        "\n",
        "x_test = []\n",
        "y_test = []\n",
        "\n",
        "x_val = []\n",
        "y_val = []\n",
        "\n",
        "# Učitajte slike za trening set\n",
        "for class_name in os.listdir(train_dir):\n",
        "    class_dir = os.path.join(train_dir, class_name)\n",
        "    if os.path.isdir(class_dir):\n",
        "        for file_name in os.listdir(class_dir):\n",
        "            file_path = os.path.join(class_dir, file_name)\n",
        "            #print(file_path)\n",
        "            image = cv2.imread(file_path)\n",
        "            image = cv2.resize(image, (input_shape[1], input_shape[0]))\n",
        "            x_train.append(image)\n",
        "            y_train.append([class_name])  # Convert class_name to a list\n",
        "\n",
        "# Učitajte slike za test set\n",
        "for class_name in os.listdir(test_dir):\n",
        "    class_dir = os.path.join(test_dir, class_name)\n",
        "    if os.path.isdir(class_dir):\n",
        "        for file_name in os.listdir(class_dir):\n",
        "            file_path = os.path.join(class_dir, file_name)\n",
        "            #print(file_path)\n",
        "            image = cv2.imread(file_path)\n",
        "            image = cv2.resize(image, (input_shape[1], input_shape[0]))\n",
        "            x_test.append(image)\n",
        "            y_test.append([class_name])  # Convert class_name to a list\n",
        "\n",
        "# Učitajte slike za validate set\n",
        "for class_name in os.listdir(val_dir):\n",
        "    class_dir = os.path.join(val_dir, class_name)\n",
        "    if os.path.isdir(class_dir):\n",
        "        for file_name in os.listdir(class_dir):\n",
        "            file_path = os.path.join(class_dir, file_name)\n",
        "            #print(file_path)\n",
        "            image = cv2.imread(file_path)\n",
        "            image = cv2.resize(image, (input_shape[1], input_shape[0]))\n",
        "            x_val.append(image)\n",
        "            y_val.append([class_name])  # Convert class_name to a list\n",
        "\n",
        "\n",
        "\n",
        "# Konvertujte liste u numpy nizove\n",
        "x_train = np.array(x_train)\n",
        "y_train = np.array(y_train)\n",
        "x_test = np.array(x_test)\n",
        "y_test = np.array(y_test)\n",
        "x_val = np.array(x_val)\n",
        "y_val = np.array(y_val)\n",
        "\n",
        "# Ispis dimenzija učitanih podataka\n",
        "print(f\"x_train shape: {x_train.shape} - y_train shape: {y_train.shape}\")\n",
        "print(f\"x_test shape: {x_test.shape} - y_test shape: {y_test.shape}\")\n",
        "print(f\"x_val shape: {x_val.shape} - y_val shape: {y_val.shape}\")\n",
        "\n",
        "# Convert class names to integer labels\n",
        "label_encoder = LabelEncoder()\n",
        "y_train_encoded = label_encoder.fit_transform(y_train.reshape(-1))\n",
        "y_test_encoded = label_encoder.transform(y_test.reshape(-1))\n",
        "y_val_encoded = label_encoder.transform(y_val.reshape(-1))"
      ]
    },
    {
      "cell_type": "markdown",
      "metadata": {
        "id": "U89bdwb0Vx_a"
      },
      "source": [
        "## The CCT tokenizer\n",
        "\n",
        "The first recipe introduced by the CCT authors is the tokenizer for processing the\n",
        "images. In a standard ViT, images are organized into uniform *non-overlapping* patches.\n",
        "This eliminates the boundary-level information present in between different patches. This\n",
        "is important for a neural network to effectively exploit the locality information. The\n",
        "figure below presents an illustration of how images are organized into patches.\n",
        "\n",
        "![](https://i.imgur.com/IkBK9oY.png)\n",
        "\n",
        "We already know that convolutions are quite good at exploiting locality information. So,\n",
        "based on this, the authors introduce an all-convolution mini-network to produce image\n",
        "patches."
      ]
    },
    {
      "cell_type": "code",
      "execution_count": 6,
      "metadata": {
        "id": "vtg3_E8wVx_c"
      },
      "outputs": [],
      "source": [
        "\n",
        "class CCTTokenizer(layers.Layer):\n",
        "    def __init__(\n",
        "        self,\n",
        "        kernel_size=3,\n",
        "        stride=1,\n",
        "        padding=1,\n",
        "        pooling_kernel_size=3,\n",
        "        pooling_stride=2,\n",
        "        num_conv_layers=conv_layers,\n",
        "        num_output_channels=[64, 128],\n",
        "        positional_emb=positional_emb,\n",
        "        **kwargs,\n",
        "    ):\n",
        "        super().__init__(**kwargs)\n",
        "\n",
        "        # This is our tokenizer.\n",
        "        self.conv_model = keras.Sequential()\n",
        "        for i in range(num_conv_layers):\n",
        "            self.conv_model.add(\n",
        "                layers.Conv2D(\n",
        "                    num_output_channels[i],\n",
        "                    kernel_size,\n",
        "                    stride,\n",
        "                    padding=\"valid\",\n",
        "                    use_bias=False,\n",
        "                    activation=\"relu\",\n",
        "                    kernel_initializer=\"he_normal\",\n",
        "                )\n",
        "            )\n",
        "            self.conv_model.add(layers.ZeroPadding2D(padding))\n",
        "            self.conv_model.add(\n",
        "                layers.MaxPool2D(pooling_kernel_size, pooling_stride, \"same\")\n",
        "            )\n",
        "\n",
        "        self.positional_emb = positional_emb\n",
        "\n",
        "    def call(self, images):\n",
        "        outputs = self.conv_model(images)\n",
        "        # After passing the images through our mini-network the spatial dimensions\n",
        "        # are flattened to form sequences.\n",
        "        reshaped = tf.reshape(\n",
        "            outputs,\n",
        "            (-1, tf.shape(outputs)[1] * tf.shape(outputs)[2], tf.shape(outputs)[-1]),\n",
        "        )\n",
        "        return reshaped\n",
        "\n",
        "    def positional_embedding(self, image_size):\n",
        "        # Positional embeddings are optional in CCT. Here, we calculate\n",
        "        # the number of sequences and initialize an `Embedding` layer to\n",
        "        # compute the positional embeddings later.\n",
        "        if self.positional_emb:\n",
        "            dummy_inputs = tf.ones((1, image_size, image_size, 3))\n",
        "            dummy_outputs = self.call(dummy_inputs)\n",
        "            sequence_length = tf.shape(dummy_outputs)[1]\n",
        "            projection_dim = tf.shape(dummy_outputs)[-1]\n",
        "\n",
        "            embed_layer = layers.Embedding(\n",
        "                input_dim=sequence_length, output_dim=projection_dim\n",
        "            )\n",
        "            return embed_layer, sequence_length\n",
        "        else:\n",
        "            return None\n"
      ]
    },
    {
      "cell_type": "markdown",
      "metadata": {
        "id": "WcVNERk9Vx_e"
      },
      "source": [
        "## Stochastic depth for regularization\n",
        "\n",
        "[Stochastic depth](https://arxiv.org/abs/1603.09382) is a regularization technique that\n",
        "randomly drops a set of layers. During inference, the layers are kept as they are. It is\n",
        "very much similar to [Dropout](https://jmlr.org/papers/v15/srivastava14a.html) but only\n",
        "that it operates on a block of layers rather than individual nodes present inside a\n",
        "layer. In CCT, stochastic depth is used just before the residual blocks of a Transformers\n",
        "encoder."
      ]
    },
    {
      "cell_type": "code",
      "execution_count": 7,
      "metadata": {
        "id": "7FwN0AhJVx_f"
      },
      "outputs": [],
      "source": [
        "# Referred from: github.com:rwightman/pytorch-image-models.\n",
        "class StochasticDepth(layers.Layer):\n",
        "    def __init__(self, drop_prop, **kwargs):\n",
        "        super().__init__(**kwargs)\n",
        "        self.drop_prob = drop_prop\n",
        "\n",
        "    def call(self, x, training=None):\n",
        "        if training:\n",
        "            keep_prob = 1 - self.drop_prob\n",
        "            shape = (tf.shape(x)[0],) + (1,) * (tf.shape(x).shape[0] - 1)\n",
        "            random_tensor = keep_prob + tf.random.uniform(shape, 0, 1)\n",
        "            random_tensor = tf.floor(random_tensor)\n",
        "            return (x / keep_prob) * random_tensor\n",
        "        return x\n"
      ]
    },
    {
      "cell_type": "markdown",
      "metadata": {
        "id": "42c-UJIvVx_g"
      },
      "source": [
        "## MLP for the Transformers encoder"
      ]
    },
    {
      "cell_type": "code",
      "execution_count": 8,
      "metadata": {
        "id": "y-DU8h4JVx_g"
      },
      "outputs": [],
      "source": [
        "\n",
        "def mlp(x, hidden_units, dropout_rate):\n",
        "    for units in hidden_units:\n",
        "        x = layers.Dense(units, activation=tf.nn.gelu)(x)\n",
        "        x = layers.Dropout(dropout_rate)(x)\n",
        "    return x\n"
      ]
    },
    {
      "cell_type": "markdown",
      "metadata": {
        "id": "nxidrQDVVx_h"
      },
      "source": [
        "## Data augmentation\n",
        "\n",
        "In the [original paper](https://arxiv.org/abs/2104.05704), the authors use\n",
        "[AutoAugment](https://arxiv.org/abs/1805.09501) to induce stronger regularization. For\n",
        "this example, we will be using the standard geometric augmentations like random cropping\n",
        "and flipping."
      ]
    },
    {
      "cell_type": "code",
      "execution_count": 9,
      "metadata": {
        "id": "RQV9TCb4Vx_i"
      },
      "outputs": [],
      "source": [
        "# Note the rescaling layer. These layers have pre-defined inference behavior.\n",
        "data_augmentation = keras.Sequential(\n",
        "    [\n",
        "        layers.Rescaling(scale=1.0 / 255),\n",
        "        layers.RandomCrop(image_size, image_size),\n",
        "        layers.RandomFlip(\"horizontal\"),\n",
        "    ],\n",
        "    name=\"data_augmentation\",\n",
        ")"
      ]
    },
    {
      "cell_type": "markdown",
      "metadata": {
        "id": "UTtUQ-vzVx_k"
      },
      "source": [
        "## The final CCT model\n",
        "\n",
        "Another recipe introduced in CCT is attention pooling or sequence pooling. In ViT, only\n",
        "the feature map corresponding to the class token is pooled and is then used for the\n",
        "subsequent classification task (or any other downstream task). In CCT, outputs from the\n",
        "Transformers encoder are weighted and then passed on to the final task-specific layer (in\n",
        "this example, we do classification)."
      ]
    },
    {
      "cell_type": "code",
      "execution_count": 10,
      "metadata": {
        "id": "2F67uUovVx_l"
      },
      "outputs": [],
      "source": [
        "\n",
        "def create_cct_model(\n",
        "    image_size=image_size,\n",
        "    input_shape=input_shape,\n",
        "    num_heads=num_heads,\n",
        "    projection_dim=projection_dim,\n",
        "    transformer_units=transformer_units,\n",
        "):\n",
        "\n",
        "    inputs = layers.Input(input_shape)\n",
        "\n",
        "    # Augment data.\n",
        "    augmented = data_augmentation(inputs)\n",
        "\n",
        "    # Encode patches.\n",
        "    cct_tokenizer = CCTTokenizer()\n",
        "    encoded_patches = cct_tokenizer(augmented)\n",
        "\n",
        "    # Apply positional embedding.\n",
        "    if positional_emb:\n",
        "        pos_embed, seq_length = cct_tokenizer.positional_embedding(image_size)\n",
        "        positions = tf.range(start=0, limit=seq_length, delta=1)\n",
        "        position_embeddings = pos_embed(positions)\n",
        "        encoded_patches += position_embeddings\n",
        "\n",
        "    # Calculate Stochastic Depth probabilities.\n",
        "    dpr = [x for x in np.linspace(0, stochastic_depth_rate, transformer_layers)]\n",
        "\n",
        "    # Create multiple layers of the Transformer block.\n",
        "    for i in range(transformer_layers):\n",
        "        # Layer normalization 1.\n",
        "        x1 = layers.LayerNormalization(epsilon=1e-5)(encoded_patches)\n",
        "\n",
        "        # Create a multi-head attention layer.\n",
        "        attention_output = layers.MultiHeadAttention(\n",
        "            num_heads=num_heads, key_dim=projection_dim, dropout=0.1\n",
        "        )(x1, x1)\n",
        "\n",
        "        # Skip connection 1.\n",
        "        attention_output = StochasticDepth(dpr[i])(attention_output)\n",
        "        x2 = layers.Add()([attention_output, encoded_patches])\n",
        "\n",
        "        # Layer normalization 2.\n",
        "        x3 = layers.LayerNormalization(epsilon=1e-5)(x2)\n",
        "\n",
        "        # MLP.\n",
        "        x3 = mlp(x3, hidden_units=transformer_units, dropout_rate=0.1)\n",
        "\n",
        "        # Skip connection 2.\n",
        "        x3 = StochasticDepth(dpr[i])(x3)\n",
        "        encoded_patches = layers.Add()([x3, x2])\n",
        "\n",
        "    # Apply sequence pooling.\n",
        "    representation = layers.LayerNormalization(epsilon=1e-5)(encoded_patches)\n",
        "    attention_weights = tf.nn.softmax(layers.Dense(1)(representation), axis=1)\n",
        "    weighted_representation = tf.matmul(\n",
        "        attention_weights, representation, transpose_a=True\n",
        "    )\n",
        "    weighted_representation = tf.squeeze(weighted_representation, -2)\n",
        "\n",
        "    # Classify outputs.\n",
        "    logits = layers.Dense(num_classes)(weighted_representation)\n",
        "    # Create the Keras model.\n",
        "    model = keras.Model(inputs=inputs, outputs=logits)\n",
        "    return model\n"
      ]
    },
    {
      "cell_type": "markdown",
      "metadata": {
        "id": "3nGptBLaVx_m"
      },
      "source": [
        "## Model training and evaluation"
      ]
    },
    {
      "cell_type": "code",
      "execution_count": 11,
      "metadata": {
        "id": "ATal1Ng2Vx_m",
        "outputId": "4441e907-394b-4ce3-943e-5e5f2dc966ff",
        "colab": {
          "base_uri": "https://localhost:8080/"
        }
      },
      "outputs": [
        {
          "output_type": "stream",
          "name": "stdout",
          "text": [
            "Epoch 1/40\n",
            "130/130 [==============================] - 17s 99ms/step - loss: 2.8481 - accuracy: 0.1000 - top-5-accuracy: 0.3000 - val_loss: 2.5692 - val_accuracy: 0.0000e+00 - val_top-5-accuracy: 0.4923\n",
            "Epoch 2/40\n",
            "130/130 [==============================] - 15s 113ms/step - loss: 2.4570 - accuracy: 0.1692 - top-5-accuracy: 0.4154 - val_loss: 2.2804 - val_accuracy: 0.0000e+00 - val_top-5-accuracy: 0.1846\n",
            "Epoch 3/40\n",
            "130/130 [==============================] - 13s 102ms/step - loss: 2.3736 - accuracy: 0.1077 - top-5-accuracy: 0.4385 - val_loss: 2.3145 - val_accuracy: 0.0000e+00 - val_top-5-accuracy: 0.2385\n",
            "Epoch 4/40\n",
            "130/130 [==============================] - 13s 99ms/step - loss: 2.3752 - accuracy: 0.0692 - top-5-accuracy: 0.4231 - val_loss: 2.2958 - val_accuracy: 0.0000e+00 - val_top-5-accuracy: 0.2923\n",
            "Epoch 5/40\n",
            "130/130 [==============================] - 12s 94ms/step - loss: 2.2432 - accuracy: 0.1231 - top-5-accuracy: 0.5231 - val_loss: 2.4090 - val_accuracy: 0.0000e+00 - val_top-5-accuracy: 0.0231\n",
            "Epoch 6/40\n",
            "130/130 [==============================] - 12s 96ms/step - loss: 2.2249 - accuracy: 0.1385 - top-5-accuracy: 0.3615 - val_loss: 2.1968 - val_accuracy: 0.1769 - val_top-5-accuracy: 0.4000\n",
            "Epoch 7/40\n",
            "130/130 [==============================] - 13s 97ms/step - loss: 2.2402 - accuracy: 0.1385 - top-5-accuracy: 0.2923 - val_loss: 2.1078 - val_accuracy: 0.1000 - val_top-5-accuracy: 0.2923\n",
            "Epoch 8/40\n",
            "130/130 [==============================] - 13s 97ms/step - loss: 2.1943 - accuracy: 0.1923 - top-5-accuracy: 0.3077 - val_loss: 2.0315 - val_accuracy: 0.2308 - val_top-5-accuracy: 0.3077\n",
            "Epoch 9/40\n",
            "130/130 [==============================] - 15s 114ms/step - loss: 2.1568 - accuracy: 0.1385 - top-5-accuracy: 0.2462 - val_loss: 2.4020 - val_accuracy: 0.0154 - val_top-5-accuracy: 0.0231\n",
            "Epoch 10/40\n",
            "130/130 [==============================] - 13s 99ms/step - loss: 2.1168 - accuracy: 0.1385 - top-5-accuracy: 0.3308 - val_loss: 2.1119 - val_accuracy: 0.0231 - val_top-5-accuracy: 0.1231\n",
            "Epoch 11/40\n",
            "130/130 [==============================] - 13s 97ms/step - loss: 2.1393 - accuracy: 0.1846 - top-5-accuracy: 0.2538 - val_loss: 2.1300 - val_accuracy: 0.0462 - val_top-5-accuracy: 0.2538\n",
            "Epoch 12/40\n",
            "130/130 [==============================] - 15s 116ms/step - loss: 2.1399 - accuracy: 0.1000 - top-5-accuracy: 0.2308 - val_loss: 2.0614 - val_accuracy: 0.0923 - val_top-5-accuracy: 0.3462\n",
            "Epoch 13/40\n",
            "130/130 [==============================] - 13s 98ms/step - loss: 2.0150 - accuracy: 0.1538 - top-5-accuracy: 0.3154 - val_loss: 1.9546 - val_accuracy: 0.1385 - val_top-5-accuracy: 0.1846\n",
            "Epoch 14/40\n",
            "130/130 [==============================] - 13s 98ms/step - loss: 2.0558 - accuracy: 0.1308 - top-5-accuracy: 0.2308 - val_loss: 1.9240 - val_accuracy: 0.1308 - val_top-5-accuracy: 0.2077\n",
            "Epoch 15/40\n",
            "130/130 [==============================] - 15s 116ms/step - loss: 1.9044 - accuracy: 0.1308 - top-5-accuracy: 0.2231 - val_loss: 2.0020 - val_accuracy: 0.0462 - val_top-5-accuracy: 0.1769\n",
            "Epoch 16/40\n",
            "130/130 [==============================] - 13s 99ms/step - loss: 1.7932 - accuracy: 0.1385 - top-5-accuracy: 0.2538 - val_loss: 2.0205 - val_accuracy: 0.0462 - val_top-5-accuracy: 0.1154\n",
            "Epoch 17/40\n",
            "130/130 [==============================] - 13s 98ms/step - loss: 1.7585 - accuracy: 0.1615 - top-5-accuracy: 0.2308 - val_loss: 1.7187 - val_accuracy: 0.1154 - val_top-5-accuracy: 0.1769\n",
            "Epoch 18/40\n",
            "130/130 [==============================] - 15s 117ms/step - loss: 1.7401 - accuracy: 0.1308 - top-5-accuracy: 0.2308 - val_loss: 1.6236 - val_accuracy: 0.1077 - val_top-5-accuracy: 0.1923\n",
            "Epoch 19/40\n",
            "130/130 [==============================] - 15s 117ms/step - loss: 1.6276 - accuracy: 0.1462 - top-5-accuracy: 0.2231 - val_loss: 2.1388 - val_accuracy: 0.0615 - val_top-5-accuracy: 0.1000\n",
            "Epoch 20/40\n",
            "130/130 [==============================] - 13s 99ms/step - loss: 1.5885 - accuracy: 0.1231 - top-5-accuracy: 0.2154 - val_loss: 1.6428 - val_accuracy: 0.0923 - val_top-5-accuracy: 0.1769\n",
            "Epoch 21/40\n",
            "130/130 [==============================] - 15s 117ms/step - loss: 1.4449 - accuracy: 0.1077 - top-5-accuracy: 0.2385 - val_loss: 1.6536 - val_accuracy: 0.1154 - val_top-5-accuracy: 0.2538\n",
            "Epoch 22/40\n",
            "130/130 [==============================] - 15s 117ms/step - loss: 1.4763 - accuracy: 0.1308 - top-5-accuracy: 0.2385 - val_loss: 1.6236 - val_accuracy: 0.1077 - val_top-5-accuracy: 0.2846\n",
            "Epoch 23/40\n",
            "130/130 [==============================] - 15s 116ms/step - loss: 1.3936 - accuracy: 0.1077 - top-5-accuracy: 0.2308 - val_loss: 1.4147 - val_accuracy: 0.1154 - val_top-5-accuracy: 0.2077\n",
            "Epoch 24/40\n",
            "130/130 [==============================] - 13s 100ms/step - loss: 1.4136 - accuracy: 0.1231 - top-5-accuracy: 0.2231 - val_loss: 1.4156 - val_accuracy: 0.0769 - val_top-5-accuracy: 0.1462\n",
            "Epoch 25/40\n",
            "130/130 [==============================] - 15s 117ms/step - loss: 1.2941 - accuracy: 0.1154 - top-5-accuracy: 0.2231 - val_loss: 1.4050 - val_accuracy: 0.0692 - val_top-5-accuracy: 0.1154\n",
            "Epoch 26/40\n",
            "130/130 [==============================] - 15s 117ms/step - loss: 1.3541 - accuracy: 0.1000 - top-5-accuracy: 0.2231 - val_loss: 1.5809 - val_accuracy: 0.1231 - val_top-5-accuracy: 0.2692\n",
            "Epoch 27/40\n",
            "130/130 [==============================] - 13s 100ms/step - loss: 1.3273 - accuracy: 0.1077 - top-5-accuracy: 0.2615 - val_loss: 1.5503 - val_accuracy: 0.0846 - val_top-5-accuracy: 0.1231\n",
            "Epoch 28/40\n",
            "130/130 [==============================] - 15s 117ms/step - loss: 1.3591 - accuracy: 0.1231 - top-5-accuracy: 0.2231 - val_loss: 1.4538 - val_accuracy: 0.0692 - val_top-5-accuracy: 0.1615\n",
            "Epoch 29/40\n",
            "130/130 [==============================] - 13s 100ms/step - loss: 1.2110 - accuracy: 0.1000 - top-5-accuracy: 0.2538 - val_loss: 1.6050 - val_accuracy: 0.0692 - val_top-5-accuracy: 0.1077\n",
            "Epoch 30/40\n",
            "130/130 [==============================] - 13s 100ms/step - loss: 1.2912 - accuracy: 0.1231 - top-5-accuracy: 0.2692 - val_loss: 1.4868 - val_accuracy: 0.0692 - val_top-5-accuracy: 0.1000\n",
            "Epoch 31/40\n",
            "130/130 [==============================] - 13s 100ms/step - loss: 1.2613 - accuracy: 0.1077 - top-5-accuracy: 0.2462 - val_loss: 1.5586 - val_accuracy: 0.0538 - val_top-5-accuracy: 0.1846\n",
            "Epoch 32/40\n",
            "130/130 [==============================] - 15s 116ms/step - loss: 1.1065 - accuracy: 0.1154 - top-5-accuracy: 0.2154 - val_loss: 1.4301 - val_accuracy: 0.0462 - val_top-5-accuracy: 0.1231\n",
            "Epoch 33/40\n",
            "130/130 [==============================] - 13s 100ms/step - loss: 1.2664 - accuracy: 0.1077 - top-5-accuracy: 0.2154 - val_loss: 1.4049 - val_accuracy: 0.1077 - val_top-5-accuracy: 0.1923\n",
            "Epoch 34/40\n",
            "130/130 [==============================] - 15s 117ms/step - loss: 1.2382 - accuracy: 0.0923 - top-5-accuracy: 0.2538 - val_loss: 1.2316 - val_accuracy: 0.1231 - val_top-5-accuracy: 0.2462\n",
            "Epoch 35/40\n",
            "130/130 [==============================] - 15s 117ms/step - loss: 1.2051 - accuracy: 0.1077 - top-5-accuracy: 0.2615 - val_loss: 1.1902 - val_accuracy: 0.1154 - val_top-5-accuracy: 0.2077\n",
            "Epoch 36/40\n",
            "130/130 [==============================] - 15s 117ms/step - loss: 1.2133 - accuracy: 0.1000 - top-5-accuracy: 0.2692 - val_loss: 1.3885 - val_accuracy: 0.0846 - val_top-5-accuracy: 0.1538\n",
            "Epoch 37/40\n",
            "130/130 [==============================] - 13s 100ms/step - loss: 1.1962 - accuracy: 0.1000 - top-5-accuracy: 0.2538 - val_loss: 1.1783 - val_accuracy: 0.1308 - val_top-5-accuracy: 0.3385\n",
            "Epoch 38/40\n",
            "130/130 [==============================] - 13s 101ms/step - loss: 1.2049 - accuracy: 0.1231 - top-5-accuracy: 0.2923 - val_loss: 1.4615 - val_accuracy: 0.0692 - val_top-5-accuracy: 0.1000\n",
            "Epoch 39/40\n",
            "130/130 [==============================] - 13s 100ms/step - loss: 1.1231 - accuracy: 0.1308 - top-5-accuracy: 0.2692 - val_loss: 1.2467 - val_accuracy: 0.0769 - val_top-5-accuracy: 0.1385\n",
            "Epoch 40/40\n",
            "130/130 [==============================] - 15s 117ms/step - loss: 1.1847 - accuracy: 0.1154 - top-5-accuracy: 0.2538 - val_loss: 1.1782 - val_accuracy: 0.1154 - val_top-5-accuracy: 0.2923\n",
            "5/5 [==============================] - 4s 571ms/step - loss: 2.0337 - accuracy: 0.2308 - top-5-accuracy: 0.2846\n",
            "Test accuracy: 23.08%\n",
            "Test top 5 accuracy: 28.46%\n"
          ]
        }
      ],
      "source": [
        "\n",
        "def run_experiment(model):\n",
        "    optimizer = tfa.optimizers.AdamW(learning_rate=0.001, weight_decay=0.0001)\n",
        "\n",
        "    model.compile(\n",
        "        optimizer=optimizer,#Izmenjeno\n",
        "        loss=keras.losses.SparseCategoricalCrossentropy(\n",
        "            from_logits=True, #label_smoothing = 0.1\n",
        "        ),\n",
        "        metrics=[\n",
        "            keras.metrics.CategoricalAccuracy(name=\"accuracy\"),\n",
        "            keras.metrics.TopKCategoricalAccuracy(5, name=\"top-5-accuracy\"),\n",
        "        ],\n",
        "    )\n",
        "\n",
        "    checkpoint_filepath = \"/tmp/checkpoint\"\n",
        "    checkpoint_callback = keras.callbacks.ModelCheckpoint(\n",
        "        checkpoint_filepath,\n",
        "        monitor=\"val_accuracy\",\n",
        "        save_best_only=True,\n",
        "        save_weights_only=True,\n",
        "    )\n",
        "\n",
        "    history = model.fit(\n",
        "        x=x_train,\n",
        "        y=y_train_encoded,\n",
        "        batch_size=batch_size,\n",
        "        epochs=num_epochs,\n",
        "        validation_data=(x_val, y_val_encoded),  # Use the validation data here\n",
        "        callbacks=[checkpoint_callback],\n",
        "    )\n",
        "\n",
        "    model.load_weights(checkpoint_filepath)\n",
        "    _, accuracy, top_5_accuracy = model.evaluate(x_test, y_test_encoded)\n",
        "    print(f\"Test accuracy: {round(accuracy * 100, 2)}%\")\n",
        "    print(f\"Test top 5 accuracy: {round(top_5_accuracy * 100, 2)}%\")\n",
        "\n",
        "    return history\n",
        "\n",
        "\n",
        "cct_model = create_cct_model()\n",
        "history = run_experiment(cct_model)"
      ]
    },
    {
      "cell_type": "markdown",
      "metadata": {
        "id": "ktnpffeHVx_n"
      },
      "source": [
        "Let's now visualize the training progress of the model."
      ]
    },
    {
      "cell_type": "code",
      "execution_count": 12,
      "metadata": {
        "id": "FlNwZhasVx_o",
        "colab": {
          "base_uri": "https://localhost:8080/",
          "height": 473
        },
        "outputId": "888114c6-9b8d-46db-beca-df0f5ffba3a6"
      },
      "outputs": [
        {
          "output_type": "display_data",
          "data": {
            "text/plain": [
              "<Figure size 640x480 with 1 Axes>"
            ],
            "image/png": "[encoded data removed]"
          },
          "metadata": {}
        }
      ],
      "source": [
        "plt.plot(history.history[\"loss\"], label=\"train_loss\")\n",
        "plt.plot(history.history[\"val_loss\"], label=\"val_loss\")\n",
        "plt.xlabel(\"Epochs\")\n",
        "plt.ylabel(\"Loss\")\n",
        "plt.title(\"Train and Validation Losses Over Epochs\", fontsize=14)\n",
        "plt.legend()\n",
        "plt.grid()\n",
        "plt.show()"
      ]
    },
    {
      "cell_type": "markdown",
      "metadata": {
        "id": "zBx1HxEPVx_p"
      },
      "source": [
        "The CCT model we just trained has just **0.4 million** parameters, and it gets us to\n",
        "~78% top-1 accuracy within 30 epochs. The plot above shows no signs of overfitting as\n",
        "well. This means we can train this network for longer (perhaps with a bit more\n",
        "regularization) and may obtain even better performance. This performance can further be\n",
        "improved by additional recipes like cosine decay learning rate schedule, other data augmentation\n",
        "techniques like [AutoAugment](https://arxiv.org/abs/1805.09501),\n",
        "[MixUp](https://arxiv.org/abs/1710.09412) or\n",
        "[Cutmix](https://arxiv.org/abs/1905.04899). With these modifications, the authors present\n",
        "95.1% top-1 accuracy on the CIFAR-10 dataset. The authors also present a number of\n",
        "experiments to study how the number of convolution blocks, Transformers layers, etc.\n",
        "affect the final performance of CCTs.\n",
        "\n",
        "For a comparison, a ViT model takes about **4.7 million** parameters and **100\n",
        "epochs** of training to reach a top-1 accuracy of 78.22% on the CIFAR-10 dataset. You can\n",
        "refer to\n",
        "[this notebook](https://colab.research.google.com/gist/sayakpaul/1a80d9f582b044354a1a26c5cb3d69e5/image_classification_with_vision_transformer.ipynb)\n",
        "to know about the experimental setup.\n",
        "\n",
        "The authors also demonstrate the performance of Compact Convolutional Transformers on\n",
        "NLP tasks and they report competitive results there."
      ]
    }
  ],
  "metadata": {
    "accelerator": "GPU",
    "colab": {
      "provenance": [],
      "gpuType": "T4",
      "include_colab_link": true
    },
    "kernelspec": {
      "display_name": "Python 3",
      "name": "python3"
    },
    "language_info": {
      "codemirror_mode": {
        "name": "ipython",
        "version": 3
      },
      "file_extension": ".py",
      "mimetype": "text/x-python",
      "name": "python",
      "nbconvert_exporter": "python",
      "pygments_lexer": "ipython3",
      "version": "3.7.0"
    }
  },
  "nbformat": 4,
  "nbformat_minor": 0
}