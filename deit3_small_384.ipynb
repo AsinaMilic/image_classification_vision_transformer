{
  "nbformat": 4,
  "nbformat_minor": 0,
  "metadata": {
    "colab": {
      "provenance": [],
      "gpuType": "T4"
    },
    "kernelspec": {
      "name": "python3",
      "display_name": "Python 3"
    },
    "language_info": {
      "name": "python"
    },
    "accelerator": "GPU"
  },
  "cells": [
    {
      "cell_type": "code",
      "source": [
        "\n",
        "\n",
        "from google.colab import drive\n",
        "drive.mount('/content/drive')\n",
        "\n"
      ],
      "metadata": {
        "colab": {
          "base_uri": "https://localhost:8080/"
        },
        "id": "aMPmdjAOy6qx",
        "outputId": "570ac101-d027-47ec-c58b-37efa10175fb"
      },
      "execution_count": 1,
      "outputs": [
        {
          "output_type": "stream",
          "name": "stdout",
          "text": [
            "Drive already mounted at /content/drive; to attempt to forcibly remount, call drive.mount(\"/content/drive\", force_remount=True).\n"
          ]
        }
      ]
    },
    {
      "cell_type": "code",
      "source": [
        "import os\n",
        "import cv2\n",
        "import numpy as np\n",
        "import torch\n",
        "from sklearn.preprocessing import LabelEncoder\n",
        "from torch.utils.data import Dataset, DataLoader\n",
        "from torchvision import transforms as T\n",
        "from torchvision import models\n",
        "!pip install scikit-learn\n",
        "from sklearn.metrics import confusion_matrix\n",
        "import seaborn as sns\n",
        "import matplotlib.pyplot as plt\n",
        "!pip install seaborn\n",
        "!pip install timm\n",
        "import timm\n",
        "from timm.loss import LabelSmoothingCrossEntropy\n",
        "import torch.nn as nn\n",
        "import torch.optim as optim\n",
        "import copy\n",
        "from tqdm import tqdm\n",
        "import time\n",
        "from torch.cuda.amp import GradScaler, autocast"
      ],
      "metadata": {
        "colab": {
          "base_uri": "https://localhost:8080/"
        },
        "id": "Ti6X40htyQvh",
        "outputId": "d8aa717e-b797-4b5b-aa8c-5ce40850f665"
      },
      "execution_count": 2,
      "outputs": [
        {
          "output_type": "stream",
          "name": "stdout",
          "text": [
            "Requirement already satisfied: scikit-learn in /usr/local/lib/python3.10/dist-packages (1.2.2)\n",
            "Requirement already satisfied: numpy>=1.17.3 in /usr/local/lib/python3.10/dist-packages (from scikit-learn) (1.23.5)\n",
            "Requirement already satisfied: scipy>=1.3.2 in /usr/local/lib/python3.10/dist-packages (from scikit-learn) (1.10.1)\n",
            "Requirement already satisfied: joblib>=1.1.1 in /usr/local/lib/python3.10/dist-packages (from scikit-learn) (1.3.1)\n",
            "Requirement already satisfied: threadpoolctl>=2.0.0 in /usr/local/lib/python3.10/dist-packages (from scikit-learn) (3.2.0)\n",
            "Requirement already satisfied: seaborn in /usr/local/lib/python3.10/dist-packages (0.12.2)\n",
            "Requirement already satisfied: numpy!=1.24.0,>=1.17 in /usr/local/lib/python3.10/dist-packages (from seaborn) (1.23.5)\n",
            "Requirement already satisfied: pandas>=0.25 in /usr/local/lib/python3.10/dist-packages (from seaborn) (1.5.3)\n",
            "Requirement already satisfied: matplotlib!=3.6.1,>=3.1 in /usr/local/lib/python3.10/dist-packages (from seaborn) (3.7.1)\n",
            "Requirement already satisfied: contourpy>=1.0.1 in /usr/local/lib/python3.10/dist-packages (from matplotlib!=3.6.1,>=3.1->seaborn) (1.1.0)\n",
            "Requirement already satisfied: cycler>=0.10 in /usr/local/lib/python3.10/dist-packages (from matplotlib!=3.6.1,>=3.1->seaborn) (0.11.0)\n",
            "Requirement already satisfied: fonttools>=4.22.0 in /usr/local/lib/python3.10/dist-packages (from matplotlib!=3.6.1,>=3.1->seaborn) (4.42.0)\n",
            "Requirement already satisfied: kiwisolver>=1.0.1 in /usr/local/lib/python3.10/dist-packages (from matplotlib!=3.6.1,>=3.1->seaborn) (1.4.4)\n",
            "Requirement already satisfied: packaging>=20.0 in /usr/local/lib/python3.10/dist-packages (from matplotlib!=3.6.1,>=3.1->seaborn) (23.1)\n",
            "Requirement already satisfied: pillow>=6.2.0 in /usr/local/lib/python3.10/dist-packages (from matplotlib!=3.6.1,>=3.1->seaborn) (9.4.0)\n",
            "Requirement already satisfied: pyparsing>=2.3.1 in /usr/local/lib/python3.10/dist-packages (from matplotlib!=3.6.1,>=3.1->seaborn) (3.1.1)\n",
            "Requirement already satisfied: python-dateutil>=2.7 in /usr/local/lib/python3.10/dist-packages (from matplotlib!=3.6.1,>=3.1->seaborn) (2.8.2)\n",
            "Requirement already satisfied: pytz>=2020.1 in /usr/local/lib/python3.10/dist-packages (from pandas>=0.25->seaborn) (2022.7.1)\n",
            "Requirement already satisfied: six>=1.5 in /usr/local/lib/python3.10/dist-packages (from python-dateutil>=2.7->matplotlib!=3.6.1,>=3.1->seaborn) (1.16.0)\n",
            "Requirement already satisfied: timm in /usr/local/lib/python3.10/dist-packages (0.9.5)\n",
            "Requirement already satisfied: torch>=1.7 in /usr/local/lib/python3.10/dist-packages (from timm) (2.0.1+cu118)\n",
            "Requirement already satisfied: torchvision in /usr/local/lib/python3.10/dist-packages (from timm) (0.15.2+cu118)\n",
            "Requirement already satisfied: pyyaml in /usr/local/lib/python3.10/dist-packages (from timm) (6.0.1)\n",
            "Requirement already satisfied: huggingface-hub in /usr/local/lib/python3.10/dist-packages (from timm) (0.16.4)\n",
            "Requirement already satisfied: safetensors in /usr/local/lib/python3.10/dist-packages (from timm) (0.3.2)\n",
            "Requirement already satisfied: filelock in /usr/local/lib/python3.10/dist-packages (from torch>=1.7->timm) (3.12.2)\n",
            "Requirement already satisfied: typing-extensions in /usr/local/lib/python3.10/dist-packages (from torch>=1.7->timm) (4.7.1)\n",
            "Requirement already satisfied: sympy in /usr/local/lib/python3.10/dist-packages (from torch>=1.7->timm) (1.11.1)\n",
            "Requirement already satisfied: networkx in /usr/local/lib/python3.10/dist-packages (from torch>=1.7->timm) (3.1)\n",
            "Requirement already satisfied: jinja2 in /usr/local/lib/python3.10/dist-packages (from torch>=1.7->timm) (3.1.2)\n",
            "Requirement already satisfied: triton==2.0.0 in /usr/local/lib/python3.10/dist-packages (from torch>=1.7->timm) (2.0.0)\n",
            "Requirement already satisfied: cmake in /usr/local/lib/python3.10/dist-packages (from triton==2.0.0->torch>=1.7->timm) (3.25.2)\n",
            "Requirement already satisfied: lit in /usr/local/lib/python3.10/dist-packages (from triton==2.0.0->torch>=1.7->timm) (16.0.6)\n",
            "Requirement already satisfied: fsspec in /usr/local/lib/python3.10/dist-packages (from huggingface-hub->timm) (2023.6.0)\n",
            "Requirement already satisfied: requests in /usr/local/lib/python3.10/dist-packages (from huggingface-hub->timm) (2.31.0)\n",
            "Requirement already satisfied: tqdm>=4.42.1 in /usr/local/lib/python3.10/dist-packages (from huggingface-hub->timm) (4.65.0)\n",
            "Requirement already satisfied: packaging>=20.9 in /usr/local/lib/python3.10/dist-packages (from huggingface-hub->timm) (23.1)\n",
            "Requirement already satisfied: numpy in /usr/local/lib/python3.10/dist-packages (from torchvision->timm) (1.23.5)\n",
            "Requirement already satisfied: pillow!=8.3.*,>=5.3.0 in /usr/local/lib/python3.10/dist-packages (from torchvision->timm) (9.4.0)\n",
            "Requirement already satisfied: MarkupSafe>=2.0 in /usr/local/lib/python3.10/dist-packages (from jinja2->torch>=1.7->timm) (2.1.3)\n",
            "Requirement already satisfied: charset-normalizer<4,>=2 in /usr/local/lib/python3.10/dist-packages (from requests->huggingface-hub->timm) (3.2.0)\n",
            "Requirement already satisfied: idna<4,>=2.5 in /usr/local/lib/python3.10/dist-packages (from requests->huggingface-hub->timm) (3.4)\n",
            "Requirement already satisfied: urllib3<3,>=1.21.1 in /usr/local/lib/python3.10/dist-packages (from requests->huggingface-hub->timm) (1.26.16)\n",
            "Requirement already satisfied: certifi>=2017.4.17 in /usr/local/lib/python3.10/dist-packages (from requests->huggingface-hub->timm) (2023.7.22)\n",
            "Requirement already satisfied: mpmath>=0.19 in /usr/local/lib/python3.10/dist-packages (from sympy->torch>=1.7->timm) (1.3.0)\n"
          ]
        }
      ]
    },
    {
      "cell_type": "code",
      "source": [
        "models = timm.list_models()\n",
        "for model in models:\n",
        "    print(model)\n"
      ],
      "metadata": {
        "id": "GJyk8njApjbt",
        "colab": {
          "base_uri": "https://localhost:8080/"
        },
        "outputId": "c442d33d-c595-4897-cf58-bf619c5d8456"
      },
      "execution_count": 6,
      "outputs": [
        {
          "output_type": "stream",
          "name": "stdout",
          "text": [
            "bat_resnext26ts\n",
            "beit_base_patch16_224\n",
            "beit_base_patch16_384\n",
            "beit_large_patch16_224\n",
            "beit_large_patch16_384\n",
            "beit_large_patch16_512\n",
            "beitv2_base_patch16_224\n",
            "beitv2_large_patch16_224\n",
            "botnet26t_256\n",
            "botnet50ts_256\n",
            "caformer_b36\n",
            "caformer_m36\n",
            "caformer_s18\n",
            "caformer_s36\n",
            "cait_m36_384\n",
            "cait_m48_448\n",
            "cait_s24_224\n",
            "cait_s24_384\n",
            "cait_s36_384\n",
            "cait_xs24_384\n",
            "cait_xxs24_224\n",
            "cait_xxs24_384\n",
            "cait_xxs36_224\n",
            "cait_xxs36_384\n",
            "coat_lite_medium\n",
            "coat_lite_medium_384\n",
            "coat_lite_mini\n",
            "coat_lite_small\n",
            "coat_lite_tiny\n",
            "coat_mini\n",
            "coat_small\n",
            "coat_tiny\n",
            "coatnet_0_224\n",
            "coatnet_0_rw_224\n",
            "coatnet_1_224\n",
            "coatnet_1_rw_224\n",
            "coatnet_2_224\n",
            "coatnet_2_rw_224\n",
            "coatnet_3_224\n",
            "coatnet_3_rw_224\n",
            "coatnet_4_224\n",
            "coatnet_5_224\n",
            "coatnet_bn_0_rw_224\n",
            "coatnet_nano_cc_224\n",
            "coatnet_nano_rw_224\n",
            "coatnet_pico_rw_224\n",
            "coatnet_rmlp_0_rw_224\n",
            "coatnet_rmlp_1_rw2_224\n",
            "coatnet_rmlp_1_rw_224\n",
            "coatnet_rmlp_2_rw_224\n",
            "coatnet_rmlp_2_rw_384\n",
            "coatnet_rmlp_3_rw_224\n",
            "coatnet_rmlp_nano_rw_224\n",
            "coatnext_nano_rw_224\n",
            "convformer_b36\n",
            "convformer_m36\n",
            "convformer_s18\n",
            "convformer_s36\n",
            "convit_base\n",
            "convit_small\n",
            "convit_tiny\n",
            "convmixer_768_32\n",
            "convmixer_1024_20_ks9_p14\n",
            "convmixer_1536_20\n",
            "convnext_atto\n",
            "convnext_atto_ols\n",
            "convnext_base\n",
            "convnext_femto\n",
            "convnext_femto_ols\n",
            "convnext_large\n",
            "convnext_large_mlp\n",
            "convnext_nano\n",
            "convnext_nano_ols\n",
            "convnext_pico\n",
            "convnext_pico_ols\n",
            "convnext_small\n",
            "convnext_tiny\n",
            "convnext_tiny_hnf\n",
            "convnext_xlarge\n",
            "convnext_xxlarge\n",
            "convnextv2_atto\n",
            "convnextv2_base\n",
            "convnextv2_femto\n",
            "convnextv2_huge\n",
            "convnextv2_large\n",
            "convnextv2_nano\n",
            "convnextv2_pico\n",
            "convnextv2_small\n",
            "convnextv2_tiny\n",
            "crossvit_9_240\n",
            "crossvit_9_dagger_240\n",
            "crossvit_15_240\n",
            "crossvit_15_dagger_240\n",
            "crossvit_15_dagger_408\n",
            "crossvit_18_240\n",
            "crossvit_18_dagger_240\n",
            "crossvit_18_dagger_408\n",
            "crossvit_base_240\n",
            "crossvit_small_240\n",
            "crossvit_tiny_240\n",
            "cs3darknet_focus_l\n",
            "cs3darknet_focus_m\n",
            "cs3darknet_focus_s\n",
            "cs3darknet_focus_x\n",
            "cs3darknet_l\n",
            "cs3darknet_m\n",
            "cs3darknet_s\n",
            "cs3darknet_x\n",
            "cs3edgenet_x\n",
            "cs3se_edgenet_x\n",
            "cs3sedarknet_l\n",
            "cs3sedarknet_x\n",
            "cs3sedarknet_xdw\n",
            "cspdarknet53\n",
            "cspresnet50\n",
            "cspresnet50d\n",
            "cspresnet50w\n",
            "cspresnext50\n",
            "darknet17\n",
            "darknet21\n",
            "darknet53\n",
            "darknetaa53\n",
            "davit_base\n",
            "davit_giant\n",
            "davit_huge\n",
            "davit_large\n",
            "davit_small\n",
            "davit_tiny\n",
            "deit3_base_patch16_224\n",
            "deit3_base_patch16_384\n",
            "deit3_huge_patch14_224\n",
            "deit3_large_patch16_224\n",
            "deit3_large_patch16_384\n",
            "deit3_medium_patch16_224\n",
            "deit3_small_patch16_224\n",
            "deit3_small_patch16_384\n",
            "deit_base_distilled_patch16_224\n",
            "deit_base_distilled_patch16_384\n",
            "deit_base_patch16_224\n",
            "deit_base_patch16_384\n",
            "deit_small_distilled_patch16_224\n",
            "deit_small_patch16_224\n",
            "deit_tiny_distilled_patch16_224\n",
            "deit_tiny_patch16_224\n",
            "densenet121\n",
            "densenet161\n",
            "densenet169\n",
            "densenet201\n",
            "densenet264d\n",
            "densenetblur121d\n",
            "dla34\n",
            "dla46_c\n",
            "dla46x_c\n",
            "dla60\n",
            "dla60_res2net\n",
            "dla60_res2next\n",
            "dla60x\n",
            "dla60x_c\n",
            "dla102\n",
            "dla102x\n",
            "dla102x2\n",
            "dla169\n",
            "dm_nfnet_f0\n",
            "dm_nfnet_f1\n",
            "dm_nfnet_f2\n",
            "dm_nfnet_f3\n",
            "dm_nfnet_f4\n",
            "dm_nfnet_f5\n",
            "dm_nfnet_f6\n",
            "dpn48b\n",
            "dpn68\n",
            "dpn68b\n",
            "dpn92\n",
            "dpn98\n",
            "dpn107\n",
            "dpn131\n",
            "eca_botnext26ts_256\n",
            "eca_halonext26ts\n",
            "eca_nfnet_l0\n",
            "eca_nfnet_l1\n",
            "eca_nfnet_l2\n",
            "eca_nfnet_l3\n",
            "eca_resnet33ts\n",
            "eca_resnext26ts\n",
            "eca_vovnet39b\n",
            "ecaresnet26t\n",
            "ecaresnet50d\n",
            "ecaresnet50d_pruned\n",
            "ecaresnet50t\n",
            "ecaresnet101d\n",
            "ecaresnet101d_pruned\n",
            "ecaresnet200d\n",
            "ecaresnet269d\n",
            "ecaresnetlight\n",
            "ecaresnext26t_32x4d\n",
            "ecaresnext50t_32x4d\n",
            "edgenext_base\n",
            "edgenext_small\n",
            "edgenext_small_rw\n",
            "edgenext_x_small\n",
            "edgenext_xx_small\n",
            "efficientformer_l1\n",
            "efficientformer_l3\n",
            "efficientformer_l7\n",
            "efficientformerv2_l\n",
            "efficientformerv2_s0\n",
            "efficientformerv2_s1\n",
            "efficientformerv2_s2\n",
            "efficientnet_b0\n",
            "efficientnet_b0_g8_gn\n",
            "efficientnet_b0_g16_evos\n",
            "efficientnet_b0_gn\n",
            "efficientnet_b1\n",
            "efficientnet_b1_pruned\n",
            "efficientnet_b2\n",
            "efficientnet_b2_pruned\n",
            "efficientnet_b2a\n",
            "efficientnet_b3\n",
            "efficientnet_b3_g8_gn\n",
            "efficientnet_b3_gn\n",
            "efficientnet_b3_pruned\n",
            "efficientnet_b3a\n",
            "efficientnet_b4\n",
            "efficientnet_b5\n",
            "efficientnet_b6\n",
            "efficientnet_b7\n",
            "efficientnet_b8\n",
            "efficientnet_cc_b0_4e\n",
            "efficientnet_cc_b0_8e\n",
            "efficientnet_cc_b1_8e\n",
            "efficientnet_el\n",
            "efficientnet_el_pruned\n",
            "efficientnet_em\n",
            "efficientnet_es\n",
            "efficientnet_es_pruned\n",
            "efficientnet_l2\n",
            "efficientnet_lite0\n",
            "efficientnet_lite1\n",
            "efficientnet_lite2\n",
            "efficientnet_lite3\n",
            "efficientnet_lite4\n",
            "efficientnetv2_l\n",
            "efficientnetv2_m\n",
            "efficientnetv2_rw_m\n",
            "efficientnetv2_rw_s\n",
            "efficientnetv2_rw_t\n",
            "efficientnetv2_s\n",
            "efficientnetv2_xl\n",
            "ese_vovnet19b_dw\n",
            "ese_vovnet19b_slim\n",
            "ese_vovnet19b_slim_dw\n",
            "ese_vovnet39b\n",
            "ese_vovnet39b_evos\n",
            "ese_vovnet57b\n",
            "ese_vovnet99b\n",
            "eva02_base_patch14_224\n",
            "eva02_base_patch14_448\n",
            "eva02_base_patch16_clip_224\n",
            "eva02_enormous_patch14_clip_224\n",
            "eva02_large_patch14_224\n",
            "eva02_large_patch14_448\n",
            "eva02_large_patch14_clip_224\n",
            "eva02_large_patch14_clip_336\n",
            "eva02_small_patch14_224\n",
            "eva02_small_patch14_336\n",
            "eva02_tiny_patch14_224\n",
            "eva02_tiny_patch14_336\n",
            "eva_giant_patch14_224\n",
            "eva_giant_patch14_336\n",
            "eva_giant_patch14_560\n",
            "eva_giant_patch14_clip_224\n",
            "eva_large_patch14_196\n",
            "eva_large_patch14_336\n",
            "fbnetc_100\n",
            "fbnetv3_b\n",
            "fbnetv3_d\n",
            "fbnetv3_g\n",
            "flexivit_base\n",
            "flexivit_large\n",
            "flexivit_small\n",
            "focalnet_base_lrf\n",
            "focalnet_base_srf\n",
            "focalnet_huge_fl3\n",
            "focalnet_huge_fl4\n",
            "focalnet_large_fl3\n",
            "focalnet_large_fl4\n",
            "focalnet_small_lrf\n",
            "focalnet_small_srf\n",
            "focalnet_tiny_lrf\n",
            "focalnet_tiny_srf\n",
            "focalnet_xlarge_fl3\n",
            "focalnet_xlarge_fl4\n",
            "gc_efficientnetv2_rw_t\n",
            "gcresnet33ts\n",
            "gcresnet50t\n",
            "gcresnext26ts\n",
            "gcresnext50ts\n",
            "gcvit_base\n",
            "gcvit_small\n",
            "gcvit_tiny\n",
            "gcvit_xtiny\n",
            "gcvit_xxtiny\n",
            "gernet_l\n",
            "gernet_m\n",
            "gernet_s\n",
            "ghostnet_050\n",
            "ghostnet_100\n",
            "ghostnet_130\n",
            "gmixer_12_224\n",
            "gmixer_24_224\n",
            "gmlp_b16_224\n",
            "gmlp_s16_224\n",
            "gmlp_ti16_224\n",
            "halo2botnet50ts_256\n",
            "halonet26t\n",
            "halonet50ts\n",
            "halonet_h1\n",
            "haloregnetz_b\n",
            "hardcorenas_a\n",
            "hardcorenas_b\n",
            "hardcorenas_c\n",
            "hardcorenas_d\n",
            "hardcorenas_e\n",
            "hardcorenas_f\n",
            "hrnet_w18\n",
            "hrnet_w18_small\n",
            "hrnet_w18_small_v2\n",
            "hrnet_w18_ssld\n",
            "hrnet_w30\n",
            "hrnet_w32\n",
            "hrnet_w40\n",
            "hrnet_w44\n",
            "hrnet_w48\n",
            "hrnet_w48_ssld\n",
            "hrnet_w64\n",
            "inception_resnet_v2\n",
            "inception_v3\n",
            "inception_v4\n",
            "lambda_resnet26rpt_256\n",
            "lambda_resnet26t\n",
            "lambda_resnet50ts\n",
            "lamhalobotnet50ts_256\n",
            "lcnet_035\n",
            "lcnet_050\n",
            "lcnet_075\n",
            "lcnet_100\n",
            "lcnet_150\n",
            "legacy_senet154\n",
            "legacy_seresnet18\n",
            "legacy_seresnet34\n",
            "legacy_seresnet50\n",
            "legacy_seresnet101\n",
            "legacy_seresnet152\n",
            "legacy_seresnext26_32x4d\n",
            "legacy_seresnext50_32x4d\n",
            "legacy_seresnext101_32x4d\n",
            "legacy_xception\n",
            "levit_128\n",
            "levit_128s\n",
            "levit_192\n",
            "levit_256\n",
            "levit_256d\n",
            "levit_384\n",
            "levit_384_s8\n",
            "levit_512\n",
            "levit_512_s8\n",
            "levit_512d\n",
            "levit_conv_128\n",
            "levit_conv_128s\n",
            "levit_conv_192\n",
            "levit_conv_256\n",
            "levit_conv_256d\n",
            "levit_conv_384\n",
            "levit_conv_384_s8\n",
            "levit_conv_512\n",
            "levit_conv_512_s8\n",
            "levit_conv_512d\n",
            "maxvit_base_tf_224\n",
            "maxvit_base_tf_384\n",
            "maxvit_base_tf_512\n",
            "maxvit_large_tf_224\n",
            "maxvit_large_tf_384\n",
            "maxvit_large_tf_512\n",
            "maxvit_nano_rw_256\n",
            "maxvit_pico_rw_256\n",
            "maxvit_rmlp_base_rw_224\n",
            "maxvit_rmlp_base_rw_384\n",
            "maxvit_rmlp_nano_rw_256\n",
            "maxvit_rmlp_pico_rw_256\n",
            "maxvit_rmlp_small_rw_224\n",
            "maxvit_rmlp_small_rw_256\n",
            "maxvit_rmlp_tiny_rw_256\n",
            "maxvit_small_tf_224\n",
            "maxvit_small_tf_384\n",
            "maxvit_small_tf_512\n",
            "maxvit_tiny_pm_256\n",
            "maxvit_tiny_rw_224\n",
            "maxvit_tiny_rw_256\n",
            "maxvit_tiny_tf_224\n",
            "maxvit_tiny_tf_384\n",
            "maxvit_tiny_tf_512\n",
            "maxvit_xlarge_tf_224\n",
            "maxvit_xlarge_tf_384\n",
            "maxvit_xlarge_tf_512\n",
            "maxxvit_rmlp_nano_rw_256\n",
            "maxxvit_rmlp_small_rw_256\n",
            "maxxvit_rmlp_tiny_rw_256\n",
            "maxxvitv2_nano_rw_256\n",
            "maxxvitv2_rmlp_base_rw_224\n",
            "maxxvitv2_rmlp_base_rw_384\n",
            "maxxvitv2_rmlp_large_rw_224\n",
            "mixer_b16_224\n",
            "mixer_b32_224\n",
            "mixer_l16_224\n",
            "mixer_l32_224\n",
            "mixer_s16_224\n",
            "mixer_s32_224\n",
            "mixnet_l\n",
            "mixnet_m\n",
            "mixnet_s\n",
            "mixnet_xl\n",
            "mixnet_xxl\n",
            "mnasnet_050\n",
            "mnasnet_075\n",
            "mnasnet_100\n",
            "mnasnet_140\n",
            "mnasnet_a1\n",
            "mnasnet_b1\n",
            "mnasnet_small\n",
            "mobilenetv2_035\n",
            "mobilenetv2_050\n",
            "mobilenetv2_075\n",
            "mobilenetv2_100\n",
            "mobilenetv2_110d\n",
            "mobilenetv2_120d\n",
            "mobilenetv2_140\n",
            "mobilenetv3_large_075\n",
            "mobilenetv3_large_100\n",
            "mobilenetv3_rw\n",
            "mobilenetv3_small_050\n",
            "mobilenetv3_small_075\n",
            "mobilenetv3_small_100\n",
            "mobilevit_s\n",
            "mobilevit_xs\n",
            "mobilevit_xxs\n",
            "mobilevitv2_050\n",
            "mobilevitv2_075\n",
            "mobilevitv2_100\n",
            "mobilevitv2_125\n",
            "mobilevitv2_150\n",
            "mobilevitv2_175\n",
            "mobilevitv2_200\n",
            "mvitv2_base\n",
            "mvitv2_base_cls\n",
            "mvitv2_huge_cls\n",
            "mvitv2_large\n",
            "mvitv2_large_cls\n",
            "mvitv2_small\n",
            "mvitv2_small_cls\n",
            "mvitv2_tiny\n",
            "nasnetalarge\n",
            "nest_base\n",
            "nest_base_jx\n",
            "nest_small\n",
            "nest_small_jx\n",
            "nest_tiny\n",
            "nest_tiny_jx\n",
            "nf_ecaresnet26\n",
            "nf_ecaresnet50\n",
            "nf_ecaresnet101\n",
            "nf_regnet_b0\n",
            "nf_regnet_b1\n",
            "nf_regnet_b2\n",
            "nf_regnet_b3\n",
            "nf_regnet_b4\n",
            "nf_regnet_b5\n",
            "nf_resnet26\n",
            "nf_resnet50\n",
            "nf_resnet101\n",
            "nf_seresnet26\n",
            "nf_seresnet50\n",
            "nf_seresnet101\n",
            "nfnet_f0\n",
            "nfnet_f1\n",
            "nfnet_f2\n",
            "nfnet_f3\n",
            "nfnet_f4\n",
            "nfnet_f5\n",
            "nfnet_f6\n",
            "nfnet_f7\n",
            "nfnet_l0\n",
            "pit_b_224\n",
            "pit_b_distilled_224\n",
            "pit_s_224\n",
            "pit_s_distilled_224\n",
            "pit_ti_224\n",
            "pit_ti_distilled_224\n",
            "pit_xs_224\n",
            "pit_xs_distilled_224\n",
            "pnasnet5large\n",
            "poolformer_m36\n",
            "poolformer_m48\n",
            "poolformer_s12\n",
            "poolformer_s24\n",
            "poolformer_s36\n",
            "poolformerv2_m36\n",
            "poolformerv2_m48\n",
            "poolformerv2_s12\n",
            "poolformerv2_s24\n",
            "poolformerv2_s36\n",
            "pvt_v2_b0\n",
            "pvt_v2_b1\n",
            "pvt_v2_b2\n",
            "pvt_v2_b2_li\n",
            "pvt_v2_b3\n",
            "pvt_v2_b4\n",
            "pvt_v2_b5\n",
            "regnetv_040\n",
            "regnetv_064\n",
            "regnetx_002\n",
            "regnetx_004\n",
            "regnetx_004_tv\n",
            "regnetx_006\n",
            "regnetx_008\n",
            "regnetx_016\n",
            "regnetx_032\n",
            "regnetx_040\n",
            "regnetx_064\n",
            "regnetx_080\n",
            "regnetx_120\n",
            "regnetx_160\n",
            "regnetx_320\n",
            "regnety_002\n",
            "regnety_004\n",
            "regnety_006\n",
            "regnety_008\n",
            "regnety_008_tv\n",
            "regnety_016\n",
            "regnety_032\n",
            "regnety_040\n",
            "regnety_040_sgn\n",
            "regnety_064\n",
            "regnety_080\n",
            "regnety_080_tv\n",
            "regnety_120\n",
            "regnety_160\n",
            "regnety_320\n",
            "regnety_640\n",
            "regnety_1280\n",
            "regnety_2560\n",
            "regnetz_005\n",
            "regnetz_040\n",
            "regnetz_040_h\n",
            "regnetz_b16\n",
            "regnetz_b16_evos\n",
            "regnetz_c16\n",
            "regnetz_c16_evos\n",
            "regnetz_d8\n",
            "regnetz_d8_evos\n",
            "regnetz_d32\n",
            "regnetz_e8\n",
            "repvgg_a2\n",
            "repvgg_b0\n",
            "repvgg_b1\n",
            "repvgg_b1g4\n",
            "repvgg_b2\n",
            "repvgg_b2g4\n",
            "repvgg_b3\n",
            "repvgg_b3g4\n",
            "repvit_m1\n",
            "repvit_m2\n",
            "repvit_m3\n",
            "res2net50_14w_8s\n",
            "res2net50_26w_4s\n",
            "res2net50_26w_6s\n",
            "res2net50_26w_8s\n",
            "res2net50_48w_2s\n",
            "res2net50d\n",
            "res2net101_26w_4s\n",
            "res2net101d\n",
            "res2next50\n",
            "resmlp_12_224\n",
            "resmlp_24_224\n",
            "resmlp_36_224\n",
            "resmlp_big_24_224\n",
            "resnest14d\n",
            "resnest26d\n",
            "resnest50d\n",
            "resnest50d_1s4x24d\n",
            "resnest50d_4s2x40d\n",
            "resnest101e\n",
            "resnest200e\n",
            "resnest269e\n",
            "resnet10t\n",
            "resnet14t\n",
            "resnet18\n",
            "resnet18d\n",
            "resnet26\n",
            "resnet26d\n",
            "resnet26t\n",
            "resnet32ts\n",
            "resnet33ts\n",
            "resnet34\n",
            "resnet34d\n",
            "resnet50\n",
            "resnet50_gn\n",
            "resnet50c\n",
            "resnet50d\n",
            "resnet50s\n",
            "resnet50t\n",
            "resnet51q\n",
            "resnet61q\n",
            "resnet101\n",
            "resnet101c\n",
            "resnet101d\n",
            "resnet101s\n",
            "resnet152\n",
            "resnet152c\n",
            "resnet152d\n",
            "resnet152s\n",
            "resnet200\n",
            "resnet200d\n",
            "resnetaa34d\n",
            "resnetaa50\n",
            "resnetaa50d\n",
            "resnetaa101d\n",
            "resnetblur18\n",
            "resnetblur50\n",
            "resnetblur50d\n",
            "resnetblur101d\n",
            "resnetrs50\n",
            "resnetrs101\n",
            "resnetrs152\n",
            "resnetrs200\n",
            "resnetrs270\n",
            "resnetrs350\n",
            "resnetrs420\n",
            "resnetv2_50\n",
            "resnetv2_50d\n",
            "resnetv2_50d_evos\n",
            "resnetv2_50d_frn\n",
            "resnetv2_50d_gn\n",
            "resnetv2_50t\n",
            "resnetv2_50x1_bit\n",
            "resnetv2_50x3_bit\n",
            "resnetv2_101\n",
            "resnetv2_101d\n",
            "resnetv2_101x1_bit\n",
            "resnetv2_101x3_bit\n",
            "resnetv2_152\n",
            "resnetv2_152d\n",
            "resnetv2_152x2_bit\n",
            "resnetv2_152x4_bit\n",
            "resnext26ts\n",
            "resnext50_32x4d\n",
            "resnext50d_32x4d\n",
            "resnext101_32x4d\n",
            "resnext101_32x8d\n",
            "resnext101_32x16d\n",
            "resnext101_32x32d\n",
            "resnext101_64x4d\n",
            "rexnet_100\n",
            "rexnet_130\n",
            "rexnet_150\n",
            "rexnet_200\n",
            "rexnet_300\n",
            "rexnetr_100\n",
            "rexnetr_130\n",
            "rexnetr_150\n",
            "rexnetr_200\n",
            "rexnetr_300\n",
            "samvit_base_patch16\n",
            "samvit_huge_patch16\n",
            "samvit_large_patch16\n",
            "sebotnet33ts_256\n",
            "sedarknet21\n",
            "sehalonet33ts\n",
            "selecsls42\n",
            "selecsls42b\n",
            "selecsls60\n",
            "selecsls60b\n",
            "selecsls84\n",
            "semnasnet_050\n",
            "semnasnet_075\n",
            "semnasnet_100\n",
            "semnasnet_140\n",
            "senet154\n",
            "sequencer2d_l\n",
            "sequencer2d_m\n",
            "sequencer2d_s\n",
            "seresnet18\n",
            "seresnet33ts\n",
            "seresnet34\n",
            "seresnet50\n",
            "seresnet50t\n",
            "seresnet101\n",
            "seresnet152\n",
            "seresnet152d\n",
            "seresnet200d\n",
            "seresnet269d\n",
            "seresnetaa50d\n",
            "seresnext26d_32x4d\n",
            "seresnext26t_32x4d\n",
            "seresnext26tn_32x4d\n",
            "seresnext26ts\n",
            "seresnext50_32x4d\n",
            "seresnext101_32x4d\n",
            "seresnext101_32x8d\n",
            "seresnext101_64x4d\n",
            "seresnext101d_32x8d\n",
            "seresnextaa101d_32x8d\n",
            "seresnextaa201d_32x8d\n",
            "skresnet18\n",
            "skresnet34\n",
            "skresnet50\n",
            "skresnet50d\n",
            "skresnext50_32x4d\n",
            "spnasnet_100\n",
            "swin_base_patch4_window7_224\n",
            "swin_base_patch4_window12_384\n",
            "swin_large_patch4_window7_224\n",
            "swin_large_patch4_window12_384\n",
            "swin_s3_base_224\n",
            "swin_s3_small_224\n",
            "swin_s3_tiny_224\n",
            "swin_small_patch4_window7_224\n",
            "swin_tiny_patch4_window7_224\n",
            "swinv2_base_window8_256\n",
            "swinv2_base_window12_192\n",
            "swinv2_base_window12to16_192to256\n",
            "swinv2_base_window12to24_192to384\n",
            "swinv2_base_window16_256\n",
            "swinv2_cr_base_224\n",
            "swinv2_cr_base_384\n",
            "swinv2_cr_base_ns_224\n",
            "swinv2_cr_giant_224\n",
            "swinv2_cr_giant_384\n",
            "swinv2_cr_huge_224\n",
            "swinv2_cr_huge_384\n",
            "swinv2_cr_large_224\n",
            "swinv2_cr_large_384\n",
            "swinv2_cr_small_224\n",
            "swinv2_cr_small_384\n",
            "swinv2_cr_small_ns_224\n",
            "swinv2_cr_small_ns_256\n",
            "swinv2_cr_tiny_224\n",
            "swinv2_cr_tiny_384\n",
            "swinv2_cr_tiny_ns_224\n",
            "swinv2_large_window12_192\n",
            "swinv2_large_window12to16_192to256\n",
            "swinv2_large_window12to24_192to384\n",
            "swinv2_small_window8_256\n",
            "swinv2_small_window16_256\n",
            "swinv2_tiny_window8_256\n",
            "swinv2_tiny_window16_256\n",
            "tf_efficientnet_b0\n",
            "tf_efficientnet_b1\n",
            "tf_efficientnet_b2\n",
            "tf_efficientnet_b3\n",
            "tf_efficientnet_b4\n",
            "tf_efficientnet_b5\n",
            "tf_efficientnet_b6\n",
            "tf_efficientnet_b7\n",
            "tf_efficientnet_b8\n",
            "tf_efficientnet_cc_b0_4e\n",
            "tf_efficientnet_cc_b0_8e\n",
            "tf_efficientnet_cc_b1_8e\n",
            "tf_efficientnet_el\n",
            "tf_efficientnet_em\n",
            "tf_efficientnet_es\n",
            "tf_efficientnet_l2\n",
            "tf_efficientnet_lite0\n",
            "tf_efficientnet_lite1\n",
            "tf_efficientnet_lite2\n",
            "tf_efficientnet_lite3\n",
            "tf_efficientnet_lite4\n",
            "tf_efficientnetv2_b0\n",
            "tf_efficientnetv2_b1\n",
            "tf_efficientnetv2_b2\n",
            "tf_efficientnetv2_b3\n",
            "tf_efficientnetv2_l\n",
            "tf_efficientnetv2_m\n",
            "tf_efficientnetv2_s\n",
            "tf_efficientnetv2_xl\n",
            "tf_mixnet_l\n",
            "tf_mixnet_m\n",
            "tf_mixnet_s\n",
            "tf_mobilenetv3_large_075\n",
            "tf_mobilenetv3_large_100\n",
            "tf_mobilenetv3_large_minimal_100\n",
            "tf_mobilenetv3_small_075\n",
            "tf_mobilenetv3_small_100\n",
            "tf_mobilenetv3_small_minimal_100\n",
            "tinynet_a\n",
            "tinynet_b\n",
            "tinynet_c\n",
            "tinynet_d\n",
            "tinynet_e\n",
            "tnt_b_patch16_224\n",
            "tnt_s_patch16_224\n",
            "tresnet_l\n",
            "tresnet_m\n",
            "tresnet_v2_l\n",
            "tresnet_xl\n",
            "twins_pcpvt_base\n",
            "twins_pcpvt_large\n",
            "twins_pcpvt_small\n",
            "twins_svt_base\n",
            "twins_svt_large\n",
            "twins_svt_small\n",
            "vgg11\n",
            "vgg11_bn\n",
            "vgg13\n",
            "vgg13_bn\n",
            "vgg16\n",
            "vgg16_bn\n",
            "vgg19\n",
            "vgg19_bn\n",
            "visformer_small\n",
            "visformer_tiny\n",
            "vit_base_patch8_224\n",
            "vit_base_patch14_dinov2\n",
            "vit_base_patch16_18x2_224\n",
            "vit_base_patch16_224\n",
            "vit_base_patch16_224_miil\n",
            "vit_base_patch16_384\n",
            "vit_base_patch16_clip_224\n",
            "vit_base_patch16_clip_384\n",
            "vit_base_patch16_gap_224\n",
            "vit_base_patch16_plus_240\n",
            "vit_base_patch16_rpn_224\n",
            "vit_base_patch16_xp_224\n",
            "vit_base_patch32_224\n",
            "vit_base_patch32_384\n",
            "vit_base_patch32_clip_224\n",
            "vit_base_patch32_clip_384\n",
            "vit_base_patch32_clip_448\n",
            "vit_base_patch32_plus_256\n",
            "vit_base_r26_s32_224\n",
            "vit_base_r50_s16_224\n",
            "vit_base_r50_s16_384\n",
            "vit_base_resnet26d_224\n",
            "vit_base_resnet50d_224\n",
            "vit_giant_patch14_224\n",
            "vit_giant_patch14_clip_224\n",
            "vit_giant_patch14_dinov2\n",
            "vit_gigantic_patch14_224\n",
            "vit_gigantic_patch14_clip_224\n",
            "vit_gigantic_patch16_224_ijepa\n",
            "vit_huge_patch14_224\n",
            "vit_huge_patch14_224_ijepa\n",
            "vit_huge_patch14_clip_224\n",
            "vit_huge_patch14_clip_336\n",
            "vit_huge_patch14_xp_224\n",
            "vit_huge_patch16_448_ijepa\n",
            "vit_large_patch14_224\n",
            "vit_large_patch14_clip_224\n",
            "vit_large_patch14_clip_336\n",
            "vit_large_patch14_dinov2\n",
            "vit_large_patch14_xp_224\n",
            "vit_large_patch16_224\n",
            "vit_large_patch16_384\n",
            "vit_large_patch32_224\n",
            "vit_large_patch32_384\n",
            "vit_large_r50_s32_224\n",
            "vit_large_r50_s32_384\n",
            "vit_medium_patch16_gap_240\n",
            "vit_medium_patch16_gap_256\n",
            "vit_medium_patch16_gap_384\n",
            "vit_relpos_base_patch16_224\n",
            "vit_relpos_base_patch16_cls_224\n",
            "vit_relpos_base_patch16_clsgap_224\n",
            "vit_relpos_base_patch16_plus_240\n",
            "vit_relpos_base_patch16_rpn_224\n",
            "vit_relpos_base_patch32_plus_rpn_256\n",
            "vit_relpos_medium_patch16_224\n",
            "vit_relpos_medium_patch16_cls_224\n",
            "vit_relpos_medium_patch16_rpn_224\n",
            "vit_relpos_small_patch16_224\n",
            "vit_relpos_small_patch16_rpn_224\n",
            "vit_small_patch8_224\n",
            "vit_small_patch14_dinov2\n",
            "vit_small_patch16_18x2_224\n",
            "vit_small_patch16_36x1_224\n",
            "vit_small_patch16_224\n",
            "vit_small_patch16_384\n",
            "vit_small_patch32_224\n",
            "vit_small_patch32_384\n",
            "vit_small_r26_s32_224\n",
            "vit_small_r26_s32_384\n",
            "vit_small_resnet26d_224\n",
            "vit_small_resnet50d_s16_224\n",
            "vit_srelpos_medium_patch16_224\n",
            "vit_srelpos_small_patch16_224\n",
            "vit_tiny_patch16_224\n",
            "vit_tiny_patch16_384\n",
            "vit_tiny_r_s16_p8_224\n",
            "vit_tiny_r_s16_p8_384\n",
            "volo_d1_224\n",
            "volo_d1_384\n",
            "volo_d2_224\n",
            "volo_d2_384\n",
            "volo_d3_224\n",
            "volo_d3_448\n",
            "volo_d4_224\n",
            "volo_d4_448\n",
            "volo_d5_224\n",
            "volo_d5_448\n",
            "volo_d5_512\n",
            "vovnet39a\n",
            "vovnet57a\n",
            "wide_resnet50_2\n",
            "wide_resnet101_2\n",
            "xception41\n",
            "xception41p\n",
            "xception65\n",
            "xception65p\n",
            "xception71\n",
            "xcit_large_24_p8_224\n",
            "xcit_large_24_p8_384\n",
            "xcit_large_24_p16_224\n",
            "xcit_large_24_p16_384\n",
            "xcit_medium_24_p8_224\n",
            "xcit_medium_24_p8_384\n",
            "xcit_medium_24_p16_224\n",
            "xcit_medium_24_p16_384\n",
            "xcit_nano_12_p8_224\n",
            "xcit_nano_12_p8_384\n",
            "xcit_nano_12_p16_224\n",
            "xcit_nano_12_p16_384\n",
            "xcit_small_12_p8_224\n",
            "xcit_small_12_p8_384\n",
            "xcit_small_12_p16_224\n",
            "xcit_small_12_p16_384\n",
            "xcit_small_24_p8_224\n",
            "xcit_small_24_p8_384\n",
            "xcit_small_24_p16_224\n",
            "xcit_small_24_p16_384\n",
            "xcit_tiny_12_p8_224\n",
            "xcit_tiny_12_p8_384\n",
            "xcit_tiny_12_p16_224\n",
            "xcit_tiny_12_p16_384\n",
            "xcit_tiny_24_p8_224\n",
            "xcit_tiny_24_p8_384\n",
            "xcit_tiny_24_p16_224\n",
            "xcit_tiny_24_p16_384\n"
          ]
        }
      ]
    },
    {
      "cell_type": "code",
      "execution_count": 4,
      "metadata": {
        "colab": {
          "base_uri": "https://localhost:8080/"
        },
        "id": "vim4OWALxgaa",
        "outputId": "c7db63b2-609b-4173-c4d0-c163a3c82ef0"
      },
      "outputs": [
        {
          "output_type": "stream",
          "name": "stdout",
          "text": [
            "x_train shape: (923, 384, 384, 3) - y_train shape: (923,)\n",
            "x_test shape: (554, 384, 384, 3) - y_test shape: (554,)\n",
            "x_val shape: (369, 384, 384, 3) - y_val shape: (369,)\n",
            "Epoch 0/99\n",
            "----------\n"
          ]
        },
        {
          "output_type": "stream",
          "name": "stderr",
          "text": [
            "100%|██████████| 15/15 [00:41<00:00,  2.74s/it]\n"
          ]
        },
        {
          "output_type": "stream",
          "name": "stdout",
          "text": [
            "train Loss: 2.8489 Acc: 0.1127\n"
          ]
        },
        {
          "output_type": "stream",
          "name": "stderr",
          "text": [
            "100%|██████████| 24/24 [00:04<00:00,  5.17it/s]\n"
          ]
        },
        {
          "output_type": "stream",
          "name": "stdout",
          "text": [
            "val Loss: 2.2483 Acc: 0.2087\n",
            "\n",
            "Epoch 1/99\n",
            "----------\n"
          ]
        },
        {
          "output_type": "stream",
          "name": "stderr",
          "text": [
            "100%|██████████| 15/15 [00:37<00:00,  2.49s/it]\n"
          ]
        },
        {
          "output_type": "stream",
          "name": "stdout",
          "text": [
            "train Loss: 2.1939 Acc: 0.1993\n"
          ]
        },
        {
          "output_type": "stream",
          "name": "stderr",
          "text": [
            "100%|██████████| 24/24 [00:04<00:00,  5.04it/s]\n"
          ]
        },
        {
          "output_type": "stream",
          "name": "stdout",
          "text": [
            "val Loss: 2.1038 Acc: 0.2114\n",
            "\n",
            "Epoch 2/99\n",
            "----------\n"
          ]
        },
        {
          "output_type": "stream",
          "name": "stderr",
          "text": [
            "100%|██████████| 15/15 [00:39<00:00,  2.62s/it]\n"
          ]
        },
        {
          "output_type": "stream",
          "name": "stdout",
          "text": [
            "train Loss: 2.0282 Acc: 0.2644\n"
          ]
        },
        {
          "output_type": "stream",
          "name": "stderr",
          "text": [
            "100%|██████████| 24/24 [00:04<00:00,  5.09it/s]\n"
          ]
        },
        {
          "output_type": "stream",
          "name": "stdout",
          "text": [
            "val Loss: 2.0030 Acc: 0.2412\n",
            "\n",
            "Epoch 3/99\n",
            "----------\n"
          ]
        },
        {
          "output_type": "stream",
          "name": "stderr",
          "text": [
            "100%|██████████| 15/15 [00:37<00:00,  2.48s/it]\n"
          ]
        },
        {
          "output_type": "stream",
          "name": "stdout",
          "text": [
            "train Loss: 1.8537 Acc: 0.3521\n"
          ]
        },
        {
          "output_type": "stream",
          "name": "stderr",
          "text": [
            "100%|██████████| 24/24 [00:04<00:00,  4.96it/s]\n"
          ]
        },
        {
          "output_type": "stream",
          "name": "stdout",
          "text": [
            "val Loss: 1.8282 Acc: 0.3496\n",
            "\n",
            "Epoch 4/99\n",
            "----------\n"
          ]
        },
        {
          "output_type": "stream",
          "name": "stderr",
          "text": [
            "100%|██████████| 15/15 [00:37<00:00,  2.50s/it]\n"
          ]
        },
        {
          "output_type": "stream",
          "name": "stdout",
          "text": [
            "train Loss: 1.7247 Acc: 0.4030\n"
          ]
        },
        {
          "output_type": "stream",
          "name": "stderr",
          "text": [
            "100%|██████████| 24/24 [00:04<00:00,  5.05it/s]\n"
          ]
        },
        {
          "output_type": "stream",
          "name": "stdout",
          "text": [
            "val Loss: 1.7200 Acc: 0.4038\n",
            "\n",
            "Epoch 5/99\n",
            "----------\n"
          ]
        },
        {
          "output_type": "stream",
          "name": "stderr",
          "text": [
            "100%|██████████| 15/15 [00:37<00:00,  2.51s/it]\n"
          ]
        },
        {
          "output_type": "stream",
          "name": "stdout",
          "text": [
            "train Loss: 1.6484 Acc: 0.4355\n"
          ]
        },
        {
          "output_type": "stream",
          "name": "stderr",
          "text": [
            "100%|██████████| 24/24 [00:04<00:00,  5.04it/s]\n"
          ]
        },
        {
          "output_type": "stream",
          "name": "stdout",
          "text": [
            "val Loss: 1.5834 Acc: 0.5203\n",
            "\n",
            "Epoch 6/99\n",
            "----------\n"
          ]
        },
        {
          "output_type": "stream",
          "name": "stderr",
          "text": [
            "100%|██████████| 15/15 [00:37<00:00,  2.51s/it]\n"
          ]
        },
        {
          "output_type": "stream",
          "name": "stdout",
          "text": [
            "train Loss: 1.8756 Acc: 0.3640\n"
          ]
        },
        {
          "output_type": "stream",
          "name": "stderr",
          "text": [
            "100%|██████████| 24/24 [00:04<00:00,  4.97it/s]\n"
          ]
        },
        {
          "output_type": "stream",
          "name": "stdout",
          "text": [
            "val Loss: 1.7577 Acc: 0.4092\n",
            "\n",
            "Epoch 7/99\n",
            "----------\n"
          ]
        },
        {
          "output_type": "stream",
          "name": "stderr",
          "text": [
            "100%|██████████| 15/15 [00:37<00:00,  2.52s/it]\n"
          ]
        },
        {
          "output_type": "stream",
          "name": "stdout",
          "text": [
            "train Loss: 1.7561 Acc: 0.3976\n"
          ]
        },
        {
          "output_type": "stream",
          "name": "stderr",
          "text": [
            "100%|██████████| 24/24 [00:04<00:00,  5.06it/s]\n"
          ]
        },
        {
          "output_type": "stream",
          "name": "stdout",
          "text": [
            "val Loss: 1.7070 Acc: 0.4444\n",
            "\n",
            "Epoch 8/99\n",
            "----------\n"
          ]
        },
        {
          "output_type": "stream",
          "name": "stderr",
          "text": [
            "100%|██████████| 15/15 [00:37<00:00,  2.51s/it]\n"
          ]
        },
        {
          "output_type": "stream",
          "name": "stdout",
          "text": [
            "train Loss: 1.6446 Acc: 0.4485\n"
          ]
        },
        {
          "output_type": "stream",
          "name": "stderr",
          "text": [
            "100%|██████████| 24/24 [00:04<00:00,  5.05it/s]\n"
          ]
        },
        {
          "output_type": "stream",
          "name": "stdout",
          "text": [
            "val Loss: 1.5484 Acc: 0.4986\n",
            "\n",
            "Epoch 9/99\n",
            "----------\n"
          ]
        },
        {
          "output_type": "stream",
          "name": "stderr",
          "text": [
            "100%|██████████| 15/15 [00:37<00:00,  2.50s/it]\n"
          ]
        },
        {
          "output_type": "stream",
          "name": "stdout",
          "text": [
            "train Loss: 1.4653 Acc: 0.5536\n"
          ]
        },
        {
          "output_type": "stream",
          "name": "stderr",
          "text": [
            "100%|██████████| 24/24 [00:04<00:00,  5.01it/s]\n"
          ]
        },
        {
          "output_type": "stream",
          "name": "stdout",
          "text": [
            "val Loss: 1.3884 Acc: 0.5908\n",
            "\n",
            "Epoch 10/99\n",
            "----------\n"
          ]
        },
        {
          "output_type": "stream",
          "name": "stderr",
          "text": [
            "100%|██████████| 15/15 [00:37<00:00,  2.51s/it]\n"
          ]
        },
        {
          "output_type": "stream",
          "name": "stdout",
          "text": [
            "train Loss: 1.3770 Acc: 0.5818\n"
          ]
        },
        {
          "output_type": "stream",
          "name": "stderr",
          "text": [
            "100%|██████████| 24/24 [00:04<00:00,  4.96it/s]\n"
          ]
        },
        {
          "output_type": "stream",
          "name": "stdout",
          "text": [
            "val Loss: 1.3308 Acc: 0.6287\n",
            "\n",
            "Epoch 11/99\n",
            "----------\n"
          ]
        },
        {
          "output_type": "stream",
          "name": "stderr",
          "text": [
            "100%|██████████| 15/15 [00:37<00:00,  2.52s/it]\n"
          ]
        },
        {
          "output_type": "stream",
          "name": "stdout",
          "text": [
            "train Loss: 1.3629 Acc: 0.6078\n"
          ]
        },
        {
          "output_type": "stream",
          "name": "stderr",
          "text": [
            "100%|██████████| 24/24 [00:04<00:00,  4.87it/s]\n"
          ]
        },
        {
          "output_type": "stream",
          "name": "stdout",
          "text": [
            "val Loss: 1.4547 Acc: 0.5176\n",
            "\n",
            "Epoch 12/99\n",
            "----------\n"
          ]
        },
        {
          "output_type": "stream",
          "name": "stderr",
          "text": [
            "100%|██████████| 15/15 [00:37<00:00,  2.53s/it]\n"
          ]
        },
        {
          "output_type": "stream",
          "name": "stdout",
          "text": [
            "train Loss: 1.3301 Acc: 0.6241\n"
          ]
        },
        {
          "output_type": "stream",
          "name": "stderr",
          "text": [
            "100%|██████████| 24/24 [00:05<00:00,  4.75it/s]\n"
          ]
        },
        {
          "output_type": "stream",
          "name": "stdout",
          "text": [
            "val Loss: 1.4132 Acc: 0.5881\n",
            "\n",
            "Epoch 13/99\n",
            "----------\n"
          ]
        },
        {
          "output_type": "stream",
          "name": "stderr",
          "text": [
            "100%|██████████| 15/15 [00:37<00:00,  2.51s/it]\n"
          ]
        },
        {
          "output_type": "stream",
          "name": "stdout",
          "text": [
            "train Loss: 1.3124 Acc: 0.6208\n"
          ]
        },
        {
          "output_type": "stream",
          "name": "stderr",
          "text": [
            "100%|██████████| 24/24 [00:05<00:00,  4.74it/s]\n"
          ]
        },
        {
          "output_type": "stream",
          "name": "stdout",
          "text": [
            "val Loss: 1.3442 Acc: 0.5989\n",
            "\n",
            "Epoch 14/99\n",
            "----------\n"
          ]
        },
        {
          "output_type": "stream",
          "name": "stderr",
          "text": [
            "100%|██████████| 15/15 [00:37<00:00,  2.50s/it]\n"
          ]
        },
        {
          "output_type": "stream",
          "name": "stdout",
          "text": [
            "train Loss: 1.2517 Acc: 0.6566\n"
          ]
        },
        {
          "output_type": "stream",
          "name": "stderr",
          "text": [
            "100%|██████████| 24/24 [00:05<00:00,  4.73it/s]\n"
          ]
        },
        {
          "output_type": "stream",
          "name": "stdout",
          "text": [
            "val Loss: 1.2981 Acc: 0.5827\n",
            "\n",
            "Epoch 15/99\n",
            "----------\n"
          ]
        },
        {
          "output_type": "stream",
          "name": "stderr",
          "text": [
            "100%|██████████| 15/15 [00:37<00:00,  2.51s/it]\n"
          ]
        },
        {
          "output_type": "stream",
          "name": "stdout",
          "text": [
            "train Loss: 1.1919 Acc: 0.6869\n"
          ]
        },
        {
          "output_type": "stream",
          "name": "stderr",
          "text": [
            "100%|██████████| 24/24 [00:05<00:00,  4.75it/s]\n"
          ]
        },
        {
          "output_type": "stream",
          "name": "stdout",
          "text": [
            "val Loss: 1.1776 Acc: 0.6829\n",
            "\n",
            "Epoch 16/99\n",
            "----------\n"
          ]
        },
        {
          "output_type": "stream",
          "name": "stderr",
          "text": [
            "100%|██████████| 15/15 [00:37<00:00,  2.51s/it]\n"
          ]
        },
        {
          "output_type": "stream",
          "name": "stdout",
          "text": [
            "train Loss: 1.1648 Acc: 0.6923\n"
          ]
        },
        {
          "output_type": "stream",
          "name": "stderr",
          "text": [
            "100%|██████████| 24/24 [00:05<00:00,  4.79it/s]\n"
          ]
        },
        {
          "output_type": "stream",
          "name": "stdout",
          "text": [
            "val Loss: 1.2217 Acc: 0.6694\n",
            "\n",
            "Epoch 17/99\n",
            "----------\n"
          ]
        },
        {
          "output_type": "stream",
          "name": "stderr",
          "text": [
            "100%|██████████| 15/15 [00:37<00:00,  2.51s/it]\n"
          ]
        },
        {
          "output_type": "stream",
          "name": "stdout",
          "text": [
            "train Loss: 1.1548 Acc: 0.6891\n"
          ]
        },
        {
          "output_type": "stream",
          "name": "stderr",
          "text": [
            "100%|██████████| 24/24 [00:04<00:00,  4.87it/s]\n"
          ]
        },
        {
          "output_type": "stream",
          "name": "stdout",
          "text": [
            "val Loss: 1.1601 Acc: 0.6965\n",
            "\n",
            "Epoch 18/99\n",
            "----------\n"
          ]
        },
        {
          "output_type": "stream",
          "name": "stderr",
          "text": [
            "100%|██████████| 15/15 [00:37<00:00,  2.53s/it]\n"
          ]
        },
        {
          "output_type": "stream",
          "name": "stdout",
          "text": [
            "train Loss: 1.0871 Acc: 0.7172\n"
          ]
        },
        {
          "output_type": "stream",
          "name": "stderr",
          "text": [
            "100%|██████████| 24/24 [00:04<00:00,  4.99it/s]\n"
          ]
        },
        {
          "output_type": "stream",
          "name": "stdout",
          "text": [
            "val Loss: 1.1307 Acc: 0.6965\n",
            "\n",
            "Epoch 19/99\n",
            "----------\n"
          ]
        },
        {
          "output_type": "stream",
          "name": "stderr",
          "text": [
            "100%|██████████| 15/15 [00:37<00:00,  2.51s/it]\n"
          ]
        },
        {
          "output_type": "stream",
          "name": "stdout",
          "text": [
            "train Loss: 1.0880 Acc: 0.7313\n"
          ]
        },
        {
          "output_type": "stream",
          "name": "stderr",
          "text": [
            "100%|██████████| 24/24 [00:04<00:00,  4.99it/s]\n"
          ]
        },
        {
          "output_type": "stream",
          "name": "stdout",
          "text": [
            "val Loss: 1.1722 Acc: 0.7046\n",
            "\n",
            "Epoch 20/99\n",
            "----------\n"
          ]
        },
        {
          "output_type": "stream",
          "name": "stderr",
          "text": [
            "100%|██████████| 15/15 [00:37<00:00,  2.51s/it]\n"
          ]
        },
        {
          "output_type": "stream",
          "name": "stdout",
          "text": [
            "train Loss: 1.0818 Acc: 0.7291\n"
          ]
        },
        {
          "output_type": "stream",
          "name": "stderr",
          "text": [
            "100%|██████████| 24/24 [00:04<00:00,  5.01it/s]\n"
          ]
        },
        {
          "output_type": "stream",
          "name": "stdout",
          "text": [
            "val Loss: 1.0563 Acc: 0.7507\n",
            "\n",
            "Epoch 21/99\n",
            "----------\n"
          ]
        },
        {
          "output_type": "stream",
          "name": "stderr",
          "text": [
            "100%|██████████| 15/15 [00:37<00:00,  2.51s/it]\n"
          ]
        },
        {
          "output_type": "stream",
          "name": "stdout",
          "text": [
            "train Loss: 0.9985 Acc: 0.7811\n"
          ]
        },
        {
          "output_type": "stream",
          "name": "stderr",
          "text": [
            "100%|██████████| 24/24 [00:04<00:00,  4.98it/s]\n"
          ]
        },
        {
          "output_type": "stream",
          "name": "stdout",
          "text": [
            "val Loss: 1.0431 Acc: 0.7832\n",
            "\n",
            "Epoch 22/99\n",
            "----------\n"
          ]
        },
        {
          "output_type": "stream",
          "name": "stderr",
          "text": [
            "100%|██████████| 15/15 [00:37<00:00,  2.51s/it]\n"
          ]
        },
        {
          "output_type": "stream",
          "name": "stdout",
          "text": [
            "train Loss: 1.0035 Acc: 0.7703\n"
          ]
        },
        {
          "output_type": "stream",
          "name": "stderr",
          "text": [
            "100%|██████████| 24/24 [00:04<00:00,  5.02it/s]\n"
          ]
        },
        {
          "output_type": "stream",
          "name": "stdout",
          "text": [
            "val Loss: 1.0562 Acc: 0.7317\n",
            "\n",
            "Epoch 23/99\n",
            "----------\n"
          ]
        },
        {
          "output_type": "stream",
          "name": "stderr",
          "text": [
            "100%|██████████| 15/15 [00:37<00:00,  2.51s/it]\n"
          ]
        },
        {
          "output_type": "stream",
          "name": "stdout",
          "text": [
            "train Loss: 1.0013 Acc: 0.7746\n"
          ]
        },
        {
          "output_type": "stream",
          "name": "stderr",
          "text": [
            "100%|██████████| 24/24 [00:04<00:00,  5.00it/s]\n"
          ]
        },
        {
          "output_type": "stream",
          "name": "stdout",
          "text": [
            "val Loss: 1.2088 Acc: 0.6694\n",
            "\n",
            "Epoch 24/99\n",
            "----------\n"
          ]
        },
        {
          "output_type": "stream",
          "name": "stderr",
          "text": [
            "100%|██████████| 15/15 [00:37<00:00,  2.52s/it]\n"
          ]
        },
        {
          "output_type": "stream",
          "name": "stdout",
          "text": [
            "train Loss: 1.0658 Acc: 0.7541\n"
          ]
        },
        {
          "output_type": "stream",
          "name": "stderr",
          "text": [
            "100%|██████████| 24/24 [00:04<00:00,  5.00it/s]\n"
          ]
        },
        {
          "output_type": "stream",
          "name": "stdout",
          "text": [
            "val Loss: 1.0749 Acc: 0.7263\n",
            "\n",
            "Epoch 25/99\n",
            "----------\n"
          ]
        },
        {
          "output_type": "stream",
          "name": "stderr",
          "text": [
            "100%|██████████| 15/15 [00:37<00:00,  2.53s/it]\n"
          ]
        },
        {
          "output_type": "stream",
          "name": "stdout",
          "text": [
            "train Loss: 0.9591 Acc: 0.7844\n"
          ]
        },
        {
          "output_type": "stream",
          "name": "stderr",
          "text": [
            "100%|██████████| 24/24 [00:04<00:00,  4.98it/s]\n"
          ]
        },
        {
          "output_type": "stream",
          "name": "stdout",
          "text": [
            "val Loss: 1.0208 Acc: 0.7425\n",
            "\n",
            "Epoch 26/99\n",
            "----------\n"
          ]
        },
        {
          "output_type": "stream",
          "name": "stderr",
          "text": [
            "100%|██████████| 15/15 [00:37<00:00,  2.52s/it]\n"
          ]
        },
        {
          "output_type": "stream",
          "name": "stdout",
          "text": [
            "train Loss: 0.9016 Acc: 0.8234\n"
          ]
        },
        {
          "output_type": "stream",
          "name": "stderr",
          "text": [
            "100%|██████████| 24/24 [00:04<00:00,  4.97it/s]\n"
          ]
        },
        {
          "output_type": "stream",
          "name": "stdout",
          "text": [
            "val Loss: 0.8952 Acc: 0.8428\n",
            "\n",
            "Epoch 27/99\n",
            "----------\n"
          ]
        },
        {
          "output_type": "stream",
          "name": "stderr",
          "text": [
            "100%|██████████| 15/15 [00:37<00:00,  2.52s/it]\n"
          ]
        },
        {
          "output_type": "stream",
          "name": "stdout",
          "text": [
            "train Loss: 0.9351 Acc: 0.8223\n"
          ]
        },
        {
          "output_type": "stream",
          "name": "stderr",
          "text": [
            "100%|██████████| 24/24 [00:04<00:00,  4.94it/s]\n"
          ]
        },
        {
          "output_type": "stream",
          "name": "stdout",
          "text": [
            "val Loss: 0.9386 Acc: 0.8049\n",
            "\n",
            "Epoch 28/99\n",
            "----------\n"
          ]
        },
        {
          "output_type": "stream",
          "name": "stderr",
          "text": [
            "100%|██████████| 15/15 [00:37<00:00,  2.52s/it]\n"
          ]
        },
        {
          "output_type": "stream",
          "name": "stdout",
          "text": [
            "train Loss: 0.8758 Acc: 0.8505\n"
          ]
        },
        {
          "output_type": "stream",
          "name": "stderr",
          "text": [
            "100%|██████████| 24/24 [00:04<00:00,  4.85it/s]\n"
          ]
        },
        {
          "output_type": "stream",
          "name": "stdout",
          "text": [
            "val Loss: 0.9650 Acc: 0.8184\n",
            "\n",
            "Epoch 29/99\n",
            "----------\n"
          ]
        },
        {
          "output_type": "stream",
          "name": "stderr",
          "text": [
            "100%|██████████| 15/15 [00:37<00:00,  2.51s/it]\n"
          ]
        },
        {
          "output_type": "stream",
          "name": "stdout",
          "text": [
            "train Loss: 0.9082 Acc: 0.8212\n"
          ]
        },
        {
          "output_type": "stream",
          "name": "stderr",
          "text": [
            "100%|██████████| 24/24 [00:04<00:00,  4.83it/s]\n"
          ]
        },
        {
          "output_type": "stream",
          "name": "stdout",
          "text": [
            "val Loss: 0.8900 Acc: 0.8482\n",
            "\n",
            "Epoch 30/99\n",
            "----------\n"
          ]
        },
        {
          "output_type": "stream",
          "name": "stderr",
          "text": [
            "100%|██████████| 15/15 [00:37<00:00,  2.53s/it]\n"
          ]
        },
        {
          "output_type": "stream",
          "name": "stdout",
          "text": [
            "train Loss: 0.8363 Acc: 0.8711\n"
          ]
        },
        {
          "output_type": "stream",
          "name": "stderr",
          "text": [
            "100%|██████████| 24/24 [00:04<00:00,  4.97it/s]\n"
          ]
        },
        {
          "output_type": "stream",
          "name": "stdout",
          "text": [
            "val Loss: 0.8576 Acc: 0.8564\n",
            "\n",
            "Epoch 31/99\n",
            "----------\n"
          ]
        },
        {
          "output_type": "stream",
          "name": "stderr",
          "text": [
            "100%|██████████| 15/15 [00:37<00:00,  2.51s/it]\n"
          ]
        },
        {
          "output_type": "stream",
          "name": "stdout",
          "text": [
            "train Loss: 0.8352 Acc: 0.8678\n"
          ]
        },
        {
          "output_type": "stream",
          "name": "stderr",
          "text": [
            "100%|██████████| 24/24 [00:04<00:00,  4.91it/s]\n"
          ]
        },
        {
          "output_type": "stream",
          "name": "stdout",
          "text": [
            "val Loss: 0.9453 Acc: 0.8374\n",
            "\n",
            "Epoch 32/99\n",
            "----------\n"
          ]
        },
        {
          "output_type": "stream",
          "name": "stderr",
          "text": [
            "100%|██████████| 15/15 [00:37<00:00,  2.51s/it]\n"
          ]
        },
        {
          "output_type": "stream",
          "name": "stdout",
          "text": [
            "train Loss: 0.8869 Acc: 0.8321\n"
          ]
        },
        {
          "output_type": "stream",
          "name": "stderr",
          "text": [
            "100%|██████████| 24/24 [00:04<00:00,  4.87it/s]\n"
          ]
        },
        {
          "output_type": "stream",
          "name": "stdout",
          "text": [
            "val Loss: 0.8912 Acc: 0.8374\n",
            "\n",
            "Epoch 33/99\n",
            "----------\n"
          ]
        },
        {
          "output_type": "stream",
          "name": "stderr",
          "text": [
            "100%|██████████| 15/15 [00:37<00:00,  2.52s/it]\n"
          ]
        },
        {
          "output_type": "stream",
          "name": "stdout",
          "text": [
            "train Loss: 0.8461 Acc: 0.8581\n"
          ]
        },
        {
          "output_type": "stream",
          "name": "stderr",
          "text": [
            "100%|██████████| 24/24 [00:05<00:00,  4.74it/s]\n"
          ]
        },
        {
          "output_type": "stream",
          "name": "stdout",
          "text": [
            "val Loss: 0.8590 Acc: 0.8591\n",
            "\n",
            "Epoch 34/99\n",
            "----------\n"
          ]
        },
        {
          "output_type": "stream",
          "name": "stderr",
          "text": [
            "100%|██████████| 15/15 [00:37<00:00,  2.50s/it]\n"
          ]
        },
        {
          "output_type": "stream",
          "name": "stdout",
          "text": [
            "train Loss: 0.7609 Acc: 0.9036\n"
          ]
        },
        {
          "output_type": "stream",
          "name": "stderr",
          "text": [
            "100%|██████████| 24/24 [00:05<00:00,  4.69it/s]\n"
          ]
        },
        {
          "output_type": "stream",
          "name": "stdout",
          "text": [
            "val Loss: 0.8267 Acc: 0.8564\n",
            "\n",
            "Epoch 35/99\n",
            "----------\n"
          ]
        },
        {
          "output_type": "stream",
          "name": "stderr",
          "text": [
            "100%|██████████| 15/15 [00:37<00:00,  2.51s/it]\n"
          ]
        },
        {
          "output_type": "stream",
          "name": "stdout",
          "text": [
            "train Loss: 0.7473 Acc: 0.9003\n"
          ]
        },
        {
          "output_type": "stream",
          "name": "stderr",
          "text": [
            "100%|██████████| 24/24 [00:05<00:00,  4.69it/s]\n"
          ]
        },
        {
          "output_type": "stream",
          "name": "stdout",
          "text": [
            "val Loss: 0.8600 Acc: 0.8347\n",
            "\n",
            "Epoch 36/99\n",
            "----------\n"
          ]
        },
        {
          "output_type": "stream",
          "name": "stderr",
          "text": [
            "100%|██████████| 15/15 [00:37<00:00,  2.52s/it]\n"
          ]
        },
        {
          "output_type": "stream",
          "name": "stdout",
          "text": [
            "train Loss: 0.7669 Acc: 0.8927\n"
          ]
        },
        {
          "output_type": "stream",
          "name": "stderr",
          "text": [
            "100%|██████████| 24/24 [00:05<00:00,  4.70it/s]\n"
          ]
        },
        {
          "output_type": "stream",
          "name": "stdout",
          "text": [
            "val Loss: 0.8377 Acc: 0.8509\n",
            "\n",
            "Epoch 37/99\n",
            "----------\n"
          ]
        },
        {
          "output_type": "stream",
          "name": "stderr",
          "text": [
            "100%|██████████| 15/15 [00:37<00:00,  2.51s/it]\n"
          ]
        },
        {
          "output_type": "stream",
          "name": "stdout",
          "text": [
            "train Loss: 0.7315 Acc: 0.9166\n"
          ]
        },
        {
          "output_type": "stream",
          "name": "stderr",
          "text": [
            "100%|██████████| 24/24 [00:05<00:00,  4.78it/s]\n"
          ]
        },
        {
          "output_type": "stream",
          "name": "stdout",
          "text": [
            "val Loss: 0.8395 Acc: 0.8591\n",
            "\n",
            "Epoch 38/99\n",
            "----------\n"
          ]
        },
        {
          "output_type": "stream",
          "name": "stderr",
          "text": [
            "100%|██████████| 15/15 [00:37<00:00,  2.50s/it]\n"
          ]
        },
        {
          "output_type": "stream",
          "name": "stdout",
          "text": [
            "train Loss: 0.7442 Acc: 0.8992\n"
          ]
        },
        {
          "output_type": "stream",
          "name": "stderr",
          "text": [
            "100%|██████████| 24/24 [00:04<00:00,  4.83it/s]\n"
          ]
        },
        {
          "output_type": "stream",
          "name": "stdout",
          "text": [
            "val Loss: 0.8529 Acc: 0.8564\n",
            "\n",
            "Epoch 39/99\n",
            "----------\n"
          ]
        },
        {
          "output_type": "stream",
          "name": "stderr",
          "text": [
            "100%|██████████| 15/15 [00:37<00:00,  2.51s/it]\n"
          ]
        },
        {
          "output_type": "stream",
          "name": "stdout",
          "text": [
            "train Loss: 0.7497 Acc: 0.9025\n"
          ]
        },
        {
          "output_type": "stream",
          "name": "stderr",
          "text": [
            "100%|██████████| 24/24 [00:04<00:00,  4.90it/s]\n"
          ]
        },
        {
          "output_type": "stream",
          "name": "stdout",
          "text": [
            "val Loss: 0.8123 Acc: 0.8699\n",
            "\n",
            "Epoch 40/99\n",
            "----------\n"
          ]
        },
        {
          "output_type": "stream",
          "name": "stderr",
          "text": [
            "100%|██████████| 15/15 [00:37<00:00,  2.51s/it]\n"
          ]
        },
        {
          "output_type": "stream",
          "name": "stdout",
          "text": [
            "train Loss: 0.7823 Acc: 0.8754\n"
          ]
        },
        {
          "output_type": "stream",
          "name": "stderr",
          "text": [
            "100%|██████████| 24/24 [00:04<00:00,  4.97it/s]\n"
          ]
        },
        {
          "output_type": "stream",
          "name": "stdout",
          "text": [
            "val Loss: 0.9637 Acc: 0.8022\n",
            "\n",
            "Epoch 41/99\n",
            "----------\n"
          ]
        },
        {
          "output_type": "stream",
          "name": "stderr",
          "text": [
            "100%|██████████| 15/15 [00:37<00:00,  2.51s/it]\n"
          ]
        },
        {
          "output_type": "stream",
          "name": "stdout",
          "text": [
            "train Loss: 0.8268 Acc: 0.8462\n"
          ]
        },
        {
          "output_type": "stream",
          "name": "stderr",
          "text": [
            "100%|██████████| 24/24 [00:04<00:00,  5.01it/s]\n"
          ]
        },
        {
          "output_type": "stream",
          "name": "stdout",
          "text": [
            "val Loss: 0.8628 Acc: 0.8428\n",
            "\n",
            "Epoch 42/99\n",
            "----------\n"
          ]
        },
        {
          "output_type": "stream",
          "name": "stderr",
          "text": [
            "100%|██████████| 15/15 [00:37<00:00,  2.53s/it]\n"
          ]
        },
        {
          "output_type": "stream",
          "name": "stdout",
          "text": [
            "train Loss: 0.7681 Acc: 0.8884\n"
          ]
        },
        {
          "output_type": "stream",
          "name": "stderr",
          "text": [
            "100%|██████████| 24/24 [00:04<00:00,  5.00it/s]\n"
          ]
        },
        {
          "output_type": "stream",
          "name": "stdout",
          "text": [
            "val Loss: 0.8249 Acc: 0.8537\n",
            "\n",
            "Epoch 43/99\n",
            "----------\n"
          ]
        },
        {
          "output_type": "stream",
          "name": "stderr",
          "text": [
            "100%|██████████| 15/15 [00:37<00:00,  2.52s/it]\n"
          ]
        },
        {
          "output_type": "stream",
          "name": "stdout",
          "text": [
            "train Loss: 0.7515 Acc: 0.9068\n"
          ]
        },
        {
          "output_type": "stream",
          "name": "stderr",
          "text": [
            "100%|██████████| 24/24 [00:04<00:00,  5.00it/s]\n"
          ]
        },
        {
          "output_type": "stream",
          "name": "stdout",
          "text": [
            "val Loss: 0.7794 Acc: 0.8862\n",
            "\n",
            "Epoch 44/99\n",
            "----------\n"
          ]
        },
        {
          "output_type": "stream",
          "name": "stderr",
          "text": [
            "100%|██████████| 15/15 [00:37<00:00,  2.52s/it]\n"
          ]
        },
        {
          "output_type": "stream",
          "name": "stdout",
          "text": [
            "train Loss: 0.7201 Acc: 0.9068\n"
          ]
        },
        {
          "output_type": "stream",
          "name": "stderr",
          "text": [
            "100%|██████████| 24/24 [00:04<00:00,  5.03it/s]\n"
          ]
        },
        {
          "output_type": "stream",
          "name": "stdout",
          "text": [
            "val Loss: 0.8362 Acc: 0.8645\n",
            "\n",
            "Epoch 45/99\n",
            "----------\n"
          ]
        },
        {
          "output_type": "stream",
          "name": "stderr",
          "text": [
            "100%|██████████| 15/15 [00:37<00:00,  2.52s/it]\n"
          ]
        },
        {
          "output_type": "stream",
          "name": "stdout",
          "text": [
            "train Loss: 0.7193 Acc: 0.9112\n"
          ]
        },
        {
          "output_type": "stream",
          "name": "stderr",
          "text": [
            "100%|██████████| 24/24 [00:04<00:00,  5.00it/s]\n"
          ]
        },
        {
          "output_type": "stream",
          "name": "stdout",
          "text": [
            "val Loss: 0.8165 Acc: 0.8780\n",
            "\n",
            "Epoch 46/99\n",
            "----------\n"
          ]
        },
        {
          "output_type": "stream",
          "name": "stderr",
          "text": [
            "100%|██████████| 15/15 [00:37<00:00,  2.51s/it]\n"
          ]
        },
        {
          "output_type": "stream",
          "name": "stdout",
          "text": [
            "train Loss: 0.6867 Acc: 0.9263\n"
          ]
        },
        {
          "output_type": "stream",
          "name": "stderr",
          "text": [
            "100%|██████████| 24/24 [00:04<00:00,  4.99it/s]\n"
          ]
        },
        {
          "output_type": "stream",
          "name": "stdout",
          "text": [
            "val Loss: 0.8269 Acc: 0.8780\n",
            "\n",
            "Epoch 47/99\n",
            "----------\n"
          ]
        },
        {
          "output_type": "stream",
          "name": "stderr",
          "text": [
            "100%|██████████| 15/15 [00:37<00:00,  2.51s/it]\n"
          ]
        },
        {
          "output_type": "stream",
          "name": "stdout",
          "text": [
            "train Loss: 0.7341 Acc: 0.9014\n"
          ]
        },
        {
          "output_type": "stream",
          "name": "stderr",
          "text": [
            "100%|██████████| 24/24 [00:04<00:00,  4.99it/s]\n"
          ]
        },
        {
          "output_type": "stream",
          "name": "stdout",
          "text": [
            "val Loss: 0.7854 Acc: 0.8808\n",
            "\n",
            "Epoch 48/99\n",
            "----------\n"
          ]
        },
        {
          "output_type": "stream",
          "name": "stderr",
          "text": [
            "100%|██████████| 15/15 [00:38<00:00,  2.54s/it]\n"
          ]
        },
        {
          "output_type": "stream",
          "name": "stdout",
          "text": [
            "train Loss: 0.6992 Acc: 0.9177\n"
          ]
        },
        {
          "output_type": "stream",
          "name": "stderr",
          "text": [
            "100%|██████████| 24/24 [00:04<00:00,  5.03it/s]\n"
          ]
        },
        {
          "output_type": "stream",
          "name": "stdout",
          "text": [
            "val Loss: 0.7464 Acc: 0.9024\n",
            "\n",
            "Epoch 49/99\n",
            "----------\n"
          ]
        },
        {
          "output_type": "stream",
          "name": "stderr",
          "text": [
            "100%|██████████| 15/15 [00:37<00:00,  2.52s/it]\n"
          ]
        },
        {
          "output_type": "stream",
          "name": "stdout",
          "text": [
            "train Loss: 0.6764 Acc: 0.9350\n"
          ]
        },
        {
          "output_type": "stream",
          "name": "stderr",
          "text": [
            "100%|██████████| 24/24 [00:04<00:00,  4.98it/s]\n"
          ]
        },
        {
          "output_type": "stream",
          "name": "stdout",
          "text": [
            "val Loss: 0.7857 Acc: 0.8889\n",
            "\n",
            "Epoch 50/99\n",
            "----------\n"
          ]
        },
        {
          "output_type": "stream",
          "name": "stderr",
          "text": [
            "100%|██████████| 15/15 [00:37<00:00,  2.52s/it]\n"
          ]
        },
        {
          "output_type": "stream",
          "name": "stdout",
          "text": [
            "train Loss: 0.7260 Acc: 0.9101\n"
          ]
        },
        {
          "output_type": "stream",
          "name": "stderr",
          "text": [
            "100%|██████████| 24/24 [00:04<00:00,  4.95it/s]\n"
          ]
        },
        {
          "output_type": "stream",
          "name": "stdout",
          "text": [
            "val Loss: 0.7971 Acc: 0.8916\n",
            "\n",
            "Epoch 51/99\n",
            "----------\n"
          ]
        },
        {
          "output_type": "stream",
          "name": "stderr",
          "text": [
            "100%|██████████| 15/15 [00:37<00:00,  2.52s/it]\n"
          ]
        },
        {
          "output_type": "stream",
          "name": "stdout",
          "text": [
            "train Loss: 0.6743 Acc: 0.9220\n"
          ]
        },
        {
          "output_type": "stream",
          "name": "stderr",
          "text": [
            "100%|██████████| 24/24 [00:04<00:00,  5.01it/s]\n"
          ]
        },
        {
          "output_type": "stream",
          "name": "stdout",
          "text": [
            "val Loss: 0.8340 Acc: 0.8591\n",
            "\n",
            "Epoch 52/99\n",
            "----------\n"
          ]
        },
        {
          "output_type": "stream",
          "name": "stderr",
          "text": [
            "100%|██████████| 15/15 [00:37<00:00,  2.53s/it]\n"
          ]
        },
        {
          "output_type": "stream",
          "name": "stdout",
          "text": [
            "train Loss: 0.6847 Acc: 0.9274\n"
          ]
        },
        {
          "output_type": "stream",
          "name": "stderr",
          "text": [
            "100%|██████████| 24/24 [00:04<00:00,  4.93it/s]\n"
          ]
        },
        {
          "output_type": "stream",
          "name": "stdout",
          "text": [
            "val Loss: 0.7796 Acc: 0.8808\n",
            "\n",
            "Epoch 53/99\n",
            "----------\n"
          ]
        },
        {
          "output_type": "stream",
          "name": "stderr",
          "text": [
            "100%|██████████| 15/15 [00:37<00:00,  2.52s/it]\n"
          ]
        },
        {
          "output_type": "stream",
          "name": "stdout",
          "text": [
            "train Loss: 0.6789 Acc: 0.9252\n"
          ]
        },
        {
          "output_type": "stream",
          "name": "stderr",
          "text": [
            "100%|██████████| 24/24 [00:04<00:00,  4.84it/s]\n"
          ]
        },
        {
          "output_type": "stream",
          "name": "stdout",
          "text": [
            "val Loss: 0.8113 Acc: 0.8780\n",
            "\n",
            "Epoch 54/99\n",
            "----------\n"
          ]
        },
        {
          "output_type": "stream",
          "name": "stderr",
          "text": [
            "100%|██████████| 15/15 [00:37<00:00,  2.52s/it]\n"
          ]
        },
        {
          "output_type": "stream",
          "name": "stdout",
          "text": [
            "train Loss: 0.6548 Acc: 0.9372\n"
          ]
        },
        {
          "output_type": "stream",
          "name": "stderr",
          "text": [
            "100%|██████████| 24/24 [00:04<00:00,  4.80it/s]\n"
          ]
        },
        {
          "output_type": "stream",
          "name": "stdout",
          "text": [
            "val Loss: 0.7203 Acc: 0.9133\n",
            "\n",
            "Epoch 55/99\n",
            "----------\n"
          ]
        },
        {
          "output_type": "stream",
          "name": "stderr",
          "text": [
            "100%|██████████| 15/15 [00:37<00:00,  2.52s/it]\n"
          ]
        },
        {
          "output_type": "stream",
          "name": "stdout",
          "text": [
            "train Loss: 0.6859 Acc: 0.9231\n"
          ]
        },
        {
          "output_type": "stream",
          "name": "stderr",
          "text": [
            "100%|██████████| 24/24 [00:05<00:00,  4.75it/s]\n"
          ]
        },
        {
          "output_type": "stream",
          "name": "stdout",
          "text": [
            "val Loss: 0.7346 Acc: 0.8943\n",
            "\n",
            "Epoch 56/99\n",
            "----------\n"
          ]
        },
        {
          "output_type": "stream",
          "name": "stderr",
          "text": [
            "100%|██████████| 15/15 [00:37<00:00,  2.51s/it]\n"
          ]
        },
        {
          "output_type": "stream",
          "name": "stdout",
          "text": [
            "train Loss: 0.6671 Acc: 0.9274\n"
          ]
        },
        {
          "output_type": "stream",
          "name": "stderr",
          "text": [
            "100%|██████████| 24/24 [00:05<00:00,  4.67it/s]\n"
          ]
        },
        {
          "output_type": "stream",
          "name": "stdout",
          "text": [
            "val Loss: 0.7906 Acc: 0.8726\n",
            "\n",
            "Epoch 57/99\n",
            "----------\n"
          ]
        },
        {
          "output_type": "stream",
          "name": "stderr",
          "text": [
            "100%|██████████| 15/15 [00:37<00:00,  2.51s/it]\n"
          ]
        },
        {
          "output_type": "stream",
          "name": "stdout",
          "text": [
            "train Loss: 0.6316 Acc: 0.9502\n"
          ]
        },
        {
          "output_type": "stream",
          "name": "stderr",
          "text": [
            "100%|██████████| 24/24 [00:05<00:00,  4.65it/s]\n"
          ]
        },
        {
          "output_type": "stream",
          "name": "stdout",
          "text": [
            "val Loss: 0.7822 Acc: 0.8726\n",
            "\n",
            "Epoch 58/99\n",
            "----------\n"
          ]
        },
        {
          "output_type": "stream",
          "name": "stderr",
          "text": [
            "100%|██████████| 15/15 [00:37<00:00,  2.52s/it]\n"
          ]
        },
        {
          "output_type": "stream",
          "name": "stdout",
          "text": [
            "train Loss: 0.6345 Acc: 0.9491\n"
          ]
        },
        {
          "output_type": "stream",
          "name": "stderr",
          "text": [
            "100%|██████████| 24/24 [00:05<00:00,  4.72it/s]\n"
          ]
        },
        {
          "output_type": "stream",
          "name": "stdout",
          "text": [
            "val Loss: 0.7401 Acc: 0.9160\n",
            "\n",
            "Epoch 59/99\n",
            "----------\n"
          ]
        },
        {
          "output_type": "stream",
          "name": "stderr",
          "text": [
            "100%|██████████| 15/15 [00:37<00:00,  2.51s/it]\n"
          ]
        },
        {
          "output_type": "stream",
          "name": "stdout",
          "text": [
            "train Loss: 0.6349 Acc: 0.9415\n"
          ]
        },
        {
          "output_type": "stream",
          "name": "stderr",
          "text": [
            "100%|██████████| 24/24 [00:05<00:00,  4.80it/s]\n"
          ]
        },
        {
          "output_type": "stream",
          "name": "stdout",
          "text": [
            "val Loss: 0.8407 Acc: 0.8537\n",
            "\n",
            "Epoch 60/99\n",
            "----------\n"
          ]
        },
        {
          "output_type": "stream",
          "name": "stderr",
          "text": [
            "100%|██████████| 15/15 [00:37<00:00,  2.53s/it]\n"
          ]
        },
        {
          "output_type": "stream",
          "name": "stdout",
          "text": [
            "train Loss: 0.6477 Acc: 0.9426\n"
          ]
        },
        {
          "output_type": "stream",
          "name": "stderr",
          "text": [
            "100%|██████████| 24/24 [00:05<00:00,  4.49it/s]\n"
          ]
        },
        {
          "output_type": "stream",
          "name": "stdout",
          "text": [
            "val Loss: 0.8213 Acc: 0.8672\n",
            "\n",
            "Epoch 61/99\n",
            "----------\n"
          ]
        },
        {
          "output_type": "stream",
          "name": "stderr",
          "text": [
            "100%|██████████| 15/15 [00:37<00:00,  2.52s/it]\n"
          ]
        },
        {
          "output_type": "stream",
          "name": "stdout",
          "text": [
            "train Loss: 0.6737 Acc: 0.9198\n"
          ]
        },
        {
          "output_type": "stream",
          "name": "stderr",
          "text": [
            "100%|██████████| 24/24 [00:05<00:00,  4.50it/s]\n"
          ]
        },
        {
          "output_type": "stream",
          "name": "stdout",
          "text": [
            "val Loss: 0.8460 Acc: 0.8509\n",
            "\n",
            "Epoch 62/99\n",
            "----------\n"
          ]
        },
        {
          "output_type": "stream",
          "name": "stderr",
          "text": [
            "100%|██████████| 15/15 [00:37<00:00,  2.53s/it]\n"
          ]
        },
        {
          "output_type": "stream",
          "name": "stdout",
          "text": [
            "train Loss: 0.7176 Acc: 0.9057\n"
          ]
        },
        {
          "output_type": "stream",
          "name": "stderr",
          "text": [
            "100%|██████████| 24/24 [00:04<00:00,  4.85it/s]\n"
          ]
        },
        {
          "output_type": "stream",
          "name": "stdout",
          "text": [
            "val Loss: 0.7290 Acc: 0.8997\n",
            "\n",
            "Epoch 63/99\n",
            "----------\n"
          ]
        },
        {
          "output_type": "stream",
          "name": "stderr",
          "text": [
            "100%|██████████| 15/15 [00:38<00:00,  2.57s/it]\n"
          ]
        },
        {
          "output_type": "stream",
          "name": "stdout",
          "text": [
            "train Loss: 0.6284 Acc: 0.9567\n"
          ]
        },
        {
          "output_type": "stream",
          "name": "stderr",
          "text": [
            "100%|██████████| 24/24 [00:04<00:00,  4.94it/s]\n"
          ]
        },
        {
          "output_type": "stream",
          "name": "stdout",
          "text": [
            "val Loss: 0.7571 Acc: 0.8916\n",
            "\n",
            "Epoch 64/99\n",
            "----------\n"
          ]
        },
        {
          "output_type": "stream",
          "name": "stderr",
          "text": [
            "100%|██████████| 15/15 [00:38<00:00,  2.54s/it]\n"
          ]
        },
        {
          "output_type": "stream",
          "name": "stdout",
          "text": [
            "train Loss: 0.6273 Acc: 0.9545\n"
          ]
        },
        {
          "output_type": "stream",
          "name": "stderr",
          "text": [
            "100%|██████████| 24/24 [00:04<00:00,  4.92it/s]\n"
          ]
        },
        {
          "output_type": "stream",
          "name": "stdout",
          "text": [
            "val Loss: 0.7191 Acc: 0.9160\n",
            "\n",
            "Epoch 65/99\n",
            "----------\n"
          ]
        },
        {
          "output_type": "stream",
          "name": "stderr",
          "text": [
            "100%|██████████| 15/15 [00:38<00:00,  2.55s/it]\n"
          ]
        },
        {
          "output_type": "stream",
          "name": "stdout",
          "text": [
            "train Loss: 0.6131 Acc: 0.9567\n"
          ]
        },
        {
          "output_type": "stream",
          "name": "stderr",
          "text": [
            "100%|██████████| 24/24 [00:04<00:00,  4.95it/s]\n"
          ]
        },
        {
          "output_type": "stream",
          "name": "stdout",
          "text": [
            "val Loss: 0.7535 Acc: 0.8916\n",
            "\n",
            "Epoch 66/99\n",
            "----------\n"
          ]
        },
        {
          "output_type": "stream",
          "name": "stderr",
          "text": [
            "100%|██████████| 15/15 [00:38<00:00,  2.54s/it]\n"
          ]
        },
        {
          "output_type": "stream",
          "name": "stdout",
          "text": [
            "train Loss: 0.6007 Acc: 0.9610\n"
          ]
        },
        {
          "output_type": "stream",
          "name": "stderr",
          "text": [
            "100%|██████████| 24/24 [00:04<00:00,  4.92it/s]\n"
          ]
        },
        {
          "output_type": "stream",
          "name": "stdout",
          "text": [
            "val Loss: 0.7274 Acc: 0.9024\n",
            "\n",
            "Epoch 67/99\n",
            "----------\n"
          ]
        },
        {
          "output_type": "stream",
          "name": "stderr",
          "text": [
            "100%|██████████| 15/15 [00:38<00:00,  2.56s/it]\n"
          ]
        },
        {
          "output_type": "stream",
          "name": "stdout",
          "text": [
            "train Loss: 0.6081 Acc: 0.9632\n"
          ]
        },
        {
          "output_type": "stream",
          "name": "stderr",
          "text": [
            "100%|██████████| 24/24 [00:04<00:00,  4.93it/s]\n"
          ]
        },
        {
          "output_type": "stream",
          "name": "stdout",
          "text": [
            "val Loss: 0.7286 Acc: 0.9024\n",
            "\n",
            "Epoch 68/99\n",
            "----------\n"
          ]
        },
        {
          "output_type": "stream",
          "name": "stderr",
          "text": [
            "100%|██████████| 15/15 [00:38<00:00,  2.54s/it]\n"
          ]
        },
        {
          "output_type": "stream",
          "name": "stdout",
          "text": [
            "train Loss: 0.5848 Acc: 0.9751\n"
          ]
        },
        {
          "output_type": "stream",
          "name": "stderr",
          "text": [
            "100%|██████████| 24/24 [00:04<00:00,  4.95it/s]\n"
          ]
        },
        {
          "output_type": "stream",
          "name": "stdout",
          "text": [
            "val Loss: 0.7547 Acc: 0.8916\n",
            "\n",
            "Epoch 69/99\n",
            "----------\n"
          ]
        },
        {
          "output_type": "stream",
          "name": "stderr",
          "text": [
            "100%|██████████| 15/15 [00:38<00:00,  2.55s/it]\n"
          ]
        },
        {
          "output_type": "stream",
          "name": "stdout",
          "text": [
            "train Loss: 0.5930 Acc: 0.9599\n"
          ]
        },
        {
          "output_type": "stream",
          "name": "stderr",
          "text": [
            "100%|██████████| 24/24 [00:04<00:00,  4.88it/s]\n"
          ]
        },
        {
          "output_type": "stream",
          "name": "stdout",
          "text": [
            "val Loss: 0.7625 Acc: 0.8862\n",
            "\n",
            "Epoch 70/99\n",
            "----------\n"
          ]
        },
        {
          "output_type": "stream",
          "name": "stderr",
          "text": [
            "100%|██████████| 15/15 [00:38<00:00,  2.54s/it]\n"
          ]
        },
        {
          "output_type": "stream",
          "name": "stdout",
          "text": [
            "train Loss: 0.6325 Acc: 0.9437\n"
          ]
        },
        {
          "output_type": "stream",
          "name": "stderr",
          "text": [
            "100%|██████████| 24/24 [00:04<00:00,  4.83it/s]\n"
          ]
        },
        {
          "output_type": "stream",
          "name": "stdout",
          "text": [
            "val Loss: 0.7396 Acc: 0.8997\n",
            "\n",
            "Epoch 71/99\n",
            "----------\n"
          ]
        },
        {
          "output_type": "stream",
          "name": "stderr",
          "text": [
            "100%|██████████| 15/15 [00:38<00:00,  2.55s/it]\n"
          ]
        },
        {
          "output_type": "stream",
          "name": "stdout",
          "text": [
            "train Loss: 0.6768 Acc: 0.9242\n"
          ]
        },
        {
          "output_type": "stream",
          "name": "stderr",
          "text": [
            "100%|██████████| 24/24 [00:05<00:00,  4.70it/s]\n"
          ]
        },
        {
          "output_type": "stream",
          "name": "stdout",
          "text": [
            "val Loss: 0.7116 Acc: 0.9106\n",
            "\n",
            "Epoch 72/99\n",
            "----------\n"
          ]
        },
        {
          "output_type": "stream",
          "name": "stderr",
          "text": [
            "100%|██████████| 15/15 [00:38<00:00,  2.54s/it]\n"
          ]
        },
        {
          "output_type": "stream",
          "name": "stdout",
          "text": [
            "train Loss: 0.6098 Acc: 0.9545\n"
          ]
        },
        {
          "output_type": "stream",
          "name": "stderr",
          "text": [
            "100%|██████████| 24/24 [00:05<00:00,  4.65it/s]\n"
          ]
        },
        {
          "output_type": "stream",
          "name": "stdout",
          "text": [
            "val Loss: 0.7350 Acc: 0.8943\n",
            "\n",
            "Epoch 73/99\n",
            "----------\n"
          ]
        },
        {
          "output_type": "stream",
          "name": "stderr",
          "text": [
            "100%|██████████| 15/15 [00:38<00:00,  2.55s/it]\n"
          ]
        },
        {
          "output_type": "stream",
          "name": "stdout",
          "text": [
            "train Loss: 0.5851 Acc: 0.9707\n"
          ]
        },
        {
          "output_type": "stream",
          "name": "stderr",
          "text": [
            "100%|██████████| 24/24 [00:05<00:00,  4.71it/s]\n"
          ]
        },
        {
          "output_type": "stream",
          "name": "stdout",
          "text": [
            "val Loss: 0.7293 Acc: 0.9133\n",
            "\n",
            "Epoch 74/99\n",
            "----------\n"
          ]
        },
        {
          "output_type": "stream",
          "name": "stderr",
          "text": [
            "100%|██████████| 15/15 [00:38<00:00,  2.54s/it]\n"
          ]
        },
        {
          "output_type": "stream",
          "name": "stdout",
          "text": [
            "train Loss: 0.5781 Acc: 0.9697\n"
          ]
        },
        {
          "output_type": "stream",
          "name": "stderr",
          "text": [
            "100%|██████████| 24/24 [00:05<00:00,  4.67it/s]\n"
          ]
        },
        {
          "output_type": "stream",
          "name": "stdout",
          "text": [
            "val Loss: 0.7299 Acc: 0.9079\n",
            "\n",
            "Epoch 75/99\n",
            "----------\n"
          ]
        },
        {
          "output_type": "stream",
          "name": "stderr",
          "text": [
            "100%|██████████| 15/15 [00:38<00:00,  2.54s/it]\n"
          ]
        },
        {
          "output_type": "stream",
          "name": "stdout",
          "text": [
            "train Loss: 0.5980 Acc: 0.9664\n"
          ]
        },
        {
          "output_type": "stream",
          "name": "stderr",
          "text": [
            "100%|██████████| 24/24 [00:05<00:00,  4.59it/s]\n"
          ]
        },
        {
          "output_type": "stream",
          "name": "stdout",
          "text": [
            "val Loss: 0.6981 Acc: 0.9241\n",
            "\n",
            "Epoch 76/99\n",
            "----------\n"
          ]
        },
        {
          "output_type": "stream",
          "name": "stderr",
          "text": [
            "100%|██████████| 15/15 [00:38<00:00,  2.54s/it]\n"
          ]
        },
        {
          "output_type": "stream",
          "name": "stdout",
          "text": [
            "train Loss: 0.5723 Acc: 0.9751\n"
          ]
        },
        {
          "output_type": "stream",
          "name": "stderr",
          "text": [
            "100%|██████████| 24/24 [00:05<00:00,  4.79it/s]\n"
          ]
        },
        {
          "output_type": "stream",
          "name": "stdout",
          "text": [
            "val Loss: 0.7394 Acc: 0.8943\n",
            "\n",
            "Epoch 77/99\n",
            "----------\n"
          ]
        },
        {
          "output_type": "stream",
          "name": "stderr",
          "text": [
            "100%|██████████| 15/15 [00:38<00:00,  2.55s/it]\n"
          ]
        },
        {
          "output_type": "stream",
          "name": "stdout",
          "text": [
            "train Loss: 0.5634 Acc: 0.9762\n"
          ]
        },
        {
          "output_type": "stream",
          "name": "stderr",
          "text": [
            "100%|██████████| 24/24 [00:04<00:00,  4.90it/s]\n"
          ]
        },
        {
          "output_type": "stream",
          "name": "stdout",
          "text": [
            "val Loss: 0.7286 Acc: 0.8943\n",
            "\n",
            "Epoch 78/99\n",
            "----------\n"
          ]
        },
        {
          "output_type": "stream",
          "name": "stderr",
          "text": [
            "100%|██████████| 15/15 [00:38<00:00,  2.54s/it]\n"
          ]
        },
        {
          "output_type": "stream",
          "name": "stdout",
          "text": [
            "train Loss: 0.5727 Acc: 0.9740\n"
          ]
        },
        {
          "output_type": "stream",
          "name": "stderr",
          "text": [
            "100%|██████████| 24/24 [00:04<00:00,  4.94it/s]\n"
          ]
        },
        {
          "output_type": "stream",
          "name": "stdout",
          "text": [
            "val Loss: 0.7429 Acc: 0.9051\n",
            "\n",
            "Epoch 79/99\n",
            "----------\n"
          ]
        },
        {
          "output_type": "stream",
          "name": "stderr",
          "text": [
            "100%|██████████| 15/15 [00:38<00:00,  2.56s/it]\n"
          ]
        },
        {
          "output_type": "stream",
          "name": "stdout",
          "text": [
            "train Loss: 0.5813 Acc: 0.9577\n"
          ]
        },
        {
          "output_type": "stream",
          "name": "stderr",
          "text": [
            "100%|██████████| 24/24 [00:04<00:00,  4.95it/s]\n"
          ]
        },
        {
          "output_type": "stream",
          "name": "stdout",
          "text": [
            "val Loss: 0.6881 Acc: 0.9214\n",
            "\n",
            "Epoch 80/99\n",
            "----------\n"
          ]
        },
        {
          "output_type": "stream",
          "name": "stderr",
          "text": [
            "100%|██████████| 15/15 [00:38<00:00,  2.55s/it]\n"
          ]
        },
        {
          "output_type": "stream",
          "name": "stdout",
          "text": [
            "train Loss: 0.5878 Acc: 0.9707\n"
          ]
        },
        {
          "output_type": "stream",
          "name": "stderr",
          "text": [
            "100%|██████████| 24/24 [00:04<00:00,  4.95it/s]\n"
          ]
        },
        {
          "output_type": "stream",
          "name": "stdout",
          "text": [
            "val Loss: 0.7200 Acc: 0.8997\n",
            "\n",
            "Epoch 81/99\n",
            "----------\n"
          ]
        },
        {
          "output_type": "stream",
          "name": "stderr",
          "text": [
            "100%|██████████| 15/15 [00:38<00:00,  2.54s/it]\n"
          ]
        },
        {
          "output_type": "stream",
          "name": "stdout",
          "text": [
            "train Loss: 0.5849 Acc: 0.9697\n"
          ]
        },
        {
          "output_type": "stream",
          "name": "stderr",
          "text": [
            "100%|██████████| 24/24 [00:04<00:00,  4.94it/s]\n"
          ]
        },
        {
          "output_type": "stream",
          "name": "stdout",
          "text": [
            "val Loss: 0.7418 Acc: 0.8943\n",
            "\n",
            "Epoch 82/99\n",
            "----------\n"
          ]
        },
        {
          "output_type": "stream",
          "name": "stderr",
          "text": [
            "100%|██████████| 15/15 [00:38<00:00,  2.55s/it]\n"
          ]
        },
        {
          "output_type": "stream",
          "name": "stdout",
          "text": [
            "train Loss: 0.5656 Acc: 0.9772\n"
          ]
        },
        {
          "output_type": "stream",
          "name": "stderr",
          "text": [
            "100%|██████████| 24/24 [00:04<00:00,  4.90it/s]\n"
          ]
        },
        {
          "output_type": "stream",
          "name": "stdout",
          "text": [
            "val Loss: 0.7650 Acc: 0.8835\n",
            "\n",
            "Epoch 83/99\n",
            "----------\n"
          ]
        },
        {
          "output_type": "stream",
          "name": "stderr",
          "text": [
            "100%|██████████| 15/15 [00:38<00:00,  2.54s/it]\n"
          ]
        },
        {
          "output_type": "stream",
          "name": "stdout",
          "text": [
            "train Loss: 0.5789 Acc: 0.9686\n"
          ]
        },
        {
          "output_type": "stream",
          "name": "stderr",
          "text": [
            "100%|██████████| 24/24 [00:05<00:00,  4.77it/s]\n"
          ]
        },
        {
          "output_type": "stream",
          "name": "stdout",
          "text": [
            "val Loss: 0.7022 Acc: 0.9160\n",
            "\n",
            "Epoch 84/99\n",
            "----------\n"
          ]
        },
        {
          "output_type": "stream",
          "name": "stderr",
          "text": [
            "100%|██████████| 15/15 [00:38<00:00,  2.54s/it]\n"
          ]
        },
        {
          "output_type": "stream",
          "name": "stdout",
          "text": [
            "train Loss: 0.5538 Acc: 0.9783\n"
          ]
        },
        {
          "output_type": "stream",
          "name": "stderr",
          "text": [
            "100%|██████████| 24/24 [00:05<00:00,  4.75it/s]\n"
          ]
        },
        {
          "output_type": "stream",
          "name": "stdout",
          "text": [
            "val Loss: 0.7263 Acc: 0.9133\n",
            "\n",
            "Epoch 85/99\n",
            "----------\n"
          ]
        },
        {
          "output_type": "stream",
          "name": "stderr",
          "text": [
            "100%|██████████| 15/15 [00:38<00:00,  2.56s/it]\n"
          ]
        },
        {
          "output_type": "stream",
          "name": "stdout",
          "text": [
            "train Loss: 0.5690 Acc: 0.9740\n"
          ]
        },
        {
          "output_type": "stream",
          "name": "stderr",
          "text": [
            "100%|██████████| 24/24 [00:04<00:00,  4.91it/s]\n"
          ]
        },
        {
          "output_type": "stream",
          "name": "stdout",
          "text": [
            "val Loss: 0.7129 Acc: 0.9214\n",
            "\n",
            "Epoch 86/99\n",
            "----------\n"
          ]
        },
        {
          "output_type": "stream",
          "name": "stderr",
          "text": [
            "100%|██████████| 15/15 [00:38<00:00,  2.55s/it]\n"
          ]
        },
        {
          "output_type": "stream",
          "name": "stdout",
          "text": [
            "train Loss: 0.5547 Acc: 0.9783\n"
          ]
        },
        {
          "output_type": "stream",
          "name": "stderr",
          "text": [
            "100%|██████████| 24/24 [00:05<00:00,  4.79it/s]\n"
          ]
        },
        {
          "output_type": "stream",
          "name": "stdout",
          "text": [
            "val Loss: 0.7317 Acc: 0.9051\n",
            "\n",
            "Epoch 87/99\n",
            "----------\n"
          ]
        },
        {
          "output_type": "stream",
          "name": "stderr",
          "text": [
            "100%|██████████| 15/15 [00:38<00:00,  2.55s/it]\n"
          ]
        },
        {
          "output_type": "stream",
          "name": "stdout",
          "text": [
            "train Loss: 0.5662 Acc: 0.9740\n"
          ]
        },
        {
          "output_type": "stream",
          "name": "stderr",
          "text": [
            "100%|██████████| 24/24 [00:05<00:00,  4.66it/s]\n"
          ]
        },
        {
          "output_type": "stream",
          "name": "stdout",
          "text": [
            "val Loss: 0.7022 Acc: 0.9160\n",
            "\n",
            "Epoch 88/99\n",
            "----------\n"
          ]
        },
        {
          "output_type": "stream",
          "name": "stderr",
          "text": [
            "100%|██████████| 15/15 [00:38<00:00,  2.54s/it]\n"
          ]
        },
        {
          "output_type": "stream",
          "name": "stdout",
          "text": [
            "train Loss: 0.5581 Acc: 0.9783\n"
          ]
        },
        {
          "output_type": "stream",
          "name": "stderr",
          "text": [
            "100%|██████████| 24/24 [00:05<00:00,  4.59it/s]\n"
          ]
        },
        {
          "output_type": "stream",
          "name": "stdout",
          "text": [
            "val Loss: 0.7340 Acc: 0.9106\n",
            "\n",
            "Epoch 89/99\n",
            "----------\n"
          ]
        },
        {
          "output_type": "stream",
          "name": "stderr",
          "text": [
            "100%|██████████| 15/15 [00:38<00:00,  2.54s/it]\n"
          ]
        },
        {
          "output_type": "stream",
          "name": "stdout",
          "text": [
            "train Loss: 0.5529 Acc: 0.9783\n"
          ]
        },
        {
          "output_type": "stream",
          "name": "stderr",
          "text": [
            "100%|██████████| 24/24 [00:05<00:00,  4.62it/s]\n"
          ]
        },
        {
          "output_type": "stream",
          "name": "stdout",
          "text": [
            "val Loss: 0.7533 Acc: 0.8916\n",
            "\n",
            "Epoch 90/99\n",
            "----------\n"
          ]
        },
        {
          "output_type": "stream",
          "name": "stderr",
          "text": [
            "100%|██████████| 15/15 [00:38<00:00,  2.55s/it]\n"
          ]
        },
        {
          "output_type": "stream",
          "name": "stdout",
          "text": [
            "train Loss: 0.5813 Acc: 0.9632\n"
          ]
        },
        {
          "output_type": "stream",
          "name": "stderr",
          "text": [
            "100%|██████████| 24/24 [00:04<00:00,  4.81it/s]\n"
          ]
        },
        {
          "output_type": "stream",
          "name": "stdout",
          "text": [
            "val Loss: 0.8477 Acc: 0.8482\n",
            "\n",
            "Epoch 91/99\n",
            "----------\n"
          ]
        },
        {
          "output_type": "stream",
          "name": "stderr",
          "text": [
            "100%|██████████| 15/15 [00:38<00:00,  2.54s/it]\n"
          ]
        },
        {
          "output_type": "stream",
          "name": "stdout",
          "text": [
            "train Loss: 0.5624 Acc: 0.9762\n"
          ]
        },
        {
          "output_type": "stream",
          "name": "stderr",
          "text": [
            "100%|██████████| 24/24 [00:04<00:00,  4.91it/s]\n"
          ]
        },
        {
          "output_type": "stream",
          "name": "stdout",
          "text": [
            "val Loss: 0.8607 Acc: 0.8645\n",
            "\n",
            "Epoch 92/99\n",
            "----------\n"
          ]
        },
        {
          "output_type": "stream",
          "name": "stderr",
          "text": [
            "100%|██████████| 15/15 [00:38<00:00,  2.56s/it]\n"
          ]
        },
        {
          "output_type": "stream",
          "name": "stdout",
          "text": [
            "train Loss: 0.5822 Acc: 0.9697\n"
          ]
        },
        {
          "output_type": "stream",
          "name": "stderr",
          "text": [
            "100%|██████████| 24/24 [00:04<00:00,  4.90it/s]\n"
          ]
        },
        {
          "output_type": "stream",
          "name": "stdout",
          "text": [
            "val Loss: 0.7163 Acc: 0.9106\n",
            "\n",
            "Epoch 93/99\n",
            "----------\n"
          ]
        },
        {
          "output_type": "stream",
          "name": "stderr",
          "text": [
            "100%|██████████| 15/15 [00:38<00:00,  2.55s/it]\n"
          ]
        },
        {
          "output_type": "stream",
          "name": "stdout",
          "text": [
            "train Loss: 0.5819 Acc: 0.9653\n"
          ]
        },
        {
          "output_type": "stream",
          "name": "stderr",
          "text": [
            "100%|██████████| 24/24 [00:04<00:00,  4.93it/s]\n"
          ]
        },
        {
          "output_type": "stream",
          "name": "stdout",
          "text": [
            "val Loss: 0.7717 Acc: 0.8997\n",
            "\n",
            "Epoch 94/99\n",
            "----------\n"
          ]
        },
        {
          "output_type": "stream",
          "name": "stderr",
          "text": [
            "100%|██████████| 15/15 [00:38<00:00,  2.54s/it]\n"
          ]
        },
        {
          "output_type": "stream",
          "name": "stdout",
          "text": [
            "train Loss: 0.5649 Acc: 0.9675\n"
          ]
        },
        {
          "output_type": "stream",
          "name": "stderr",
          "text": [
            "100%|██████████| 24/24 [00:04<00:00,  4.96it/s]\n"
          ]
        },
        {
          "output_type": "stream",
          "name": "stdout",
          "text": [
            "val Loss: 0.7247 Acc: 0.9106\n",
            "\n",
            "Epoch 95/99\n",
            "----------\n"
          ]
        },
        {
          "output_type": "stream",
          "name": "stderr",
          "text": [
            "100%|██████████| 15/15 [00:38<00:00,  2.55s/it]\n"
          ]
        },
        {
          "output_type": "stream",
          "name": "stdout",
          "text": [
            "train Loss: 0.5509 Acc: 0.9783\n"
          ]
        },
        {
          "output_type": "stream",
          "name": "stderr",
          "text": [
            "100%|██████████| 24/24 [00:04<00:00,  4.93it/s]\n"
          ]
        },
        {
          "output_type": "stream",
          "name": "stdout",
          "text": [
            "val Loss: 0.7713 Acc: 0.9079\n",
            "\n",
            "Epoch 96/99\n",
            "----------\n"
          ]
        },
        {
          "output_type": "stream",
          "name": "stderr",
          "text": [
            "100%|██████████| 15/15 [00:38<00:00,  2.55s/it]\n"
          ]
        },
        {
          "output_type": "stream",
          "name": "stdout",
          "text": [
            "train Loss: 0.5536 Acc: 0.9805\n"
          ]
        },
        {
          "output_type": "stream",
          "name": "stderr",
          "text": [
            "100%|██████████| 24/24 [00:04<00:00,  4.87it/s]\n"
          ]
        },
        {
          "output_type": "stream",
          "name": "stdout",
          "text": [
            "val Loss: 0.6829 Acc: 0.9241\n",
            "\n",
            "Epoch 97/99\n",
            "----------\n"
          ]
        },
        {
          "output_type": "stream",
          "name": "stderr",
          "text": [
            "100%|██████████| 15/15 [00:38<00:00,  2.56s/it]\n"
          ]
        },
        {
          "output_type": "stream",
          "name": "stdout",
          "text": [
            "train Loss: 0.5335 Acc: 0.9892\n"
          ]
        },
        {
          "output_type": "stream",
          "name": "stderr",
          "text": [
            "100%|██████████| 24/24 [00:05<00:00,  4.65it/s]\n"
          ]
        },
        {
          "output_type": "stream",
          "name": "stdout",
          "text": [
            "val Loss: 0.7361 Acc: 0.9106\n",
            "\n",
            "Epoch 98/99\n",
            "----------\n"
          ]
        },
        {
          "output_type": "stream",
          "name": "stderr",
          "text": [
            "100%|██████████| 15/15 [00:38<00:00,  2.56s/it]\n"
          ]
        },
        {
          "output_type": "stream",
          "name": "stdout",
          "text": [
            "train Loss: 0.5510 Acc: 0.9827\n"
          ]
        },
        {
          "output_type": "stream",
          "name": "stderr",
          "text": [
            "100%|██████████| 24/24 [00:04<00:00,  4.84it/s]\n"
          ]
        },
        {
          "output_type": "stream",
          "name": "stdout",
          "text": [
            "val Loss: 0.7079 Acc: 0.9160\n",
            "\n",
            "Epoch 99/99\n",
            "----------\n"
          ]
        },
        {
          "output_type": "stream",
          "name": "stderr",
          "text": [
            "100%|██████████| 15/15 [00:38<00:00,  2.55s/it]\n"
          ]
        },
        {
          "output_type": "stream",
          "name": "stdout",
          "text": [
            "train Loss: 0.5411 Acc: 0.9837\n"
          ]
        },
        {
          "output_type": "stream",
          "name": "stderr",
          "text": [
            "100%|██████████| 24/24 [00:05<00:00,  4.66it/s]\n"
          ]
        },
        {
          "output_type": "stream",
          "name": "stdout",
          "text": [
            "val Loss: 0.8039 Acc: 0.8753\n",
            "\n",
            "Training complete in 71m 31s\n",
            "Best val Acc: 0.924119\n",
            "test Loss: 0.6778 Acc: 0.9188\n"
          ]
        }
      ],
      "source": [
        "class CustomDataset(Dataset):\n",
        "    def __init__(self, data, labels, transform=None):\n",
        "        self.data = data\n",
        "        self.labels = labels\n",
        "        self.transform = transform\n",
        "\n",
        "    def __len__(self):\n",
        "        return len(self.data)\n",
        "\n",
        "    def __getitem__(self, idx):\n",
        "        image = self.data[idx]\n",
        "        if self.transform:\n",
        "            image = self.transform(image)\n",
        "        label = self.labels[idx]\n",
        "        return image, label\n",
        "\n",
        "def load_data(directory, input_shape):\n",
        "    x = []\n",
        "    y = []\n",
        "    for class_name in os.listdir(directory):\n",
        "        class_dir = os.path.join(directory, class_name)\n",
        "        if os.path.isdir(class_dir):\n",
        "            for file_name in os.listdir(class_dir):\n",
        "                file_path = os.path.join(class_dir, file_name)\n",
        "                image = cv2.imread(file_path)\n",
        "                image = cv2.resize(image, (input_shape[1], input_shape[0]))\n",
        "                x.append(image)\n",
        "                y.append(class_name)\n",
        "    x = np.array(x)\n",
        "    y = np.array(y)\n",
        "    label_encoder = LabelEncoder()\n",
        "    y_encoded = label_encoder.fit_transform(y)\n",
        "    return x, y_encoded, label_encoder.classes_\n",
        "\n",
        "input_shape = (384, 384, 3)\n",
        "train_dir = '/content/drive/MyDrive/Chiro10/train_512'\n",
        "test_dir = '/content/drive/MyDrive/Chiro10/test_512'\n",
        "val_dir = '/content/drive/MyDrive/Chiro10/val_512'\n",
        "\n",
        "x_train, y_train, classes = load_data(train_dir, input_shape)\n",
        "x_test, y_test, _ = load_data(test_dir, input_shape)\n",
        "x_val, y_val, _ = load_data(val_dir, input_shape)\n",
        "\n",
        "print(f\"x_train shape: {x_train.shape} - y_train shape: {y_train.shape}\")\n",
        "print(f\"x_test shape: {x_test.shape} - y_test shape: {y_test.shape}\")\n",
        "print(f\"x_val shape: {x_val.shape} - y_val shape: {y_val.shape}\")\n",
        "\n",
        "transform = T.Compose([\n",
        "    T.ToPILImage(),\n",
        "    T.Resize((384, 384)),\n",
        "    T.RandomHorizontalFlip(),\n",
        "    T.RandomRotation(15),\n",
        "    T.ToTensor(),\n",
        "    T.Normalize((0.485, 0.456, 0.406), (0.229, 0.224, 0.225)),\n",
        "])\n",
        "\n",
        "\n",
        "\n",
        "train_dataset = CustomDataset(x_train, y_train, transform=transform)\n",
        "test_dataset = CustomDataset(x_test, y_test, transform=transform)\n",
        "val_dataset = CustomDataset(x_val, y_val, transform=transform)\n",
        "\n",
        "train_dataloader = DataLoader(train_dataset, batch_size=128, shuffle=True)\n",
        "val_dataloader = DataLoader(val_dataset, batch_size=32, shuffle=True)\n",
        "test_dataloader = DataLoader(test_dataset, batch_size=32, shuffle=True)\n",
        "\n",
        "dataloaders = {\n",
        "    \"train\": train_dataloader,\n",
        "    \"val\": val_dataloader\n",
        "}\n",
        "\n",
        "dataset_sizes = {\n",
        "    \"train\": len(train_dataset),\n",
        "    \"val\": len(val_dataset)\n",
        "}\n",
        "\n",
        "device = torch.device('cuda' if torch.cuda.is_available() else 'cpu')\n",
        "#vit_base_patch16_224 64 32 32\n",
        "model = timm.create_model('deit3_tiny_patch16_384', pretrained=False)\n",
        "model.head = nn.Linear(model.head.in_features, len(classes))\n",
        "model = model.to(device)\n",
        "\n",
        "criterion = LabelSmoothingCrossEntropy()\n",
        "criterion = criterion.to(device)\n",
        "optimizer = optim.Adam(model.parameters(), lr=0.001)\n",
        "\n",
        "exp_lr_scheduler = optim.lr_scheduler.StepLR(optimizer, step_size=3, gamma=0.97)\n",
        "\n",
        "def train_model(model, criterion, optimizer, scheduler, num_epochs=100):\n",
        "    since = time.time()\n",
        "    best_model_wts = copy.deepcopy(model.state_dict())\n",
        "    best_acc = 0.0\n",
        "\n",
        "    for epoch in range(num_epochs):\n",
        "        print(f'Epoch {epoch}/{num_epochs - 1}')\n",
        "        print(\"-\"*10)\n",
        "\n",
        "        for phase in ['train', 'val']:\n",
        "            if phase == 'train':\n",
        "                model.train()\n",
        "            else:\n",
        "                model.eval()\n",
        "\n",
        "            running_loss = 0.0\n",
        "            running_corrects = 0.0\n",
        "\n",
        "            for inputs, labels in tqdm(dataloaders[phase]):\n",
        "                inputs = inputs.to(device)\n",
        "                labels = labels.to(device)\n",
        "\n",
        "                optimizer.zero_grad()\n",
        "\n",
        "                with torch.set_grad_enabled(phase == 'train'):\n",
        "                    outputs = model(inputs)\n",
        "                    _, preds = torch.max(outputs, 1)\n",
        "                    loss = criterion(outputs, labels)\n",
        "\n",
        "                    if phase == 'train':\n",
        "                        loss.backward()\n",
        "                        optimizer.step()\n",
        "                running_loss += loss.item() * inputs.size(0)\n",
        "                running_corrects += torch.sum(preds == labels.data)\n",
        "\n",
        "            if phase == 'train':\n",
        "                scheduler.step()\n",
        "\n",
        "            epoch_loss = running_loss / dataset_sizes[phase]\n",
        "            epoch_acc =  running_corrects.double() / dataset_sizes[phase]\n",
        "\n",
        "            print(\"{} Loss: {:.4f} Acc: {:.4f}\".format(phase, epoch_loss, epoch_acc))\n",
        "\n",
        "            if phase == 'val' and epoch_acc > best_acc:\n",
        "                best_acc = epoch_acc\n",
        "                best_model_wts = copy.deepcopy(model.state_dict())\n",
        "        print()\n",
        "    time_elapsed = time.time() - since\n",
        "    print(f'Training complete in {time_elapsed//60:.0f}m {time_elapsed%60:.0f}s')\n",
        "    print(f'Best val Acc: {best_acc:4f}')\n",
        "\n",
        "    model.load_state_dict(best_model_wts)\n",
        "    return model\n",
        "\n",
        "def evaluate_model(model, criterion, dataloader):\n",
        "    model.eval()  # Set model to evaluate mode\n",
        "\n",
        "    running_loss = 0.0\n",
        "    running_corrects = 0\n",
        "\n",
        "    # Iterate over data.\n",
        "    for inputs, labels in dataloader:\n",
        "        inputs = inputs.to(device)\n",
        "        labels = labels.to(device)\n",
        "\n",
        "        # forward\n",
        "        with torch.no_grad():\n",
        "            outputs = model(inputs)\n",
        "            _, preds = torch.max(outputs, 1)\n",
        "            loss = criterion(outputs, labels)\n",
        "\n",
        "        # statistics\n",
        "        running_loss += loss.item() * inputs.size(0)\n",
        "        running_corrects += torch.sum(preds == labels.data)\n",
        "\n",
        "    epoch_loss = running_loss / len(dataloader.dataset)\n",
        "    epoch_acc = running_corrects.double() / len(dataloader.dataset)\n",
        "\n",
        "    print('{} Loss: {:.4f} Acc: {:.4f}'.format('test', epoch_loss, epoch_acc))\n",
        "\n",
        "\n",
        "\n",
        "model = train_model(model, criterion, optimizer, exp_lr_scheduler, num_epochs=100)\n",
        "evaluate_model(model, criterion, test_dataloader)\n",
        "torch.save(model.state_dict(), '/content/drive/MyDrive/deit3_small_patch16_224.pth')\n"
      ]
    },
    {
      "cell_type": "code",
      "source": [
        "def plot_confusion_matrix(model, dataloader):\n",
        "    model.eval()\n",
        "    true_labels = []\n",
        "    pred_labels = []\n",
        "\n",
        "    for inputs, labels in dataloader:\n",
        "        inputs = inputs.to(device)\n",
        "        labels = labels.to(device)\n",
        "\n",
        "        with torch.no_grad():\n",
        "            outputs = model(inputs)\n",
        "            _, preds = torch.max(outputs, 1)\n",
        "\n",
        "        true_labels.extend(labels.cpu().numpy())\n",
        "        pred_labels.extend(preds.cpu().numpy())\n",
        "\n",
        "    cm = confusion_matrix(true_labels, pred_labels)\n",
        "    plt.figure(figsize=(10,10))\n",
        "    sns.heatmap(cm, annot=True, fmt='d', cmap='Blues')\n",
        "    plt.xlabel('Predicted')\n",
        "    plt.ylabel('True')\n",
        "    plt.show()\n",
        "\n",
        "plot_confusion_matrix(model, test_dataloader)"
      ],
      "metadata": {
        "id": "jmT0_WQB8cNW",
        "colab": {
          "base_uri": "https://localhost:8080/",
          "height": 683
        },
        "outputId": "76ed9e97-ae0e-4461-9ec2-29b50db2f4e0"
      },
      "execution_count": 5,
      "outputs": [
        {
          "output_type": "display_data",
          "data": {
            "text/plain": [
              "<Figure size 1000x1000 with 2 Axes>"
            ],
            "image/png": "[encoded data removed]"
          },
          "metadata": {}
        }
      ]
    }
  ]
}